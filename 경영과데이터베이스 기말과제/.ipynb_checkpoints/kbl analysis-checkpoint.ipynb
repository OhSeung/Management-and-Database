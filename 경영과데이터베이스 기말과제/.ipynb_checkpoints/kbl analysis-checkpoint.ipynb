{
 "cells": [
  {
   "cell_type": "markdown",
   "metadata": {},
   "source": [
    "# 프로농구 경기 데이터를 통한 관중수 분석 "
   ]
  },
  {
   "cell_type": "markdown",
   "metadata": {},
   "source": [
    "### 1. 비즈니스 이해\n",
    "이 단계에서는 비즈니스 관점에서의 목표 및 경영진 요구사항을 파악한 다음 이 지식을 데이터 분석 문제정의로 변환하고,\n",
    "분석목표를 달성하기 위해 설계된 예비 계획에 중점을 둡니다."
   ]
  },
  {
   "cell_type": "markdown",
   "metadata": {},
   "source": [
    "##### Background :  \n",
    "\n",
    "프로농구는 현재 21주년을 맞이했다. 1997년에 시작을 해서 현재 2018년까지 꾸준히 운영이 되고 있는 구기 종목 리그 중에 하나이다. 1990년대, 농구대잔치의 엄청난 인기를 안고 KBL을 개최하였고, 이 후, 용병제도를 통해서 관객들에게 더 화려한 쇼맨십을 보여줄 수 있었다. 또한 아시안게임에서 금메달들을 따기도 하면서 인기를 더욱 올릴 수 있는 기회도 많아졌고, 예전보다 화려한 농구를 하려고 하는 젊은 선수들이 많이 유입이 되면서 더욱 재미를 느낄 수 있는 기회들이 많아졌다.\n",
    "\n",
    "   하지만 이런 다양한 요소들이 있음에도 불구하고, 프로농구를 직관하기 위해 경기장을 찾는 관중 수는 계속해서 줄어들고 있는 상황이다. 이번 시즌은 역대 제일 적은 수의 기록했다. 물론 미국의 NBA와 비해 우리나라 농구는 화려하지 않고 경기 수준이 낮은 편이지만, 수많은 농구팬들이 국내에 많이 존재하고 있다. \n",
    "    그러나 최근에 프로들의 실력, 심판들의 오심, 용병만을 이용하는 전술 등 너무 뻔한 경기 및 졸전을 펼치면서 팬들은 계속해서 떠나고 있고, 그것이 직관을 하러 온 관중 수에도 영향을 미치고 있다. 심지어 최근에는 불공정한 징계들이 등장해서 더욱 관객들의 눈살을 찌푸리게 하며 더 떠나고 있는 상황이다.\n",
    "\n",
    " KBL에 따르면 2017-2018 정관장 프로농구 정규리그의 경기당 평균 관중은 2796명으로 지금까지  KBL이 개최된 이후로 최소 관중 수다. 2013-2014시즌 4372명을 기록한 이래 4시즌 째 하향세다.\n",
    "\n",
    "[출처] - 국민일보 \n",
    "\n",
    "[원본링크] - http://news.kmib.co.kr/article/view.asp?arcid=0923920084&code=12130000&cp=n\n",
    "\n",
    "이런 상황에서 김영기 총재는 18~19시즌에는 \"장신 용병의 키를 2m이하로, 단신 용병은 186cm이하로 규정해서 더욱 빠른 농구를 통한 득점 증가로 관중을 많이 모으도록 하겠다.\"라는 말을 하면서 다음 시즌에는 2m이하의 용병들만 보게 되었다. 빠른 용병을 불러서 빠르게 득점하여 득점 증가로 인한 관중 수 증가 기대. 요즘 2m 이상의 빠른 선수들도 나오는 시대인데, 너무나도 생각이 구시대적 발상이 아닐 수 없다. 아무리 들어도 말도 안 되는 생각이다. 하지만 저 생각은 그 동안 진행이 된 시즌들을 분석해서 나온 방안이라고 얘기를 했다. 과연 저 생각이 데이터분석을 통해서 맞는 생각인지 한 번 볼 필요가 있다고 생각했다."
   ]
  },
  {
   "cell_type": "markdown",
   "metadata": {},
   "source": [
    "##### Business Objectives : \n",
    "\n",
    "   한국프로농구협회는 이런 관중 수의 감소를 막아야 한다. 4시즌 째 하향세인 KBL의 관중 수를 다시 늘리기 위해선 큰 개혁을 위한 ‘리브랜딩’ 또는 팬들의 니즈를 직접 파악하기 위한 설문조사를 해야 할 필요가 있지만, 그 전에 총재가 애기했던 용병의 키를 더 작게 하면 관중 수가 늘어날 수 있다고 얘기하고 있다. 이 제도가 관중을 모을 수 있을지가 의문인 상황에서 과거의 데이터를 바탕으로 관중이 많았을 때의 자료들을 분석해서 앞으로 적용이 될 제도가 타당한 지 확인할 필요가 있다. 많은 득점을 내는 것이 관중 수 증가에 영향을 미치는지 확인하기 위해 경기데이터를 분석해 볼 필요가 있다. 프로농구의 인기가 하락하는 이유들이 많이 언급이 되고 있지만, 정확한 자료들을 기반 하여 문제 요인을 확인을 할 필요가 있다."
   ]
  },
  {
   "cell_type": "markdown",
   "metadata": {},
   "source": [
    "##### Business Success Criteria :\n",
    "\n",
    "13~14시즌으로부터 이후 시즌인 14~15시즌에는 관중 수가  약 12.25%하락, 15~16시즌에는 12.69%하락, 16~17시즌에는 11.12%가 하락했다. 계속해서 하락하면서 현재는 어림잡아서 약 22.89%하락하면서 엄청난 하락세를 정량적으로도 보여주고 있다. 아시아 내에서의 좋은 성적, 선수들의 스타성, 늘어나고 있는 볼거리 등 많은 흥행요소들이 있지만 계속되는 하락세는 못 막고 있다. 총재는 빠른 용병유입으로 인한 득점 증가가 관중 증가에 영향을 미칠 것이라고 예상했는데, 이 말이 맞는지 득점과 관중 수의 상관관계, 득점에 영향을 미치는 요인들을 분석해서 찾아야 한다. 득점에 영향을 미칠 것으로 보이는 리바운드, 어시스트, 스틸, 3점 슛 성공 횟수 등을 회귀분석을 하여 r-square값이 0.05 이상이 되는 요인을 찾아서 총재가 말했던 말이 맞는지 검증을 할 필요가 있다. 그리고 정성적인 측면에서는 "
   ]
  },
  {
   "cell_type": "markdown",
   "metadata": {},
   "source": [
    "##### Analysis Goals : \n",
    "\n",
    "프로농구 관중 수가 평균득점과 정비례를 하는지, 그리고 평균 득점에 영향을 끼치는 요인들은 무엇인지를 확인해서 총재의 말이 맞는지 검증하는 것이 목표"
   ]
  },
  {
   "cell_type": "markdown",
   "metadata": {},
   "source": [
    "### 2. 데이터 이해\n",
    "\n",
    "데이터 이해 단계는 초기 데이터 수집부터 시작하여 데이터에 익숙해지고 데이터 품질 문제를 확인하며 데이터에 대한 첫 번째 통찰력을 발견하고 숨겨진 정보에 관한 가설을 구성하는 흥미로운 하위 집합을 발견할 수 있는 활동으로 진행됩니다."
   ]
  },
  {
   "cell_type": "markdown",
   "metadata": {},
   "source": [
    "##### Data Collection : \n",
    "데이터 수집은 KBL공식 홈페이지에 있는 많은 경기 기록 데이터들을 수집해서 엑셀로 먼저 분석한다. 평균득점, 리바운드, 어시스트, 성적 순위, 관중 수 등 다양한 자료들을 다 모집을 해서 분석을 한다. 엑셀을 통한 초기 분석을 통해서 파이썬에 이용해서 또 다시 분석을 하는 방법으로 분석을 할 예정 "
   ]
  },
  {
   "cell_type": "markdown",
   "metadata": {},
   "source": [
    "### 3. 데이터 준비\n",
    "\n",
    "데이터 준비 단계는 초기 로우 데이터에서 최종 데이터셋[분석에 필요한 데이터]을 구성하는 데 필요한 모든 작업을 포함합니다. 데이터 준비 작업은 지정된 순서가 아닌 여러 번 수행될 수 있습니다. 작업에는 테이블, 레코드, 특성 선택과 모델링 도구의 데이터 변환 및 정리가 포함됩니다."
   ]
  },
  {
   "cell_type": "markdown",
   "metadata": {},
   "source": [
    "### 4. 분석 \n",
    "\n",
    "이 단계에서는 다양한 분석 기법을 선택하여 적용합니다. 이 과정은 데이터 준비 단계로 돌아가 데이터셋을 조정하여 다시 분석하는 과정이 종종 필요합니다."
   ]
  },
  {
   "cell_type": "markdown",
   "metadata": {},
   "source": [
    " - 각 시즌 마다 용병룰이나 게임룰의 변화를 언급하면서 그래프를 분석함"
   ]
  },
  {
   "cell_type": "markdown",
   "metadata": {},
   "source": [
    " - 지금까지 분석한 자료들을 토대로 총재가 말했던 말이 맞는지 검토를 한 후 결론을 내린다."
   ]
  },
  {
   "cell_type": "markdown",
   "metadata": {},
   "source": [
    "# KBL 통계자료를 이용한 분석"
   ]
  },
  {
   "cell_type": "markdown",
   "metadata": {},
   "source": [
    "##### 필요한 모듈을 불러온다"
   ]
  },
  {
   "cell_type": "code",
   "execution_count": 598,
   "metadata": {},
   "outputs": [],
   "source": [
    "import pandas as pd\n",
    "import numpy as np\n",
    "import matplotlib.pyplot as plt\n",
    "# matplotlib에서 한글 폰트가 깨지는 문제를 해결하기 위하 코드\n",
    "from matplotlib import font_manager, rc\n",
    "font_name = font_manager.FontProperties(fname=\"c:/Windows/Fonts/malgun.ttf\").get_name()\n",
    "rc('font', family=font_name)"
   ]
  },
  {
   "cell_type": "markdown",
   "metadata": {},
   "source": [
    "##### 필요한 자료를 읽어온다"
   ]
  },
  {
   "cell_type": "code",
   "execution_count": 599,
   "metadata": {},
   "outputs": [
    {
     "data": {
      "text/html": [
       "<div>\n",
       "<style scoped>\n",
       "    .dataframe tbody tr th:only-of-type {\n",
       "        vertical-align: middle;\n",
       "    }\n",
       "\n",
       "    .dataframe tbody tr th {\n",
       "        vertical-align: top;\n",
       "    }\n",
       "\n",
       "    .dataframe thead th {\n",
       "        text-align: right;\n",
       "    }\n",
       "</style>\n",
       "<table border=\"1\" class=\"dataframe\">\n",
       "  <thead>\n",
       "    <tr style=\"text-align: right;\">\n",
       "      <th></th>\n",
       "      <th>팀</th>\n",
       "      <th>득점</th>\n",
       "      <th>리바운드</th>\n",
       "      <th>어시스트</th>\n",
       "      <th>스틸</th>\n",
       "      <th>블록</th>\n",
       "      <th>3점슛성공</th>\n",
       "      <th>2점슛 성공</th>\n",
       "      <th>자유투 성공</th>\n",
       "      <th>2점슛 성공률 (%)</th>\n",
       "      <th>...</th>\n",
       "      <th>w/FT</th>\n",
       "      <th>w/oFT</th>\n",
       "      <th>Tot.</th>\n",
       "      <th>TF</th>\n",
       "      <th>DK</th>\n",
       "      <th>DKA</th>\n",
       "      <th>교체</th>\n",
       "      <th>시즌</th>\n",
       "      <th>팀 순위</th>\n",
       "      <th>관중 수</th>\n",
       "    </tr>\n",
       "  </thead>\n",
       "  <tbody>\n",
       "    <tr>\n",
       "      <th>0</th>\n",
       "      <td>안양KGC</td>\n",
       "      <td>84.1</td>\n",
       "      <td>36.7</td>\n",
       "      <td>20.9</td>\n",
       "      <td>8.7</td>\n",
       "      <td>4.1</td>\n",
       "      <td>5.8</td>\n",
       "      <td>27.9</td>\n",
       "      <td>10.9</td>\n",
       "      <td>55.55</td>\n",
       "      <td>...</td>\n",
       "      <td>436</td>\n",
       "      <td>493</td>\n",
       "      <td>929</td>\n",
       "      <td>8</td>\n",
       "      <td>132</td>\n",
       "      <td>144</td>\n",
       "      <td>1104</td>\n",
       "      <td>2016</td>\n",
       "      <td>1</td>\n",
       "      <td>81179</td>\n",
       "    </tr>\n",
       "    <tr>\n",
       "      <th>1</th>\n",
       "      <td>서울삼성</td>\n",
       "      <td>84.1</td>\n",
       "      <td>39.2</td>\n",
       "      <td>20.0</td>\n",
       "      <td>7.1</td>\n",
       "      <td>3.0</td>\n",
       "      <td>5.4</td>\n",
       "      <td>27.8</td>\n",
       "      <td>12.2</td>\n",
       "      <td>54.23</td>\n",
       "      <td>...</td>\n",
       "      <td>472</td>\n",
       "      <td>523</td>\n",
       "      <td>995</td>\n",
       "      <td>17</td>\n",
       "      <td>66</td>\n",
       "      <td>79</td>\n",
       "      <td>1063</td>\n",
       "      <td>2016</td>\n",
       "      <td>3</td>\n",
       "      <td>113071</td>\n",
       "    </tr>\n",
       "    <tr>\n",
       "      <th>2</th>\n",
       "      <td>창원LG</td>\n",
       "      <td>78.1</td>\n",
       "      <td>36.9</td>\n",
       "      <td>17.3</td>\n",
       "      <td>7.9</td>\n",
       "      <td>3.0</td>\n",
       "      <td>5.6</td>\n",
       "      <td>25.0</td>\n",
       "      <td>11.2</td>\n",
       "      <td>52.66</td>\n",
       "      <td>...</td>\n",
       "      <td>449</td>\n",
       "      <td>492</td>\n",
       "      <td>941</td>\n",
       "      <td>7</td>\n",
       "      <td>103</td>\n",
       "      <td>113</td>\n",
       "      <td>1100</td>\n",
       "      <td>2016</td>\n",
       "      <td>8</td>\n",
       "      <td>100231</td>\n",
       "    </tr>\n",
       "    <tr>\n",
       "      <th>3</th>\n",
       "      <td>고양오리온</td>\n",
       "      <td>82.8</td>\n",
       "      <td>35.9</td>\n",
       "      <td>18.8</td>\n",
       "      <td>7.5</td>\n",
       "      <td>2.6</td>\n",
       "      <td>7.4</td>\n",
       "      <td>24.9</td>\n",
       "      <td>10.9</td>\n",
       "      <td>52.57</td>\n",
       "      <td>...</td>\n",
       "      <td>463</td>\n",
       "      <td>504</td>\n",
       "      <td>967</td>\n",
       "      <td>11</td>\n",
       "      <td>38</td>\n",
       "      <td>39</td>\n",
       "      <td>1113</td>\n",
       "      <td>2016</td>\n",
       "      <td>2</td>\n",
       "      <td>77072</td>\n",
       "    </tr>\n",
       "    <tr>\n",
       "      <th>4</th>\n",
       "      <td>인천전자랜드</td>\n",
       "      <td>78.3</td>\n",
       "      <td>38.1</td>\n",
       "      <td>19.5</td>\n",
       "      <td>8.3</td>\n",
       "      <td>3.4</td>\n",
       "      <td>6.5</td>\n",
       "      <td>24.7</td>\n",
       "      <td>9.4</td>\n",
       "      <td>50.97</td>\n",
       "      <td>...</td>\n",
       "      <td>507</td>\n",
       "      <td>524</td>\n",
       "      <td>1031</td>\n",
       "      <td>5</td>\n",
       "      <td>84</td>\n",
       "      <td>94</td>\n",
       "      <td>997</td>\n",
       "      <td>2016</td>\n",
       "      <td>6</td>\n",
       "      <td>122304</td>\n",
       "    </tr>\n",
       "  </tbody>\n",
       "</table>\n",
       "<p>5 rows × 23 columns</p>\n",
       "</div>"
      ],
      "text/plain": [
       "        팀    득점  리바운드  어시스트   스틸   블록  3점슛성공  2점슛 성공  자유투 성공  2점슛 성공률 (%)  \\\n",
       "0   안양KGC  84.1  36.7  20.9  8.7  4.1    5.8    27.9    10.9        55.55   \n",
       "1    서울삼성  84.1  39.2  20.0  7.1  3.0    5.4    27.8    12.2        54.23   \n",
       "2    창원LG  78.1  36.9  17.3  7.9  3.0    5.6    25.0    11.2        52.66   \n",
       "3   고양오리온  82.8  35.9  18.8  7.5  2.6    7.4    24.9    10.9        52.57   \n",
       "4  인천전자랜드  78.3  38.1  19.5  8.3  3.4    6.5    24.7     9.4        50.97   \n",
       "\n",
       "    ...    w/FT  w/oFT  Tot.  TF   DK  DKA    교체    시즌  팀 순위    관중 수  \n",
       "0   ...     436    493   929   8  132  144  1104  2016     1   81179  \n",
       "1   ...     472    523   995  17   66   79  1063  2016     3  113071  \n",
       "2   ...     449    492   941   7  103  113  1100  2016     8  100231  \n",
       "3   ...     463    504   967  11   38   39  1113  2016     2   77072  \n",
       "4   ...     507    524  1031   5   84   94   997  2016     6  122304  \n",
       "\n",
       "[5 rows x 23 columns]"
      ]
     },
     "execution_count": 599,
     "metadata": {},
     "output_type": "execute_result"
    }
   ],
   "source": [
    "kbl_base.head()"
   ]
  },
  {
   "cell_type": "code",
   "execution_count": 600,
   "metadata": {},
   "outputs": [],
   "source": [
    "kbl_base = pd.read_excel('경영과데이터베이스 농구데이터 (01~02부터 16~17).xlsx')\n",
    "kbl_seasonal_aver = pd.read_excel('Copy of kbl season average.xlsx')"
   ]
  },
  {
   "cell_type": "markdown",
   "metadata": {},
   "source": [
    "##### 읽어온 자료 중 KBL 기초 자료를 확인한다"
   ]
  },
  {
   "cell_type": "markdown",
   "metadata": {},
   "source": [
    "##### 이후 분석을 위하여 시즌을 시작년도를 기준으로 바꿔준다\n",
    "##### 경고문이 발생하지만 실행에는 문제가 없다"
   ]
  },
  {
   "cell_type": "code",
   "execution_count": 601,
   "metadata": {},
   "outputs": [
    {
     "name": "stderr",
     "output_type": "stream",
     "text": [
      "C:\\Miniconda3\\lib\\site-packages\\ipykernel_launcher.py:2: SettingWithCopyWarning: \n",
      "A value is trying to be set on a copy of a slice from a DataFrame\n",
      "\n",
      "See the caveats in the documentation: http://pandas.pydata.org/pandas-docs/stable/indexing.html#indexing-view-versus-copy\n",
      "  \n"
     ]
    }
   ],
   "source": [
    "for i in range(len(kbl_base['시즌'])):\n",
    "    kbl_base['시즌'][i] = int(kbl_base['시즌'][i].split('~')[0])+2000"
   ]
  },
  {
   "cell_type": "markdown",
   "metadata": {},
   "source": [
    "##### 데이터가 적절하게 교체되었는지 확인한다"
   ]
  },
  {
   "cell_type": "code",
   "execution_count": 602,
   "metadata": {},
   "outputs": [
    {
     "data": {
      "text/html": [
       "<div>\n",
       "<style scoped>\n",
       "    .dataframe tbody tr th:only-of-type {\n",
       "        vertical-align: middle;\n",
       "    }\n",
       "\n",
       "    .dataframe tbody tr th {\n",
       "        vertical-align: top;\n",
       "    }\n",
       "\n",
       "    .dataframe thead th {\n",
       "        text-align: right;\n",
       "    }\n",
       "</style>\n",
       "<table border=\"1\" class=\"dataframe\">\n",
       "  <thead>\n",
       "    <tr style=\"text-align: right;\">\n",
       "      <th></th>\n",
       "      <th>팀</th>\n",
       "      <th>득점</th>\n",
       "      <th>리바운드</th>\n",
       "      <th>어시스트</th>\n",
       "      <th>스틸</th>\n",
       "      <th>블록</th>\n",
       "      <th>3점슛성공</th>\n",
       "      <th>2점슛 성공</th>\n",
       "      <th>자유투 성공</th>\n",
       "      <th>2점슛 성공률 (%)</th>\n",
       "      <th>...</th>\n",
       "      <th>w/FT</th>\n",
       "      <th>w/oFT</th>\n",
       "      <th>Tot.</th>\n",
       "      <th>TF</th>\n",
       "      <th>DK</th>\n",
       "      <th>DKA</th>\n",
       "      <th>교체</th>\n",
       "      <th>시즌</th>\n",
       "      <th>팀 순위</th>\n",
       "      <th>관중 수</th>\n",
       "    </tr>\n",
       "  </thead>\n",
       "  <tbody>\n",
       "    <tr>\n",
       "      <th>0</th>\n",
       "      <td>안양KGC</td>\n",
       "      <td>84.1</td>\n",
       "      <td>36.7</td>\n",
       "      <td>20.9</td>\n",
       "      <td>8.7</td>\n",
       "      <td>4.1</td>\n",
       "      <td>5.8</td>\n",
       "      <td>27.9</td>\n",
       "      <td>10.9</td>\n",
       "      <td>55.55</td>\n",
       "      <td>...</td>\n",
       "      <td>436</td>\n",
       "      <td>493</td>\n",
       "      <td>929</td>\n",
       "      <td>8</td>\n",
       "      <td>132</td>\n",
       "      <td>144</td>\n",
       "      <td>1104</td>\n",
       "      <td>2016</td>\n",
       "      <td>1</td>\n",
       "      <td>81179</td>\n",
       "    </tr>\n",
       "    <tr>\n",
       "      <th>1</th>\n",
       "      <td>서울삼성</td>\n",
       "      <td>84.1</td>\n",
       "      <td>39.2</td>\n",
       "      <td>20.0</td>\n",
       "      <td>7.1</td>\n",
       "      <td>3.0</td>\n",
       "      <td>5.4</td>\n",
       "      <td>27.8</td>\n",
       "      <td>12.2</td>\n",
       "      <td>54.23</td>\n",
       "      <td>...</td>\n",
       "      <td>472</td>\n",
       "      <td>523</td>\n",
       "      <td>995</td>\n",
       "      <td>17</td>\n",
       "      <td>66</td>\n",
       "      <td>79</td>\n",
       "      <td>1063</td>\n",
       "      <td>2016</td>\n",
       "      <td>3</td>\n",
       "      <td>113071</td>\n",
       "    </tr>\n",
       "    <tr>\n",
       "      <th>2</th>\n",
       "      <td>창원LG</td>\n",
       "      <td>78.1</td>\n",
       "      <td>36.9</td>\n",
       "      <td>17.3</td>\n",
       "      <td>7.9</td>\n",
       "      <td>3.0</td>\n",
       "      <td>5.6</td>\n",
       "      <td>25.0</td>\n",
       "      <td>11.2</td>\n",
       "      <td>52.66</td>\n",
       "      <td>...</td>\n",
       "      <td>449</td>\n",
       "      <td>492</td>\n",
       "      <td>941</td>\n",
       "      <td>7</td>\n",
       "      <td>103</td>\n",
       "      <td>113</td>\n",
       "      <td>1100</td>\n",
       "      <td>2016</td>\n",
       "      <td>8</td>\n",
       "      <td>100231</td>\n",
       "    </tr>\n",
       "    <tr>\n",
       "      <th>3</th>\n",
       "      <td>고양오리온</td>\n",
       "      <td>82.8</td>\n",
       "      <td>35.9</td>\n",
       "      <td>18.8</td>\n",
       "      <td>7.5</td>\n",
       "      <td>2.6</td>\n",
       "      <td>7.4</td>\n",
       "      <td>24.9</td>\n",
       "      <td>10.9</td>\n",
       "      <td>52.57</td>\n",
       "      <td>...</td>\n",
       "      <td>463</td>\n",
       "      <td>504</td>\n",
       "      <td>967</td>\n",
       "      <td>11</td>\n",
       "      <td>38</td>\n",
       "      <td>39</td>\n",
       "      <td>1113</td>\n",
       "      <td>2016</td>\n",
       "      <td>2</td>\n",
       "      <td>77072</td>\n",
       "    </tr>\n",
       "    <tr>\n",
       "      <th>4</th>\n",
       "      <td>인천전자랜드</td>\n",
       "      <td>78.3</td>\n",
       "      <td>38.1</td>\n",
       "      <td>19.5</td>\n",
       "      <td>8.3</td>\n",
       "      <td>3.4</td>\n",
       "      <td>6.5</td>\n",
       "      <td>24.7</td>\n",
       "      <td>9.4</td>\n",
       "      <td>50.97</td>\n",
       "      <td>...</td>\n",
       "      <td>507</td>\n",
       "      <td>524</td>\n",
       "      <td>1031</td>\n",
       "      <td>5</td>\n",
       "      <td>84</td>\n",
       "      <td>94</td>\n",
       "      <td>997</td>\n",
       "      <td>2016</td>\n",
       "      <td>6</td>\n",
       "      <td>122304</td>\n",
       "    </tr>\n",
       "  </tbody>\n",
       "</table>\n",
       "<p>5 rows × 23 columns</p>\n",
       "</div>"
      ],
      "text/plain": [
       "        팀    득점  리바운드  어시스트   스틸   블록  3점슛성공  2점슛 성공  자유투 성공  2점슛 성공률 (%)  \\\n",
       "0   안양KGC  84.1  36.7  20.9  8.7  4.1    5.8    27.9    10.9        55.55   \n",
       "1    서울삼성  84.1  39.2  20.0  7.1  3.0    5.4    27.8    12.2        54.23   \n",
       "2    창원LG  78.1  36.9  17.3  7.9  3.0    5.6    25.0    11.2        52.66   \n",
       "3   고양오리온  82.8  35.9  18.8  7.5  2.6    7.4    24.9    10.9        52.57   \n",
       "4  인천전자랜드  78.3  38.1  19.5  8.3  3.4    6.5    24.7     9.4        50.97   \n",
       "\n",
       "    ...    w/FT  w/oFT  Tot.  TF   DK  DKA    교체    시즌  팀 순위    관중 수  \n",
       "0   ...     436    493   929   8  132  144  1104  2016     1   81179  \n",
       "1   ...     472    523   995  17   66   79  1063  2016     3  113071  \n",
       "2   ...     449    492   941   7  103  113  1100  2016     8  100231  \n",
       "3   ...     463    504   967  11   38   39  1113  2016     2   77072  \n",
       "4   ...     507    524  1031   5   84   94   997  2016     6  122304  \n",
       "\n",
       "[5 rows x 23 columns]"
      ]
     },
     "execution_count": 602,
     "metadata": {},
     "output_type": "execute_result"
    }
   ],
   "source": [
    "kbl_base.head()"
   ]
  },
  {
   "cell_type": "markdown",
   "metadata": {},
   "source": [
    "##### 컬럼들의 이름을 확인한다"
   ]
  },
  {
   "cell_type": "code",
   "execution_count": 603,
   "metadata": {},
   "outputs": [
    {
     "data": {
      "text/plain": [
       "('팀',\n",
       " '득점',\n",
       " '리바운드',\n",
       " '어시스트',\n",
       " '스틸',\n",
       " '블록',\n",
       " '3점슛성공',\n",
       " '2점슛 성공',\n",
       " '자유투 성공',\n",
       " '2점슛 성공률 (%)',\n",
       " '3점슛 성공률 (%)',\n",
       " '자유투 성공률 (%)',\n",
       " '턴오버',\n",
       " 'w/FT',\n",
       " 'w/oFT',\n",
       " 'Tot.',\n",
       " 'TF',\n",
       " 'DK',\n",
       " 'DKA',\n",
       " '교체',\n",
       " '시즌',\n",
       " '팀 순위',\n",
       " '관중 수')"
      ]
     },
     "execution_count": 603,
     "metadata": {},
     "output_type": "execute_result"
    }
   ],
   "source": [
    "kbl_base_col = tuple(kbl_base.columns)\n",
    "kbl_base_col"
   ]
  },
  {
   "cell_type": "markdown",
   "metadata": {},
   "source": [
    "## 현재 KBL에 관한 시계열 기술통계"
   ]
  },
  {
   "cell_type": "markdown",
   "metadata": {},
   "source": [
    "##### 다음으로 시즌별 구단 평균자료를 살펴본다"
   ]
  },
  {
   "cell_type": "code",
   "execution_count": 526,
   "metadata": {},
   "outputs": [
    {
     "data": {
      "text/html": [
       "<div>\n",
       "<style scoped>\n",
       "    .dataframe tbody tr th:only-of-type {\n",
       "        vertical-align: middle;\n",
       "    }\n",
       "\n",
       "    .dataframe tbody tr th {\n",
       "        vertical-align: top;\n",
       "    }\n",
       "\n",
       "    .dataframe thead th {\n",
       "        text-align: right;\n",
       "    }\n",
       "</style>\n",
       "<table border=\"1\" class=\"dataframe\">\n",
       "  <thead>\n",
       "    <tr style=\"text-align: right;\">\n",
       "      <th></th>\n",
       "      <th>시즌</th>\n",
       "      <th>득점</th>\n",
       "      <th>국내선수 득점</th>\n",
       "      <th>용병선수 득점</th>\n",
       "      <th>리바운드</th>\n",
       "      <th>어시스트</th>\n",
       "      <th>스틸</th>\n",
       "      <th>블록</th>\n",
       "      <th>3점슛성공</th>\n",
       "      <th>2점슛 성공</th>\n",
       "      <th>...</th>\n",
       "      <th>자유투 성공률(%)</th>\n",
       "      <th>턴오버</th>\n",
       "      <th>w/FT</th>\n",
       "      <th>w/oFT</th>\n",
       "      <th>Tot.</th>\n",
       "      <th>TF</th>\n",
       "      <th>DK</th>\n",
       "      <th>DKA</th>\n",
       "      <th>교체</th>\n",
       "      <th>관중 수</th>\n",
       "    </tr>\n",
       "  </thead>\n",
       "  <tbody>\n",
       "    <tr>\n",
       "      <th>0</th>\n",
       "      <td>17~18</td>\n",
       "      <td>84.14</td>\n",
       "      <td>42.65</td>\n",
       "      <td>41.49</td>\n",
       "      <td>38.04</td>\n",
       "      <td>18.40</td>\n",
       "      <td>6.86</td>\n",
       "      <td>2.85</td>\n",
       "      <td>7.13</td>\n",
       "      <td>25.10</td>\n",
       "      <td>...</td>\n",
       "      <td>70.851</td>\n",
       "      <td>10.79</td>\n",
       "      <td>529.9</td>\n",
       "      <td>510.4</td>\n",
       "      <td>1040.3</td>\n",
       "      <td>9.3</td>\n",
       "      <td>100.6</td>\n",
       "      <td>110.7</td>\n",
       "      <td>1098.2</td>\n",
       "      <td>754920</td>\n",
       "    </tr>\n",
       "    <tr>\n",
       "      <th>1</th>\n",
       "      <td>16~17</td>\n",
       "      <td>79.15</td>\n",
       "      <td>40.87</td>\n",
       "      <td>38.28</td>\n",
       "      <td>37.33</td>\n",
       "      <td>18.19</td>\n",
       "      <td>7.39</td>\n",
       "      <td>2.90</td>\n",
       "      <td>6.48</td>\n",
       "      <td>24.20</td>\n",
       "      <td>...</td>\n",
       "      <td>71.899</td>\n",
       "      <td>11.80</td>\n",
       "      <td>466.6</td>\n",
       "      <td>511.5</td>\n",
       "      <td>978.1</td>\n",
       "      <td>9.7</td>\n",
       "      <td>77.7</td>\n",
       "      <td>85.3</td>\n",
       "      <td>1097.5</td>\n",
       "      <td>915626</td>\n",
       "    </tr>\n",
       "    <tr>\n",
       "      <th>2</th>\n",
       "      <td>15~16</td>\n",
       "      <td>78.81</td>\n",
       "      <td>37.50</td>\n",
       "      <td>41.31</td>\n",
       "      <td>35.17</td>\n",
       "      <td>16.95</td>\n",
       "      <td>6.95</td>\n",
       "      <td>2.54</td>\n",
       "      <td>6.79</td>\n",
       "      <td>23.09</td>\n",
       "      <td>...</td>\n",
       "      <td>72.620</td>\n",
       "      <td>11.63</td>\n",
       "      <td>502.6</td>\n",
       "      <td>501.4</td>\n",
       "      <td>1004.0</td>\n",
       "      <td>12.9</td>\n",
       "      <td>76.8</td>\n",
       "      <td>81.2</td>\n",
       "      <td>1195.3</td>\n",
       "      <td>1021558</td>\n",
       "    </tr>\n",
       "    <tr>\n",
       "      <th>3</th>\n",
       "      <td>14~15</td>\n",
       "      <td>74.59</td>\n",
       "      <td>46.05</td>\n",
       "      <td>28.54</td>\n",
       "      <td>35.71</td>\n",
       "      <td>15.97</td>\n",
       "      <td>7.02</td>\n",
       "      <td>2.77</td>\n",
       "      <td>6.04</td>\n",
       "      <td>22.50</td>\n",
       "      <td>...</td>\n",
       "      <td>71.308</td>\n",
       "      <td>10.93</td>\n",
       "      <td>489.9</td>\n",
       "      <td>527.4</td>\n",
       "      <td>1017.3</td>\n",
       "      <td>10.9</td>\n",
       "      <td>58.7</td>\n",
       "      <td>64.0</td>\n",
       "      <td>1245.7</td>\n",
       "      <td>1144258</td>\n",
       "    </tr>\n",
       "    <tr>\n",
       "      <th>4</th>\n",
       "      <td>13~14</td>\n",
       "      <td>73.43</td>\n",
       "      <td>46.45</td>\n",
       "      <td>27.16</td>\n",
       "      <td>35.02</td>\n",
       "      <td>15.44</td>\n",
       "      <td>6.86</td>\n",
       "      <td>2.85</td>\n",
       "      <td>6.25</td>\n",
       "      <td>21.77</td>\n",
       "      <td>...</td>\n",
       "      <td>71.693</td>\n",
       "      <td>10.94</td>\n",
       "      <td>456.5</td>\n",
       "      <td>582.7</td>\n",
       "      <td>1039.2</td>\n",
       "      <td>7.0</td>\n",
       "      <td>86.5</td>\n",
       "      <td>94.8</td>\n",
       "      <td>1160.8</td>\n",
       "      <td>1295125</td>\n",
       "    </tr>\n",
       "  </tbody>\n",
       "</table>\n",
       "<p>5 rows × 23 columns</p>\n",
       "</div>"
      ],
      "text/plain": [
       "      시즌     득점  국내선수 득점  용병선수 득점   리바운드   어시스트    스틸    블록  3점슛성공  2점슛 성공  \\\n",
       "0  17~18  84.14    42.65    41.49  38.04  18.40  6.86  2.85   7.13   25.10   \n",
       "1  16~17  79.15    40.87    38.28  37.33  18.19  7.39  2.90   6.48   24.20   \n",
       "2  15~16  78.81    37.50    41.31  35.17  16.95  6.95  2.54   6.79   23.09   \n",
       "3  14~15  74.59    46.05    28.54  35.71  15.97  7.02  2.77   6.04   22.50   \n",
       "4  13~14  73.43    46.45    27.16  35.02  15.44  6.86  2.85   6.25   21.77   \n",
       "\n",
       "    ...     자유투 성공률(%)    턴오버   w/FT  w/oFT    Tot.    TF     DK    DKA  \\\n",
       "0   ...         70.851  10.79  529.9  510.4  1040.3   9.3  100.6  110.7   \n",
       "1   ...         71.899  11.80  466.6  511.5   978.1   9.7   77.7   85.3   \n",
       "2   ...         72.620  11.63  502.6  501.4  1004.0  12.9   76.8   81.2   \n",
       "3   ...         71.308  10.93  489.9  527.4  1017.3  10.9   58.7   64.0   \n",
       "4   ...         71.693  10.94  456.5  582.7  1039.2   7.0   86.5   94.8   \n",
       "\n",
       "       교체     관중 수  \n",
       "0  1098.2   754920  \n",
       "1  1097.5   915626  \n",
       "2  1195.3  1021558  \n",
       "3  1245.7  1144258  \n",
       "4  1160.8  1295125  \n",
       "\n",
       "[5 rows x 23 columns]"
      ]
     },
     "execution_count": 526,
     "metadata": {},
     "output_type": "execute_result"
    }
   ],
   "source": [
    "kbl_seasonal_aver.head()"
   ]
  },
  {
   "cell_type": "markdown",
   "metadata": {},
   "source": [
    "##### KBL 기초 자료와 마찬가지로 시즌을 시작년도를 기준으로 바꾸고 이를 인덱스로 삼는다.\n",
    "##### 마찬가지로 경고문이 발생하지만 실행에는 문제가 없다"
   ]
  },
  {
   "cell_type": "code",
   "execution_count": 604,
   "metadata": {},
   "outputs": [
    {
     "name": "stderr",
     "output_type": "stream",
     "text": [
      "C:\\Miniconda3\\lib\\site-packages\\ipykernel_launcher.py:2: SettingWithCopyWarning: \n",
      "A value is trying to be set on a copy of a slice from a DataFrame\n",
      "\n",
      "See the caveats in the documentation: http://pandas.pydata.org/pandas-docs/stable/indexing.html#indexing-view-versus-copy\n",
      "  \n"
     ]
    }
   ],
   "source": [
    "for i in range(len(kbl_seasonal_aver['시즌'])):\n",
    "    kbl_seasonal_aver['시즌'][i] = int(kbl_seasonal_aver['시즌'][i].split('~')[0])+2000"
   ]
  },
  {
   "cell_type": "code",
   "execution_count": 605,
   "metadata": {},
   "outputs": [],
   "source": [
    "kbl_seasonal_aver.index = kbl_seasonal_aver['시즌']"
   ]
  },
  {
   "cell_type": "markdown",
   "metadata": {},
   "source": [
    "##### 데이터가 적절하게 교체되었는지 확인한다"
   ]
  },
  {
   "cell_type": "code",
   "execution_count": 606,
   "metadata": {},
   "outputs": [
    {
     "data": {
      "text/html": [
       "<div>\n",
       "<style scoped>\n",
       "    .dataframe tbody tr th:only-of-type {\n",
       "        vertical-align: middle;\n",
       "    }\n",
       "\n",
       "    .dataframe tbody tr th {\n",
       "        vertical-align: top;\n",
       "    }\n",
       "\n",
       "    .dataframe thead th {\n",
       "        text-align: right;\n",
       "    }\n",
       "</style>\n",
       "<table border=\"1\" class=\"dataframe\">\n",
       "  <thead>\n",
       "    <tr style=\"text-align: right;\">\n",
       "      <th></th>\n",
       "      <th>시즌</th>\n",
       "      <th>득점</th>\n",
       "      <th>국내선수 득점</th>\n",
       "      <th>용병선수 득점</th>\n",
       "      <th>리바운드</th>\n",
       "      <th>어시스트</th>\n",
       "      <th>스틸</th>\n",
       "      <th>블록</th>\n",
       "      <th>3점슛성공</th>\n",
       "      <th>2점슛 성공</th>\n",
       "      <th>...</th>\n",
       "      <th>자유투 성공률(%)</th>\n",
       "      <th>턴오버</th>\n",
       "      <th>w/FT</th>\n",
       "      <th>w/oFT</th>\n",
       "      <th>Tot.</th>\n",
       "      <th>TF</th>\n",
       "      <th>DK</th>\n",
       "      <th>DKA</th>\n",
       "      <th>교체</th>\n",
       "      <th>관중 수</th>\n",
       "    </tr>\n",
       "    <tr>\n",
       "      <th>시즌</th>\n",
       "      <th></th>\n",
       "      <th></th>\n",
       "      <th></th>\n",
       "      <th></th>\n",
       "      <th></th>\n",
       "      <th></th>\n",
       "      <th></th>\n",
       "      <th></th>\n",
       "      <th></th>\n",
       "      <th></th>\n",
       "      <th></th>\n",
       "      <th></th>\n",
       "      <th></th>\n",
       "      <th></th>\n",
       "      <th></th>\n",
       "      <th></th>\n",
       "      <th></th>\n",
       "      <th></th>\n",
       "      <th></th>\n",
       "      <th></th>\n",
       "      <th></th>\n",
       "    </tr>\n",
       "  </thead>\n",
       "  <tbody>\n",
       "    <tr>\n",
       "      <th>2017</th>\n",
       "      <td>2017</td>\n",
       "      <td>84.14</td>\n",
       "      <td>42.65</td>\n",
       "      <td>41.49</td>\n",
       "      <td>38.04</td>\n",
       "      <td>18.40</td>\n",
       "      <td>6.86</td>\n",
       "      <td>2.85</td>\n",
       "      <td>7.13</td>\n",
       "      <td>25.10</td>\n",
       "      <td>...</td>\n",
       "      <td>70.851</td>\n",
       "      <td>10.79</td>\n",
       "      <td>529.9</td>\n",
       "      <td>510.4</td>\n",
       "      <td>1040.3</td>\n",
       "      <td>9.3</td>\n",
       "      <td>100.6</td>\n",
       "      <td>110.7</td>\n",
       "      <td>1098.2</td>\n",
       "      <td>754920</td>\n",
       "    </tr>\n",
       "    <tr>\n",
       "      <th>2016</th>\n",
       "      <td>2016</td>\n",
       "      <td>79.15</td>\n",
       "      <td>40.87</td>\n",
       "      <td>38.28</td>\n",
       "      <td>37.33</td>\n",
       "      <td>18.19</td>\n",
       "      <td>7.39</td>\n",
       "      <td>2.90</td>\n",
       "      <td>6.48</td>\n",
       "      <td>24.20</td>\n",
       "      <td>...</td>\n",
       "      <td>71.899</td>\n",
       "      <td>11.80</td>\n",
       "      <td>466.6</td>\n",
       "      <td>511.5</td>\n",
       "      <td>978.1</td>\n",
       "      <td>9.7</td>\n",
       "      <td>77.7</td>\n",
       "      <td>85.3</td>\n",
       "      <td>1097.5</td>\n",
       "      <td>915626</td>\n",
       "    </tr>\n",
       "    <tr>\n",
       "      <th>2015</th>\n",
       "      <td>2015</td>\n",
       "      <td>78.81</td>\n",
       "      <td>37.50</td>\n",
       "      <td>41.31</td>\n",
       "      <td>35.17</td>\n",
       "      <td>16.95</td>\n",
       "      <td>6.95</td>\n",
       "      <td>2.54</td>\n",
       "      <td>6.79</td>\n",
       "      <td>23.09</td>\n",
       "      <td>...</td>\n",
       "      <td>72.620</td>\n",
       "      <td>11.63</td>\n",
       "      <td>502.6</td>\n",
       "      <td>501.4</td>\n",
       "      <td>1004.0</td>\n",
       "      <td>12.9</td>\n",
       "      <td>76.8</td>\n",
       "      <td>81.2</td>\n",
       "      <td>1195.3</td>\n",
       "      <td>1021558</td>\n",
       "    </tr>\n",
       "    <tr>\n",
       "      <th>2014</th>\n",
       "      <td>2014</td>\n",
       "      <td>74.59</td>\n",
       "      <td>46.05</td>\n",
       "      <td>28.54</td>\n",
       "      <td>35.71</td>\n",
       "      <td>15.97</td>\n",
       "      <td>7.02</td>\n",
       "      <td>2.77</td>\n",
       "      <td>6.04</td>\n",
       "      <td>22.50</td>\n",
       "      <td>...</td>\n",
       "      <td>71.308</td>\n",
       "      <td>10.93</td>\n",
       "      <td>489.9</td>\n",
       "      <td>527.4</td>\n",
       "      <td>1017.3</td>\n",
       "      <td>10.9</td>\n",
       "      <td>58.7</td>\n",
       "      <td>64.0</td>\n",
       "      <td>1245.7</td>\n",
       "      <td>1144258</td>\n",
       "    </tr>\n",
       "    <tr>\n",
       "      <th>2013</th>\n",
       "      <td>2013</td>\n",
       "      <td>73.43</td>\n",
       "      <td>46.45</td>\n",
       "      <td>27.16</td>\n",
       "      <td>35.02</td>\n",
       "      <td>15.44</td>\n",
       "      <td>6.86</td>\n",
       "      <td>2.85</td>\n",
       "      <td>6.25</td>\n",
       "      <td>21.77</td>\n",
       "      <td>...</td>\n",
       "      <td>71.693</td>\n",
       "      <td>10.94</td>\n",
       "      <td>456.5</td>\n",
       "      <td>582.7</td>\n",
       "      <td>1039.2</td>\n",
       "      <td>7.0</td>\n",
       "      <td>86.5</td>\n",
       "      <td>94.8</td>\n",
       "      <td>1160.8</td>\n",
       "      <td>1295125</td>\n",
       "    </tr>\n",
       "    <tr>\n",
       "      <th>2012</th>\n",
       "      <td>2012</td>\n",
       "      <td>73.43</td>\n",
       "      <td>47.17</td>\n",
       "      <td>25.83</td>\n",
       "      <td>34.46</td>\n",
       "      <td>15.49</td>\n",
       "      <td>7.45</td>\n",
       "      <td>2.70</td>\n",
       "      <td>5.95</td>\n",
       "      <td>22.22</td>\n",
       "      <td>...</td>\n",
       "      <td>72.855</td>\n",
       "      <td>11.84</td>\n",
       "      <td>443.3</td>\n",
       "      <td>591.3</td>\n",
       "      <td>1034.6</td>\n",
       "      <td>10.1</td>\n",
       "      <td>73.6</td>\n",
       "      <td>79.1</td>\n",
       "      <td>1095.8</td>\n",
       "      <td>1197878</td>\n",
       "    </tr>\n",
       "    <tr>\n",
       "      <th>2011</th>\n",
       "      <td>2011</td>\n",
       "      <td>76.73</td>\n",
       "      <td>47.67</td>\n",
       "      <td>29.06</td>\n",
       "      <td>33.22</td>\n",
       "      <td>16.17</td>\n",
       "      <td>7.26</td>\n",
       "      <td>3.15</td>\n",
       "      <td>5.70</td>\n",
       "      <td>23.82</td>\n",
       "      <td>...</td>\n",
       "      <td>74.025</td>\n",
       "      <td>11.97</td>\n",
       "      <td>465.2</td>\n",
       "      <td>565.7</td>\n",
       "      <td>1030.9</td>\n",
       "      <td>12.0</td>\n",
       "      <td>90.9</td>\n",
       "      <td>98.1</td>\n",
       "      <td>969.0</td>\n",
       "      <td>1317228</td>\n",
       "    </tr>\n",
       "    <tr>\n",
       "      <th>2010</th>\n",
       "      <td>2010</td>\n",
       "      <td>77.79</td>\n",
       "      <td>51.99</td>\n",
       "      <td>25.80</td>\n",
       "      <td>32.47</td>\n",
       "      <td>14.98</td>\n",
       "      <td>6.43</td>\n",
       "      <td>2.91</td>\n",
       "      <td>6.15</td>\n",
       "      <td>22.67</td>\n",
       "      <td>...</td>\n",
       "      <td>72.734</td>\n",
       "      <td>11.53</td>\n",
       "      <td>547.5</td>\n",
       "      <td>618.4</td>\n",
       "      <td>1165.9</td>\n",
       "      <td>14.5</td>\n",
       "      <td>85.8</td>\n",
       "      <td>94.2</td>\n",
       "      <td>1194.7</td>\n",
       "      <td>1135375</td>\n",
       "    </tr>\n",
       "    <tr>\n",
       "      <th>2009</th>\n",
       "      <td>2009</td>\n",
       "      <td>78.73</td>\n",
       "      <td>48.37</td>\n",
       "      <td>30.36</td>\n",
       "      <td>32.35</td>\n",
       "      <td>16.48</td>\n",
       "      <td>6.82</td>\n",
       "      <td>2.77</td>\n",
       "      <td>6.14</td>\n",
       "      <td>23.30</td>\n",
       "      <td>...</td>\n",
       "      <td>73.221</td>\n",
       "      <td>12.53</td>\n",
       "      <td>532.1</td>\n",
       "      <td>607.5</td>\n",
       "      <td>1139.6</td>\n",
       "      <td>16.1</td>\n",
       "      <td>79.2</td>\n",
       "      <td>84.4</td>\n",
       "      <td>1190.3</td>\n",
       "      <td>1119546</td>\n",
       "    </tr>\n",
       "    <tr>\n",
       "      <th>2008</th>\n",
       "      <td>2008</td>\n",
       "      <td>82.37</td>\n",
       "      <td>38.62</td>\n",
       "      <td>43.75</td>\n",
       "      <td>33.30</td>\n",
       "      <td>16.36</td>\n",
       "      <td>6.97</td>\n",
       "      <td>3.36</td>\n",
       "      <td>6.91</td>\n",
       "      <td>23.79</td>\n",
       "      <td>...</td>\n",
       "      <td>72.270</td>\n",
       "      <td>12.52</td>\n",
       "      <td>564.0</td>\n",
       "      <td>617.9</td>\n",
       "      <td>1181.9</td>\n",
       "      <td>16.3</td>\n",
       "      <td>115.8</td>\n",
       "      <td>127.2</td>\n",
       "      <td>1081.5</td>\n",
       "      <td>1221636</td>\n",
       "    </tr>\n",
       "    <tr>\n",
       "      <th>2007</th>\n",
       "      <td>2007</td>\n",
       "      <td>81.73</td>\n",
       "      <td>41.42</td>\n",
       "      <td>40.31</td>\n",
       "      <td>33.61</td>\n",
       "      <td>16.93</td>\n",
       "      <td>7.05</td>\n",
       "      <td>3.03</td>\n",
       "      <td>7.17</td>\n",
       "      <td>22.59</td>\n",
       "      <td>...</td>\n",
       "      <td>74.747</td>\n",
       "      <td>12.32</td>\n",
       "      <td>569.2</td>\n",
       "      <td>582.7</td>\n",
       "      <td>1151.9</td>\n",
       "      <td>17.0</td>\n",
       "      <td>87.3</td>\n",
       "      <td>95.0</td>\n",
       "      <td>1135.0</td>\n",
       "      <td>1147969</td>\n",
       "    </tr>\n",
       "    <tr>\n",
       "      <th>2006</th>\n",
       "      <td>2006</td>\n",
       "      <td>82.04</td>\n",
       "      <td>45.08</td>\n",
       "      <td>36.96</td>\n",
       "      <td>34.00</td>\n",
       "      <td>17.66</td>\n",
       "      <td>7.40</td>\n",
       "      <td>2.96</td>\n",
       "      <td>7.75</td>\n",
       "      <td>22.39</td>\n",
       "      <td>...</td>\n",
       "      <td>74.831</td>\n",
       "      <td>12.94</td>\n",
       "      <td>542.6</td>\n",
       "      <td>601.7</td>\n",
       "      <td>1144.3</td>\n",
       "      <td>14.3</td>\n",
       "      <td>92.2</td>\n",
       "      <td>101.0</td>\n",
       "      <td>1034.1</td>\n",
       "      <td>1149911</td>\n",
       "    </tr>\n",
       "    <tr>\n",
       "      <th>2005</th>\n",
       "      <td>2005</td>\n",
       "      <td>84.58</td>\n",
       "      <td>43.68</td>\n",
       "      <td>40.90</td>\n",
       "      <td>35.20</td>\n",
       "      <td>18.65</td>\n",
       "      <td>7.20</td>\n",
       "      <td>3.02</td>\n",
       "      <td>7.76</td>\n",
       "      <td>24.30</td>\n",
       "      <td>...</td>\n",
       "      <td>73.716</td>\n",
       "      <td>12.17</td>\n",
       "      <td>504.0</td>\n",
       "      <td>603.0</td>\n",
       "      <td>1107.0</td>\n",
       "      <td>18.7</td>\n",
       "      <td>132.1</td>\n",
       "      <td>143.8</td>\n",
       "      <td>599.6</td>\n",
       "      <td>1085448</td>\n",
       "    </tr>\n",
       "    <tr>\n",
       "      <th>2004</th>\n",
       "      <td>2004</td>\n",
       "      <td>84.94</td>\n",
       "      <td>45.30</td>\n",
       "      <td>39.64</td>\n",
       "      <td>36.34</td>\n",
       "      <td>19.08</td>\n",
       "      <td>7.57</td>\n",
       "      <td>3.01</td>\n",
       "      <td>8.16</td>\n",
       "      <td>23.90</td>\n",
       "      <td>...</td>\n",
       "      <td>74.586</td>\n",
       "      <td>12.56</td>\n",
       "      <td>489.5</td>\n",
       "      <td>589.8</td>\n",
       "      <td>1079.3</td>\n",
       "      <td>20.3</td>\n",
       "      <td>103.1</td>\n",
       "      <td>113.6</td>\n",
       "      <td>584.7</td>\n",
       "      <td>1095262</td>\n",
       "    </tr>\n",
       "    <tr>\n",
       "      <th>2003</th>\n",
       "      <td>2003</td>\n",
       "      <td>85.32</td>\n",
       "      <td>46.53</td>\n",
       "      <td>38.79</td>\n",
       "      <td>35.55</td>\n",
       "      <td>18.81</td>\n",
       "      <td>7.56</td>\n",
       "      <td>3.29</td>\n",
       "      <td>7.60</td>\n",
       "      <td>24.70</td>\n",
       "      <td>...</td>\n",
       "      <td>73.490</td>\n",
       "      <td>12.94</td>\n",
       "      <td>510.4</td>\n",
       "      <td>542.4</td>\n",
       "      <td>1052.8</td>\n",
       "      <td>17.7</td>\n",
       "      <td>78.4</td>\n",
       "      <td>85.4</td>\n",
       "      <td>664.3</td>\n",
       "      <td>1033448</td>\n",
       "    </tr>\n",
       "    <tr>\n",
       "      <th>2002</th>\n",
       "      <td>2002</td>\n",
       "      <td>83.93</td>\n",
       "      <td>45.14</td>\n",
       "      <td>38.79</td>\n",
       "      <td>35.83</td>\n",
       "      <td>17.83</td>\n",
       "      <td>7.64</td>\n",
       "      <td>3.88</td>\n",
       "      <td>7.27</td>\n",
       "      <td>25.01</td>\n",
       "      <td>...</td>\n",
       "      <td>73.368</td>\n",
       "      <td>12.55</td>\n",
       "      <td>470.6</td>\n",
       "      <td>525.9</td>\n",
       "      <td>996.5</td>\n",
       "      <td>19.8</td>\n",
       "      <td>76.4</td>\n",
       "      <td>82.9</td>\n",
       "      <td>628.7</td>\n",
       "      <td>1025136</td>\n",
       "    </tr>\n",
       "    <tr>\n",
       "      <th>2001</th>\n",
       "      <td>2001</td>\n",
       "      <td>85.45</td>\n",
       "      <td>41.29</td>\n",
       "      <td>43.16</td>\n",
       "      <td>36.09</td>\n",
       "      <td>17.87</td>\n",
       "      <td>7.40</td>\n",
       "      <td>3.82</td>\n",
       "      <td>7.12</td>\n",
       "      <td>26.19</td>\n",
       "      <td>...</td>\n",
       "      <td>71.630</td>\n",
       "      <td>12.40</td>\n",
       "      <td>472.2</td>\n",
       "      <td>543.0</td>\n",
       "      <td>1015.2</td>\n",
       "      <td>19.1</td>\n",
       "      <td>65.3</td>\n",
       "      <td>71.1</td>\n",
       "      <td>513.0</td>\n",
       "      <td>1088760</td>\n",
       "    </tr>\n",
       "  </tbody>\n",
       "</table>\n",
       "<p>17 rows × 23 columns</p>\n",
       "</div>"
      ],
      "text/plain": [
       "        시즌     득점  국내선수 득점  용병선수 득점   리바운드   어시스트    스틸    블록  3점슛성공  2점슛 성공  \\\n",
       "시즌                                                                             \n",
       "2017  2017  84.14    42.65    41.49  38.04  18.40  6.86  2.85   7.13   25.10   \n",
       "2016  2016  79.15    40.87    38.28  37.33  18.19  7.39  2.90   6.48   24.20   \n",
       "2015  2015  78.81    37.50    41.31  35.17  16.95  6.95  2.54   6.79   23.09   \n",
       "2014  2014  74.59    46.05    28.54  35.71  15.97  7.02  2.77   6.04   22.50   \n",
       "2013  2013  73.43    46.45    27.16  35.02  15.44  6.86  2.85   6.25   21.77   \n",
       "2012  2012  73.43    47.17    25.83  34.46  15.49  7.45  2.70   5.95   22.22   \n",
       "2011  2011  76.73    47.67    29.06  33.22  16.17  7.26  3.15   5.70   23.82   \n",
       "2010  2010  77.79    51.99    25.80  32.47  14.98  6.43  2.91   6.15   22.67   \n",
       "2009  2009  78.73    48.37    30.36  32.35  16.48  6.82  2.77   6.14   23.30   \n",
       "2008  2008  82.37    38.62    43.75  33.30  16.36  6.97  3.36   6.91   23.79   \n",
       "2007  2007  81.73    41.42    40.31  33.61  16.93  7.05  3.03   7.17   22.59   \n",
       "2006  2006  82.04    45.08    36.96  34.00  17.66  7.40  2.96   7.75   22.39   \n",
       "2005  2005  84.58    43.68    40.90  35.20  18.65  7.20  3.02   7.76   24.30   \n",
       "2004  2004  84.94    45.30    39.64  36.34  19.08  7.57  3.01   8.16   23.90   \n",
       "2003  2003  85.32    46.53    38.79  35.55  18.81  7.56  3.29   7.60   24.70   \n",
       "2002  2002  83.93    45.14    38.79  35.83  17.83  7.64  3.88   7.27   25.01   \n",
       "2001  2001  85.45    41.29    43.16  36.09  17.87  7.40  3.82   7.12   26.19   \n",
       "\n",
       "       ...     자유투 성공률(%)    턴오버   w/FT  w/oFT    Tot.    TF     DK    DKA  \\\n",
       "시즌     ...                                                                   \n",
       "2017   ...         70.851  10.79  529.9  510.4  1040.3   9.3  100.6  110.7   \n",
       "2016   ...         71.899  11.80  466.6  511.5   978.1   9.7   77.7   85.3   \n",
       "2015   ...         72.620  11.63  502.6  501.4  1004.0  12.9   76.8   81.2   \n",
       "2014   ...         71.308  10.93  489.9  527.4  1017.3  10.9   58.7   64.0   \n",
       "2013   ...         71.693  10.94  456.5  582.7  1039.2   7.0   86.5   94.8   \n",
       "2012   ...         72.855  11.84  443.3  591.3  1034.6  10.1   73.6   79.1   \n",
       "2011   ...         74.025  11.97  465.2  565.7  1030.9  12.0   90.9   98.1   \n",
       "2010   ...         72.734  11.53  547.5  618.4  1165.9  14.5   85.8   94.2   \n",
       "2009   ...         73.221  12.53  532.1  607.5  1139.6  16.1   79.2   84.4   \n",
       "2008   ...         72.270  12.52  564.0  617.9  1181.9  16.3  115.8  127.2   \n",
       "2007   ...         74.747  12.32  569.2  582.7  1151.9  17.0   87.3   95.0   \n",
       "2006   ...         74.831  12.94  542.6  601.7  1144.3  14.3   92.2  101.0   \n",
       "2005   ...         73.716  12.17  504.0  603.0  1107.0  18.7  132.1  143.8   \n",
       "2004   ...         74.586  12.56  489.5  589.8  1079.3  20.3  103.1  113.6   \n",
       "2003   ...         73.490  12.94  510.4  542.4  1052.8  17.7   78.4   85.4   \n",
       "2002   ...         73.368  12.55  470.6  525.9   996.5  19.8   76.4   82.9   \n",
       "2001   ...         71.630  12.40  472.2  543.0  1015.2  19.1   65.3   71.1   \n",
       "\n",
       "          교체     관중 수  \n",
       "시즌                     \n",
       "2017  1098.2   754920  \n",
       "2016  1097.5   915626  \n",
       "2015  1195.3  1021558  \n",
       "2014  1245.7  1144258  \n",
       "2013  1160.8  1295125  \n",
       "2012  1095.8  1197878  \n",
       "2011   969.0  1317228  \n",
       "2010  1194.7  1135375  \n",
       "2009  1190.3  1119546  \n",
       "2008  1081.5  1221636  \n",
       "2007  1135.0  1147969  \n",
       "2006  1034.1  1149911  \n",
       "2005   599.6  1085448  \n",
       "2004   584.7  1095262  \n",
       "2003   664.3  1033448  \n",
       "2002   628.7  1025136  \n",
       "2001   513.0  1088760  \n",
       "\n",
       "[17 rows x 23 columns]"
      ]
     },
     "execution_count": 606,
     "metadata": {},
     "output_type": "execute_result"
    }
   ],
   "source": [
    "kbl_seasonal_aver"
   ]
  },
  {
   "cell_type": "markdown",
   "metadata": {},
   "source": [
    "##### 기술통계에 사용할 내용 중 시즌은 제외하는 것으로 한다"
   ]
  },
  {
   "cell_type": "code",
   "execution_count": 607,
   "metadata": {},
   "outputs": [
    {
     "data": {
      "text/plain": [
       "['득점',\n",
       " '국내선수 득점',\n",
       " '용병선수 득점',\n",
       " '리바운드',\n",
       " '어시스트',\n",
       " '스틸',\n",
       " '블록',\n",
       " '3점슛성공',\n",
       " '2점슛 성공',\n",
       " '자유투 성공',\n",
       " '2점슛 성공률(%)',\n",
       " '3점슛 성공률(%)',\n",
       " '자유투 성공률(%)',\n",
       " '턴오버',\n",
       " 'w/FT',\n",
       " 'w/oFT',\n",
       " 'Tot.',\n",
       " 'TF',\n",
       " 'DK',\n",
       " 'DKA',\n",
       " '교체',\n",
       " '관중 수']"
      ]
     },
     "execution_count": 607,
     "metadata": {},
     "output_type": "execute_result"
    }
   ],
   "source": [
    "kbl_seasonal_aver_keys = list(kbl_seasonal_aver.keys())\n",
    "kbl_seasonal_aver_keys.remove('시즌')\n",
    "kbl_seasonal_aver_keys"
   ]
  },
  {
   "cell_type": "markdown",
   "metadata": {},
   "source": [
    "##### 각 부분별 기술통계를 실시한다"
   ]
  },
  {
   "cell_type": "code",
   "execution_count": 608,
   "metadata": {},
   "outputs": [
    {
     "data": {
      "image/png": "[encoded data removed]",
      "text/plain": [
       "<Figure size 720x360 with 1 Axes>"
      ]
     },
     "metadata": {},
     "output_type": "display_data"
    }
   ],
   "source": [
    "plt.figure()\n",
    "kbl_seasonal_aver.sort_values('시즌')['득점'].plot(kind='bar', label = '득점',figsize=(10,5))\n",
    "plt.grid() # 그리드 적용하기\n",
    "plt.xlabel('시즌')       # x축 라벨 적용하기\n",
    "plt.ylabel('득점')  # y축 라벨 적용하기\n",
    "plt.title('시즌별 득점') # 타이틀\n",
    "plt.show()"
   ]
  },
  {
   "cell_type": "markdown",
   "metadata": {},
   "source": [
    "##### 이상을 함수로 만들어 모든 변수에 대한 시계열 통계를 해본다"
   ]
  },
  {
   "cell_type": "code",
   "execution_count": 609,
   "metadata": {},
   "outputs": [],
   "source": [
    "def sh_fig(x_i):\n",
    "    plt.figure()\n",
    "    kbl_seasonal_aver.sort_values('시즌')[x_i].plot(kind='bar', label = x_i,figsize=(5,5))\n",
    "    plt.grid() # 그리드 적용하기\n",
    "    plt.xlabel('시즌')       # x축 라벨 적용하기\n",
    "    plt.ylabel(x_i)  # y축 라벨 적용하기\n",
    "    plt.title(x_i) # 타이틀\n",
    "    plt.show()\n",
    "    "
   ]
  },
  {
   "cell_type": "code",
   "execution_count": 610,
   "metadata": {},
   "outputs": [
    {
     "data": {
      "image/png": "[encoded data removed]",
      "text/plain": [
       "<Figure size 360x360 with 1 Axes>"
      ]
     },
     "metadata": {},
     "output_type": "display_data"
    },
    {
     "data": {
      "image/png": "[encoded data removed]",
      "text/plain": [
       "<Figure size 360x360 with 1 Axes>"
      ]
     },
     "metadata": {},
     "output_type": "display_data"
    },
    {
     "data": {
      "image/png": "[encoded data removed]",
      "text/plain": [
       "<Figure size 360x360 with 1 Axes>"
      ]
     },
     "metadata": {},
     "output_type": "display_data"
    },
    {
     "data": {
      "image/png": "[encoded data removed]",
      "text/plain": [
       "<Figure size 360x360 with 1 Axes>"
      ]
     },
     "metadata": {},
     "output_type": "display_data"
    },
    {
     "data": {
      "image/png": "[encoded data removed]",
      "text/plain": [
       "<Figure size 360x360 with 1 Axes>"
      ]
     },
     "metadata": {},
     "output_type": "display_data"
    },
    {
     "data": {
      "image/png": "[encoded data removed]",
      "text/plain": [
       "<Figure size 360x360 with 1 Axes>"
      ]
     },
     "metadata": {},
     "output_type": "display_data"
    },
    {
     "data": {
      "image/png": "[encoded data removed]",
      "text/plain": [
       "<Figure size 360x360 with 1 Axes>"
      ]
     },
     "metadata": {},
     "output_type": "display_data"
    },
    {
     "data": {
      "image/png": "[encoded data removed]",
      "text/plain": [
       "<Figure size 360x360 with 1 Axes>"
      ]
     },
     "metadata": {},
     "output_type": "display_data"
    },
    {
     "data": {
      "image/png": "[encoded data removed]",
      "text/plain": [
       "<Figure size 360x360 with 1 Axes>"
      ]
     },
     "metadata": {},
     "output_type": "display_data"
    },
    {
     "data": {
      "image/png": "[encoded data removed]",
      "text/plain": [
       "<Figure size 360x360 with 1 Axes>"
      ]
     },
     "metadata": {},
     "output_type": "display_data"
    },
    {
     "data": {
      "image/png": "[encoded data removed]",
      "text/plain": [
       "<Figure size 360x360 with 1 Axes>"
      ]
     },
     "metadata": {},
     "output_type": "display_data"
    },
    {
     "data": {
      "image/png": "[encoded data removed]",
      "text/plain": [
       "<Figure size 360x360 with 1 Axes>"
      ]
     },
     "metadata": {},
     "output_type": "display_data"
    },
    {
     "data": {
      "image/png": "[encoded data removed]",
      "text/plain": [
       "<Figure size 360x360 with 1 Axes>"
      ]
     },
     "metadata": {},
     "output_type": "display_data"
    },
    {
     "data": {
      "image/png": "[encoded data removed]",
      "text/plain": [
       "<Figure size 360x360 with 1 Axes>"
      ]
     },
     "metadata": {},
     "output_type": "display_data"
    },
    {
     "data": {
      "image/png": "[encoded data removed]",
      "text/plain": [
       "<Figure size 360x360 with 1 Axes>"
      ]
     },
     "metadata": {},
     "output_type": "display_data"
    },
    {
     "data": {
      "image/png": "[encoded data removed]",
      "text/plain": [
       "<Figure size 360x360 with 1 Axes>"
      ]
     },
     "metadata": {},
     "output_type": "display_data"
    },
    {
     "data": {
      "image/png": "[encoded data removed]",
      "text/plain": [
       "<Figure size 360x360 with 1 Axes>"
      ]
     },
     "metadata": {},
     "output_type": "display_data"
    },
    {
     "data": {
      "image/png": "[encoded data removed]",
      "text/plain": [
       "<Figure size 360x360 with 1 Axes>"
      ]
     },
     "metadata": {},
     "output_type": "display_data"
    },
    {
     "data": {
      "image/png": "[encoded data removed]",
      "text/plain": [
       "<Figure size 360x360 with 1 Axes>"
      ]
     },
     "metadata": {},
     "output_type": "display_data"
    },
    {
     "data": {
      "image/png": "[encoded data removed]",
      "text/plain": [
       "<Figure size 360x360 with 1 Axes>"
      ]
     },
     "metadata": {},
     "output_type": "display_data"
    },
    {
     "data": {
      "image/png": "[encoded data removed]",
      "text/plain": [
       "<Figure size 360x360 with 1 Axes>"
      ]
     },
     "metadata": {},
     "output_type": "display_data"
    },
    {
     "data": {
      "image/png": "[encoded data removed]",
      "text/plain": [
       "<Figure size 360x360 with 1 Axes>"
      ]
     },
     "metadata": {},
     "output_type": "display_data"
    }
   ],
   "source": [
    "for x_i in kbl_seasonal_aver_keys:\n",
    "    sh_fig(x_i)"
   ]
  },
  {
   "cell_type": "markdown",
   "metadata": {},
   "source": [
    "## 용병출전에 따른 분석"
   ]
  },
  {
   "cell_type": "markdown",
   "metadata": {},
   "source": [
    "![추세](시즌에 따른 득점과 관중 수 그래프.png)"
   ]
  },
  {
   "cell_type": "markdown",
   "metadata": {},
   "source": [
    "##### - 위의 추세 그래프를 통해서 알 수 있는 것은 득점과 관중 수는 정비례로 흘러가지 않는다는 것을 알 수 있음"
   ]
  },
  {
   "cell_type": "markdown",
   "metadata": {},
   "source": [
    "##### - 01~02부터 08~09까지, 그리고 15~16부터 17~18까지 용병출전을 경기당 2명을 출전시켰음\n",
    "##### - 09~10부터 14~15까지는 용병출전을 경기당 1명으로 출전시켰음 (붉은 색 표시)"
   ]
  },
  {
   "cell_type": "markdown",
   "metadata": {},
   "source": [
    "##### - 분석 결과, 2명 출전을 시켰을 때 보다 1명 출전을 했을 때 득점은 낮아졌으나, 관중 수는 높았음\n",
    "##### - 다시 15~16부터 용병 출전을 2명으로 바꾼 후, 득점은 올랐으나 관중 수는 떨어지고 있음"
   ]
  },
  {
   "cell_type": "markdown",
   "metadata": {},
   "source": [
    "## 용병 신장제한에 따른 분석"
   ]
  },
  {
   "cell_type": "markdown",
   "metadata": {},
   "source": [
    "![추세](시즌에 따른 득점과 관중 수 그래프 신장제한.png)"
   ]
  },
  {
   "cell_type": "markdown",
   "metadata": {},
   "source": [
    "##### - 01~02부터 07~08까지, 15~16부터 17~18까지 용병에 신장제한을 두었음\n",
    "##### - 08~09부터 14~15까지 용병에 신장제한을 두지 않았음 (하늘색 표시)"
   ]
  },
  {
   "cell_type": "markdown",
   "metadata": {},
   "source": [
    "##### - 분석 결과, 신장에 제한을 두지 않았던 08~09때가 16시즌 중에 일곱 번째로 득점이 높았고, 관중 수도 많았음\n",
    "##### - 09~10부터 득점은 높지 않았지만, 관중 수가 신장제한을 두었던 시즌들에 비해 많았음"
   ]
  },
  {
   "cell_type": "markdown",
   "metadata": {},
   "source": [
    "## 총재별 제도에 따른 분석"
   ]
  },
  {
   "cell_type": "markdown",
   "metadata": {},
   "source": [
    "![추세](총재별 그래프.png)"
   ]
  },
  {
   "cell_type": "markdown",
   "metadata": {},
   "source": [
    "### 윤세영 총재 시절의 룰 변경\n",
    "1. 지역방어 허용 -> 골밑 근처에서 공격하기 힘듦 (02~03때 전 시즌보다 득점 줄어듦)\n",
    "2. 용병 2명 모든 쿼터 출전에서 02~03때 2쿼터 출전 1명으로 제한"
   ]
  },
  {
   "cell_type": "markdown",
   "metadata": {},
   "source": [
    "### 김영기 첫 번째 총재 시절의 룰 변경 :\n",
    "용병 자유계약 시작. 용병의 키 합이 400cm를 넘기면 안 됨. 한 선수는 208cm까지 가능"
   ]
  },
  {
   "cell_type": "markdown",
   "metadata": {},
   "source": [
    "### 김영수 총재 시절의 룰 변경 :\n",
    "1. 14초룰 적용 (공격 팀이 공격리바운드를 잡고 다시 공격할 수 있는 시간은 14초)\n",
    "2. 파울 기준 강화 -> 자유투 성공이 증가함\n",
    "3. 트레블링 강화\n",
    "4. 2,3쿼터에 용병 한 명 출전 가능하고, 트라이아웃제도로 변경. 08~09때는 신장제한 폐지"
   ]
  },
  {
   "cell_type": "markdown",
   "metadata": {},
   "source": [
    "### 전육 총재 시절의 룰 변경 :\n",
    "1. 페인트 존 모양을 사다리꼴에서 직사각형으로 변경\n",
    "2. 3점슛 거리를 6.25M에서 6.75M로 변경 -> 3점슛 성공 갯수 줄어들며 득점도 줄어듦\n",
    "3. No Charging Zone 신성 (바스켓 중심으로1.25M 반원)\n",
    "4. 수비자 3초룰 강화 -> 골밑 공격이 좀 더 용이해짐\n",
    "5. 용병 2명 보유 모든 쿼터 1명 출전. 11~12시즌 때는 자유계약으로 용병 한 명 보유로 변경 -> 용병의 득점비중 줄어들며 평균득점 감소"
   ]
  },
  {
   "cell_type": "markdown",
   "metadata": {},
   "source": [
    "### 한선교 총재 시절의 룰 변경 :\n",
    "1. 수비자 3초룰 폐지 (골밑 공격이 힘들어지면서 득점도 줄어듦)\n",
    "2. 속공 파울 신설 (자유투 2개와 공격권 부여) -> 언스포츠맨라이크 파울로 변경\n",
    "3. 테크니컬 파울을 범할 경우, 자유투1개와 공격권 부여, 개인 파울에 포함시킴\n",
    "4. 비디오 판독 가능\n",
    "5. 용병선발을 다시 자유계약에서 트라이아웃으로 변경. 2명 보유 한 명 출전으로 다시 바꿈 "
   ]
  },
  {
   "cell_type": "markdown",
   "metadata": {},
   "source": [
    "### 김영기 총재 시절의 룰 변경 :\n",
    "1. 용병 신장제한 부활. 한 명은 193cm 이상, 다른 한 명은 193cm 미만\n",
    "->1라운드엔 1명 출전, 2,3라운드엔 3쿼터에만 2명 출전, 4~6라운드엔 2,3쿼터에 2명 출전 -> 용병의 득점 비중이 높아지면서 다시 평균득점 증가"
   ]
  },
  {
   "cell_type": "markdown",
   "metadata": {},
   "source": [
    "# 각 구단의 시즌별 경기 데이터 분석"
   ]
  },
  {
   "cell_type": "markdown",
   "metadata": {},
   "source": [
    "##### 시즌별 각 구단의 데이터 160개로 회귀분석을 실행한다"
   ]
  },
  {
   "cell_type": "markdown",
   "metadata": {},
   "source": [
    "##### 회귀분석을 위한 사전준비"
   ]
  },
  {
   "cell_type": "code",
   "execution_count": 640,
   "metadata": {},
   "outputs": [],
   "source": [
    "import matplotlib.pyplot as plt\n",
    "import matplotlib\n",
    "%matplotlib inline\n",
    "\n",
    "# 폰트 문제 해결하기\n",
    "import platform\n",
    "\n",
    "path = \"c:/Windows/Fonts/malgun.ttf\"\n",
    "from matplotlib import font_manager, rc\n",
    "if platform.system() == 'Darwin':\n",
    "    rc('font', family='AppleGothic')\n",
    "elif platform.system() == 'Windows':\n",
    "    font_name = font_manager.FontProperties(fname=path).get_name()\n",
    "    rc('font', family=font_name)\n",
    "else:\n",
    "    print('Unknown system... sorry~~~~')"
   ]
  },
  {
   "cell_type": "markdown",
   "metadata": {},
   "source": [
    "##### 일부 모듈이 추후에 변경된다는 경고가 뜬다.\n",
    "##### 당장의 실행에 지장 없음"
   ]
  },
  {
   "cell_type": "code",
   "execution_count": 641,
   "metadata": {},
   "outputs": [],
   "source": [
    "import statsmodels.api as sm\n",
    "import statsmodels.formula.api as smf\n",
    "import statsmodels.stats.api as sms\n",
    "#model = OLS(y, X)"
   ]
  },
  {
   "cell_type": "code",
   "execution_count": 642,
   "metadata": {},
   "outputs": [],
   "source": [
    "# 상수항이 없으면 false\n",
    "fit_intercept = True"
   ]
  },
  {
   "cell_type": "code",
   "execution_count": 643,
   "metadata": {},
   "outputs": [
    {
     "data": {
      "text/html": [
       "<div>\n",
       "<style scoped>\n",
       "    .dataframe tbody tr th:only-of-type {\n",
       "        vertical-align: middle;\n",
       "    }\n",
       "\n",
       "    .dataframe tbody tr th {\n",
       "        vertical-align: top;\n",
       "    }\n",
       "\n",
       "    .dataframe thead th {\n",
       "        text-align: right;\n",
       "    }\n",
       "</style>\n",
       "<table border=\"1\" class=\"dataframe\">\n",
       "  <thead>\n",
       "    <tr style=\"text-align: right;\">\n",
       "      <th></th>\n",
       "      <th>3점슛성공</th>\n",
       "      <th>관중 수</th>\n",
       "    </tr>\n",
       "  </thead>\n",
       "  <tbody>\n",
       "    <tr>\n",
       "      <th>0</th>\n",
       "      <td>5.8</td>\n",
       "      <td>81179</td>\n",
       "    </tr>\n",
       "    <tr>\n",
       "      <th>1</th>\n",
       "      <td>5.4</td>\n",
       "      <td>113071</td>\n",
       "    </tr>\n",
       "    <tr>\n",
       "      <th>2</th>\n",
       "      <td>5.6</td>\n",
       "      <td>100231</td>\n",
       "    </tr>\n",
       "    <tr>\n",
       "      <th>3</th>\n",
       "      <td>7.4</td>\n",
       "      <td>77072</td>\n",
       "    </tr>\n",
       "    <tr>\n",
       "      <th>4</th>\n",
       "      <td>6.5</td>\n",
       "      <td>122304</td>\n",
       "    </tr>\n",
       "  </tbody>\n",
       "</table>\n",
       "</div>"
      ],
      "text/plain": [
       "   3점슛성공    관중 수\n",
       "0    5.8   81179\n",
       "1    5.4  113071\n",
       "2    5.6  100231\n",
       "3    7.4   77072\n",
       "4    6.5  122304"
      ]
     },
     "execution_count": 643,
     "metadata": {},
     "output_type": "execute_result"
    }
   ],
   "source": [
    "# 독립변수\n",
    "X = kbl_base['3점슛성공']\n",
    "# 종속변수\n",
    "Y = kbl_base['관중 수']\n",
    "\n",
    "# 데이터 횡으로 합치기(concat)\n",
    "df = pd.concat([X, Y], axis=1)\n",
    "df.head()"
   ]
  },
  {
   "cell_type": "code",
   "execution_count": 644,
   "metadata": {},
   "outputs": [
    {
     "data": {
      "text/plain": [
       "0    5.8\n",
       "1    5.4\n",
       "2    5.6\n",
       "3    7.4\n",
       "4    6.5\n",
       "Name: 3점슛성공, dtype: float64"
      ]
     },
     "execution_count": 644,
     "metadata": {},
     "output_type": "execute_result"
    }
   ],
   "source": [
    "# 종속변수\n",
    "X.head()"
   ]
  },
  {
   "cell_type": "code",
   "execution_count": 645,
   "metadata": {},
   "outputs": [
    {
     "data": {
      "text/plain": [
       "0     81179\n",
       "1    113071\n",
       "2    100231\n",
       "3     77072\n",
       "4    122304\n",
       "Name: 관중 수, dtype: int64"
      ]
     },
     "execution_count": 645,
     "metadata": {},
     "output_type": "execute_result"
    }
   ],
   "source": [
    "# 독립변수\n",
    "Y.head()"
   ]
  },
  {
   "cell_type": "code",
   "execution_count": 704,
   "metadata": {},
   "outputs": [],
   "source": [
    "# 데이터 준비\n",
    "dfX0 = kbl_base['득점'] # 독립변수\n",
    "dfX = sm.add_constant(dfX0) # 자동으로 상수항을 만들어주지 않기 때문에 사용자가 add_constant 명령으로 상수항을 추가해야 한다.\n",
    "dfy = kbl_base['관중 수'] # 종속변수"
   ]
  },
  {
   "cell_type": "code",
   "execution_count": 705,
   "metadata": {},
   "outputs": [
    {
     "name": "stdout",
     "output_type": "stream",
     "text": [
      "                  Results: Ordinary least squares\n",
      "===================================================================\n",
      "Model:              OLS              Adj. R-squared:     0.006     \n",
      "Dependent Variable: 관중 수             AIC:                3785.9657 \n",
      "Date:               2018-06-13 15:28 BIC:                3792.1160 \n",
      "No. Observations:   160              Log-Likelihood:     -1891.0   \n",
      "Df Model:           1                F-statistic:        1.936     \n",
      "Df Residuals:       158              Prob (F-statistic): 0.166     \n",
      "R-squared:          0.012            Scale:              1.0928e+09\n",
      "-------------------------------------------------------------------\n",
      "          Coef.     Std.Err.    t    P>|t|     [0.025      0.975]  \n",
      "-------------------------------------------------------------------\n",
      "const   54352.9269 41850.1273 1.2988 0.1959 -28304.9278 137010.7817\n",
      "득점        724.6727   520.8767 1.3913 0.1661   -304.1067   1753.4521\n",
      "-------------------------------------------------------------------\n",
      "Omnibus:               10.162        Durbin-Watson:           1.858\n",
      "Prob(Omnibus):         0.006         Jarque-Bera (JB):        5.085\n",
      "Skew:                  0.213         Prob(JB):                0.079\n",
      "Kurtosis:              2.238         Condition No.:           1287 \n",
      "===================================================================\n",
      "* The condition number is large (1e+03). This might indicate\n",
      "strong multicollinearity or other numerical problems.\n"
     ]
    }
   ],
   "source": [
    "# model_boston2라는 이름으로 OLS 모델 구조화\n",
    "model_kbl = sm.OLS(dfy, dfX) # (종속변수, 독립변수)\n",
    "\n",
    "# OLS 회귀모형 피팅\n",
    "result_kbl = model_kbl.fit()\n",
    "\n",
    "# 회귀분석 결과 요약\n",
    "print(result_kbl.summary2())"
   ]
  },
  {
   "cell_type": "markdown",
   "metadata": {},
   "source": [
    "##### 이상의 과정을 함수로 만든다.\n",
    "##### 이 때 t 값을 모아서 볼 수 있도록 한다."
   ]
  },
  {
   "cell_type": "code",
   "execution_count": 648,
   "metadata": {},
   "outputs": [],
   "source": [
    "def reg_t(x_i, y_i):\n",
    "    dfX0 = x_i\n",
    "    dfX = sm.add_constant(dfX0)\n",
    "    dfy = y_i\n",
    "    model_kbl = sm.OLS(dfy, dfX)\n",
    "    result_kbl = model_kbl.fit()\n",
    "    return result_kbl.tvalues"
   ]
  },
  {
   "cell_type": "markdown",
   "metadata": {},
   "source": [
    "#### 팀 이름, 확률값 등은 분석에서 제외한다"
   ]
  },
  {
   "cell_type": "code",
   "execution_count": 649,
   "metadata": {},
   "outputs": [],
   "source": [
    "xs = list(kbl_base.keys())\n",
    "xs.remove('팀')\n",
    "xs.remove('시즌')\n",
    "xs.remove('관중 수')\n",
    "xs.remove('2점슛 성공률 (%)')\n",
    "xs.remove('3점슛 성공률 (%)')\n",
    "xs.remove('자유투 성공률 (%)')"
   ]
  },
  {
   "cell_type": "code",
   "execution_count": 650,
   "metadata": {},
   "outputs": [],
   "source": [
    "result_t = {'변수':[],'const_t':[],'변수_t':[]}\n",
    "for x_i in xs:\n",
    "    result_t['변수'].append(x_i)\n",
    "    result_t['const_t'].append(reg_t(kbl_base[x_i], kbl_base['관중 수'])[0])\n",
    "    result_t['변수_t'].append(reg_t(kbl_base[x_i], kbl_base['관중 수'])[1])"
   ]
  },
  {
   "cell_type": "code",
   "execution_count": 651,
   "metadata": {},
   "outputs": [
    {
     "data": {
      "text/html": [
       "<div>\n",
       "<style scoped>\n",
       "    .dataframe tbody tr th:only-of-type {\n",
       "        vertical-align: middle;\n",
       "    }\n",
       "\n",
       "    .dataframe tbody tr th {\n",
       "        vertical-align: top;\n",
       "    }\n",
       "\n",
       "    .dataframe thead th {\n",
       "        text-align: right;\n",
       "    }\n",
       "</style>\n",
       "<table border=\"1\" class=\"dataframe\">\n",
       "  <thead>\n",
       "    <tr style=\"text-align: right;\">\n",
       "      <th></th>\n",
       "      <th>변수</th>\n",
       "      <th>const_t</th>\n",
       "      <th>변수_t</th>\n",
       "    </tr>\n",
       "  </thead>\n",
       "  <tbody>\n",
       "    <tr>\n",
       "      <th>15</th>\n",
       "      <td>교체</td>\n",
       "      <td>10.543194</td>\n",
       "      <td>2.877581</td>\n",
       "    </tr>\n",
       "    <tr>\n",
       "      <th>10</th>\n",
       "      <td>w/oFT</td>\n",
       "      <td>1.177075</td>\n",
       "      <td>2.478839</td>\n",
       "    </tr>\n",
       "    <tr>\n",
       "      <th>7</th>\n",
       "      <td>자유투 성공</td>\n",
       "      <td>3.625924</td>\n",
       "      <td>2.026618</td>\n",
       "    </tr>\n",
       "    <tr>\n",
       "      <th>13</th>\n",
       "      <td>DK</td>\n",
       "      <td>16.259983</td>\n",
       "      <td>1.578204</td>\n",
       "    </tr>\n",
       "    <tr>\n",
       "      <th>14</th>\n",
       "      <td>DKA</td>\n",
       "      <td>16.022110</td>\n",
       "      <td>1.522231</td>\n",
       "    </tr>\n",
       "    <tr>\n",
       "      <th>0</th>\n",
       "      <td>득점</td>\n",
       "      <td>1.298752</td>\n",
       "      <td>1.391256</td>\n",
       "    </tr>\n",
       "    <tr>\n",
       "      <th>11</th>\n",
       "      <td>Tot.</td>\n",
       "      <td>2.855684</td>\n",
       "      <td>0.925956</td>\n",
       "    </tr>\n",
       "    <tr>\n",
       "      <th>6</th>\n",
       "      <td>2점슛 성공</td>\n",
       "      <td>2.632783</td>\n",
       "      <td>0.925825</td>\n",
       "    </tr>\n",
       "    <tr>\n",
       "      <th>1</th>\n",
       "      <td>리바운드</td>\n",
       "      <td>1.872930</td>\n",
       "      <td>0.804824</td>\n",
       "    </tr>\n",
       "    <tr>\n",
       "      <th>12</th>\n",
       "      <td>TF</td>\n",
       "      <td>17.866698</td>\n",
       "      <td>0.744620</td>\n",
       "    </tr>\n",
       "    <tr>\n",
       "      <th>4</th>\n",
       "      <td>블록</td>\n",
       "      <td>10.201504</td>\n",
       "      <td>-0.014341</td>\n",
       "    </tr>\n",
       "    <tr>\n",
       "      <th>5</th>\n",
       "      <td>3점슛성공</td>\n",
       "      <td>7.180195</td>\n",
       "      <td>-0.189952</td>\n",
       "    </tr>\n",
       "    <tr>\n",
       "      <th>2</th>\n",
       "      <td>어시스트</td>\n",
       "      <td>4.825385</td>\n",
       "      <td>-0.369403</td>\n",
       "    </tr>\n",
       "    <tr>\n",
       "      <th>3</th>\n",
       "      <td>스틸</td>\n",
       "      <td>5.131895</td>\n",
       "      <td>-0.393850</td>\n",
       "    </tr>\n",
       "    <tr>\n",
       "      <th>9</th>\n",
       "      <td>w/FT</td>\n",
       "      <td>6.201066</td>\n",
       "      <td>-0.421244</td>\n",
       "    </tr>\n",
       "    <tr>\n",
       "      <th>8</th>\n",
       "      <td>턴오버</td>\n",
       "      <td>4.299209</td>\n",
       "      <td>-0.487399</td>\n",
       "    </tr>\n",
       "    <tr>\n",
       "      <th>16</th>\n",
       "      <td>팀 순위</td>\n",
       "      <td>27.550476</td>\n",
       "      <td>-6.185787</td>\n",
       "    </tr>\n",
       "  </tbody>\n",
       "</table>\n",
       "</div>"
      ],
      "text/plain": [
       "        변수    const_t      변수_t\n",
       "15      교체  10.543194  2.877581\n",
       "10   w/oFT   1.177075  2.478839\n",
       "7   자유투 성공   3.625924  2.026618\n",
       "13      DK  16.259983  1.578204\n",
       "14     DKA  16.022110  1.522231\n",
       "0       득점   1.298752  1.391256\n",
       "11    Tot.   2.855684  0.925956\n",
       "6   2점슛 성공   2.632783  0.925825\n",
       "1     리바운드   1.872930  0.804824\n",
       "12      TF  17.866698  0.744620\n",
       "4       블록  10.201504 -0.014341\n",
       "5    3점슛성공   7.180195 -0.189952\n",
       "2     어시스트   4.825385 -0.369403\n",
       "3       스틸   5.131895 -0.393850\n",
       "9     w/FT   6.201066 -0.421244\n",
       "8      턴오버   4.299209 -0.487399\n",
       "16    팀 순위  27.550476 -6.185787"
      ]
     },
     "execution_count": 651,
     "metadata": {},
     "output_type": "execute_result"
    }
   ],
   "source": [
    "result_df_t = pd.DataFrame(result_t, columns=['변수','const_t','변수_t'])\n",
    "result_df_t.sort_values('변수_t', ascending=False) # 변수의 t 값에 따라 내림차순 정렬"
   ]
  },
  {
   "cell_type": "markdown",
   "metadata": {},
   "source": [
    "##### 비슷한 원리로, R제곱 값을 구해본다"
   ]
  },
  {
   "cell_type": "code",
   "execution_count": 652,
   "metadata": {},
   "outputs": [],
   "source": [
    "def reg_rs(x_i, y_i):\n",
    "    dfX0 = x_i\n",
    "    dfX = sm.add_constant(dfX0)\n",
    "    dfy = y_i\n",
    "    model_kbl = sm.OLS(dfy, dfX)\n",
    "    result_kbl = model_kbl.fit()\n",
    "    return result_kbl.rsquared"
   ]
  },
  {
   "cell_type": "code",
   "execution_count": 653,
   "metadata": {},
   "outputs": [],
   "source": [
    "xs = list(kbl_base.keys())\n",
    "xs.remove('팀')\n",
    "xs.remove('시즌')\n",
    "xs.remove('관중 수')\n",
    "xs.remove('2점슛 성공률 (%)')\n",
    "xs.remove('3점슛 성공률 (%)')\n",
    "xs.remove('자유투 성공률 (%)')"
   ]
  },
  {
   "cell_type": "code",
   "execution_count": 654,
   "metadata": {},
   "outputs": [],
   "source": [
    "result_rs = {'변수':[],'rs':[]}\n",
    "for x_i in xs:\n",
    "    result_rs['변수'].append(x_i)\n",
    "    result_rs['rs'].append(reg_rs(kbl_base[x_i], kbl_base['관중 수']))"
   ]
  },
  {
   "cell_type": "code",
   "execution_count": 655,
   "metadata": {},
   "outputs": [
    {
     "data": {
      "text/html": [
       "<div>\n",
       "<style scoped>\n",
       "    .dataframe tbody tr th:only-of-type {\n",
       "        vertical-align: middle;\n",
       "    }\n",
       "\n",
       "    .dataframe tbody tr th {\n",
       "        vertical-align: top;\n",
       "    }\n",
       "\n",
       "    .dataframe thead th {\n",
       "        text-align: right;\n",
       "    }\n",
       "</style>\n",
       "<table border=\"1\" class=\"dataframe\">\n",
       "  <thead>\n",
       "    <tr style=\"text-align: right;\">\n",
       "      <th></th>\n",
       "      <th>변수</th>\n",
       "      <th>rs</th>\n",
       "    </tr>\n",
       "  </thead>\n",
       "  <tbody>\n",
       "    <tr>\n",
       "      <th>16</th>\n",
       "      <td>팀 순위</td>\n",
       "      <td>0.194962</td>\n",
       "    </tr>\n",
       "    <tr>\n",
       "      <th>15</th>\n",
       "      <td>교체</td>\n",
       "      <td>0.049798</td>\n",
       "    </tr>\n",
       "    <tr>\n",
       "      <th>10</th>\n",
       "      <td>w/oFT</td>\n",
       "      <td>0.037434</td>\n",
       "    </tr>\n",
       "    <tr>\n",
       "      <th>7</th>\n",
       "      <td>자유투 성공</td>\n",
       "      <td>0.025336</td>\n",
       "    </tr>\n",
       "    <tr>\n",
       "      <th>13</th>\n",
       "      <td>DK</td>\n",
       "      <td>0.015519</td>\n",
       "    </tr>\n",
       "    <tr>\n",
       "      <th>14</th>\n",
       "      <td>DKA</td>\n",
       "      <td>0.014454</td>\n",
       "    </tr>\n",
       "    <tr>\n",
       "      <th>0</th>\n",
       "      <td>득점</td>\n",
       "      <td>0.012102</td>\n",
       "    </tr>\n",
       "    <tr>\n",
       "      <th>11</th>\n",
       "      <td>Tot.</td>\n",
       "      <td>0.005397</td>\n",
       "    </tr>\n",
       "    <tr>\n",
       "      <th>6</th>\n",
       "      <td>2점슛 성공</td>\n",
       "      <td>0.005396</td>\n",
       "    </tr>\n",
       "    <tr>\n",
       "      <th>1</th>\n",
       "      <td>리바운드</td>\n",
       "      <td>0.004083</td>\n",
       "    </tr>\n",
       "    <tr>\n",
       "      <th>12</th>\n",
       "      <td>TF</td>\n",
       "      <td>0.003497</td>\n",
       "    </tr>\n",
       "    <tr>\n",
       "      <th>8</th>\n",
       "      <td>턴오버</td>\n",
       "      <td>0.001501</td>\n",
       "    </tr>\n",
       "    <tr>\n",
       "      <th>9</th>\n",
       "      <td>w/FT</td>\n",
       "      <td>0.001122</td>\n",
       "    </tr>\n",
       "    <tr>\n",
       "      <th>3</th>\n",
       "      <td>스틸</td>\n",
       "      <td>0.000981</td>\n",
       "    </tr>\n",
       "    <tr>\n",
       "      <th>2</th>\n",
       "      <td>어시스트</td>\n",
       "      <td>0.000863</td>\n",
       "    </tr>\n",
       "    <tr>\n",
       "      <th>5</th>\n",
       "      <td>3점슛성공</td>\n",
       "      <td>0.000228</td>\n",
       "    </tr>\n",
       "    <tr>\n",
       "      <th>4</th>\n",
       "      <td>블록</td>\n",
       "      <td>0.000001</td>\n",
       "    </tr>\n",
       "  </tbody>\n",
       "</table>\n",
       "</div>"
      ],
      "text/plain": [
       "        변수        rs\n",
       "16    팀 순위  0.194962\n",
       "15      교체  0.049798\n",
       "10   w/oFT  0.037434\n",
       "7   자유투 성공  0.025336\n",
       "13      DK  0.015519\n",
       "14     DKA  0.014454\n",
       "0       득점  0.012102\n",
       "11    Tot.  0.005397\n",
       "6   2점슛 성공  0.005396\n",
       "1     리바운드  0.004083\n",
       "12      TF  0.003497\n",
       "8      턴오버  0.001501\n",
       "9     w/FT  0.001122\n",
       "3       스틸  0.000981\n",
       "2     어시스트  0.000863\n",
       "5    3점슛성공  0.000228\n",
       "4       블록  0.000001"
      ]
     },
     "execution_count": 655,
     "metadata": {},
     "output_type": "execute_result"
    }
   ],
   "source": [
    "result_df_rs = pd.DataFrame(result_rs, columns=['변수','rs'])\n",
    "result_df_rs.sort_values('rs', ascending=False) # 변수의 t 값에 따라 내림차순 정렬"
   ]
  },
  {
   "cell_type": "markdown",
   "metadata": {},
   "source": [
    "##### 이상의 결과를 하나로 합친다"
   ]
  },
  {
   "cell_type": "code",
   "execution_count": 656,
   "metadata": {},
   "outputs": [],
   "source": [
    "result_all = pd.merge(result_df_t, result_df_rs, how='outer', on='변수')"
   ]
  },
  {
   "cell_type": "code",
   "execution_count": 657,
   "metadata": {},
   "outputs": [
    {
     "data": {
      "text/html": [
       "<div>\n",
       "<style scoped>\n",
       "    .dataframe tbody tr th:only-of-type {\n",
       "        vertical-align: middle;\n",
       "    }\n",
       "\n",
       "    .dataframe tbody tr th {\n",
       "        vertical-align: top;\n",
       "    }\n",
       "\n",
       "    .dataframe thead th {\n",
       "        text-align: right;\n",
       "    }\n",
       "</style>\n",
       "<table border=\"1\" class=\"dataframe\">\n",
       "  <thead>\n",
       "    <tr style=\"text-align: right;\">\n",
       "      <th></th>\n",
       "      <th>변수</th>\n",
       "      <th>const_t</th>\n",
       "      <th>변수_t</th>\n",
       "      <th>rs</th>\n",
       "    </tr>\n",
       "  </thead>\n",
       "  <tbody>\n",
       "    <tr>\n",
       "      <th>16</th>\n",
       "      <td>팀 순위</td>\n",
       "      <td>27.550476</td>\n",
       "      <td>-6.185787</td>\n",
       "      <td>0.194962</td>\n",
       "    </tr>\n",
       "    <tr>\n",
       "      <th>15</th>\n",
       "      <td>교체</td>\n",
       "      <td>10.543194</td>\n",
       "      <td>2.877581</td>\n",
       "      <td>0.049798</td>\n",
       "    </tr>\n",
       "    <tr>\n",
       "      <th>10</th>\n",
       "      <td>w/oFT</td>\n",
       "      <td>1.177075</td>\n",
       "      <td>2.478839</td>\n",
       "      <td>0.037434</td>\n",
       "    </tr>\n",
       "    <tr>\n",
       "      <th>7</th>\n",
       "      <td>자유투 성공</td>\n",
       "      <td>3.625924</td>\n",
       "      <td>2.026618</td>\n",
       "      <td>0.025336</td>\n",
       "    </tr>\n",
       "    <tr>\n",
       "      <th>13</th>\n",
       "      <td>DK</td>\n",
       "      <td>16.259983</td>\n",
       "      <td>1.578204</td>\n",
       "      <td>0.015519</td>\n",
       "    </tr>\n",
       "    <tr>\n",
       "      <th>14</th>\n",
       "      <td>DKA</td>\n",
       "      <td>16.022110</td>\n",
       "      <td>1.522231</td>\n",
       "      <td>0.014454</td>\n",
       "    </tr>\n",
       "    <tr>\n",
       "      <th>0</th>\n",
       "      <td>득점</td>\n",
       "      <td>1.298752</td>\n",
       "      <td>1.391256</td>\n",
       "      <td>0.012102</td>\n",
       "    </tr>\n",
       "    <tr>\n",
       "      <th>11</th>\n",
       "      <td>Tot.</td>\n",
       "      <td>2.855684</td>\n",
       "      <td>0.925956</td>\n",
       "      <td>0.005397</td>\n",
       "    </tr>\n",
       "    <tr>\n",
       "      <th>6</th>\n",
       "      <td>2점슛 성공</td>\n",
       "      <td>2.632783</td>\n",
       "      <td>0.925825</td>\n",
       "      <td>0.005396</td>\n",
       "    </tr>\n",
       "    <tr>\n",
       "      <th>1</th>\n",
       "      <td>리바운드</td>\n",
       "      <td>1.872930</td>\n",
       "      <td>0.804824</td>\n",
       "      <td>0.004083</td>\n",
       "    </tr>\n",
       "    <tr>\n",
       "      <th>12</th>\n",
       "      <td>TF</td>\n",
       "      <td>17.866698</td>\n",
       "      <td>0.744620</td>\n",
       "      <td>0.003497</td>\n",
       "    </tr>\n",
       "    <tr>\n",
       "      <th>8</th>\n",
       "      <td>턴오버</td>\n",
       "      <td>4.299209</td>\n",
       "      <td>-0.487399</td>\n",
       "      <td>0.001501</td>\n",
       "    </tr>\n",
       "    <tr>\n",
       "      <th>9</th>\n",
       "      <td>w/FT</td>\n",
       "      <td>6.201066</td>\n",
       "      <td>-0.421244</td>\n",
       "      <td>0.001122</td>\n",
       "    </tr>\n",
       "    <tr>\n",
       "      <th>3</th>\n",
       "      <td>스틸</td>\n",
       "      <td>5.131895</td>\n",
       "      <td>-0.393850</td>\n",
       "      <td>0.000981</td>\n",
       "    </tr>\n",
       "    <tr>\n",
       "      <th>2</th>\n",
       "      <td>어시스트</td>\n",
       "      <td>4.825385</td>\n",
       "      <td>-0.369403</td>\n",
       "      <td>0.000863</td>\n",
       "    </tr>\n",
       "    <tr>\n",
       "      <th>5</th>\n",
       "      <td>3점슛성공</td>\n",
       "      <td>7.180195</td>\n",
       "      <td>-0.189952</td>\n",
       "      <td>0.000228</td>\n",
       "    </tr>\n",
       "    <tr>\n",
       "      <th>4</th>\n",
       "      <td>블록</td>\n",
       "      <td>10.201504</td>\n",
       "      <td>-0.014341</td>\n",
       "      <td>0.000001</td>\n",
       "    </tr>\n",
       "  </tbody>\n",
       "</table>\n",
       "</div>"
      ],
      "text/plain": [
       "        변수    const_t      변수_t        rs\n",
       "16    팀 순위  27.550476 -6.185787  0.194962\n",
       "15      교체  10.543194  2.877581  0.049798\n",
       "10   w/oFT   1.177075  2.478839  0.037434\n",
       "7   자유투 성공   3.625924  2.026618  0.025336\n",
       "13      DK  16.259983  1.578204  0.015519\n",
       "14     DKA  16.022110  1.522231  0.014454\n",
       "0       득점   1.298752  1.391256  0.012102\n",
       "11    Tot.   2.855684  0.925956  0.005397\n",
       "6   2점슛 성공   2.632783  0.925825  0.005396\n",
       "1     리바운드   1.872930  0.804824  0.004083\n",
       "12      TF  17.866698  0.744620  0.003497\n",
       "8      턴오버   4.299209 -0.487399  0.001501\n",
       "9     w/FT   6.201066 -0.421244  0.001122\n",
       "3       스틸   5.131895 -0.393850  0.000981\n",
       "2     어시스트   4.825385 -0.369403  0.000863\n",
       "5    3점슛성공   7.180195 -0.189952  0.000228\n",
       "4       블록  10.201504 -0.014341  0.000001"
      ]
     },
     "execution_count": 657,
     "metadata": {},
     "output_type": "execute_result"
    }
   ],
   "source": [
    "result_all.sort_values('rs', ascending=False)"
   ]
  },
  {
   "cell_type": "markdown",
   "metadata": {},
   "source": [
    "#####  '팀 순위'를 제외한 나머지 요인들은 r-square값이 매우 작으므로 통계적으로 유의미하지 않다. 하지만 순위도 각 구단별로 분석했을 경우 의미가 있지만, 전체 시즌 관중 수에 영향을 미칠 수 있는 요인이 아니다. 득점같은 경우는  P값이 0.1661이므로 유의수준 0.05보다 크므로 득점이 관중을 모으는데 영향을 주지 않음"
   ]
  },
  {
   "cell_type": "markdown",
   "metadata": {},
   "source": [
    "#### 그렇다면, 용병의 신장제한이 득점에 많은 영향을 미치는가?\n",
    "#### 득점에 영향을 끼치는 요인들을 또 다시 회귀분석을 통해서 분석해 보았다."
   ]
  },
  {
   "cell_type": "markdown",
   "metadata": {},
   "source": [
    "#### 위에서 했던 회귀분석 과정을 그대로 득점에 영향을 미칠것으로 보이는 2점슛 성공, 3점슛성공, 자유투 성공을 이용해서 분석해 봄"
   ]
  },
  {
   "cell_type": "code",
   "execution_count": 658,
   "metadata": {},
   "outputs": [],
   "source": [
    "# 데이터 준비\n",
    "dfX0 = kbl_base['3점슛성공'] # 독립변수\n",
    "dfX = sm.add_constant(dfX0) # 자동으로 상수항을 만들어주지 않기 때문에 사용자가 add_constant 명령으로 상수항을 추가해야 한다.\n",
    "dfy = kbl_base['득점'] # 종속변수"
   ]
  },
  {
   "cell_type": "code",
   "execution_count": 659,
   "metadata": {},
   "outputs": [
    {
     "name": "stdout",
     "output_type": "stream",
     "text": [
      "                 Results: Ordinary least squares\n",
      "=================================================================\n",
      "Model:              OLS              Adj. R-squared:     0.278   \n",
      "Dependent Variable: 득점               AIC:                921.0994\n",
      "Date:               2018-06-13 15:12 BIC:                927.2498\n",
      "No. Observations:   160              Log-Likelihood:     -458.55 \n",
      "Df Model:           1                F-statistic:        62.17   \n",
      "Df Residuals:       158              Prob (F-statistic): 4.86e-13\n",
      "R-squared:          0.282            Scale:              18.294  \n",
      "-------------------------------------------------------------------\n",
      "           Coef.    Std.Err.      t      P>|t|     [0.025    0.975]\n",
      "-------------------------------------------------------------------\n",
      "const     64.0988     2.0685   30.9881   0.0000   60.0133   68.1843\n",
      "3점슛성공      2.3566     0.2989    7.8846   0.0000    1.7663    2.9470\n",
      "-----------------------------------------------------------------\n",
      "Omnibus:               3.294        Durbin-Watson:          0.756\n",
      "Prob(Omnibus):         0.193        Jarque-Bera (JB):       3.293\n",
      "Skew:                  -0.312       Prob(JB):               0.193\n",
      "Kurtosis:              2.677        Condition No.:          43   \n",
      "=================================================================\n",
      "\n"
     ]
    }
   ],
   "source": [
    "# model_boston2라는 이름으로 OLS 모델 구조화\n",
    "model_kbl = sm.OLS(dfy, dfX) # (종속변수, 독립변수)\n",
    "\n",
    "# OLS 회귀모형 피팅\n",
    "result_kbl = model_kbl.fit()\n",
    "\n",
    "# 회귀분석 결과 요약\n",
    "print(result_kbl.summary2())"
   ]
  },
  {
   "cell_type": "code",
   "execution_count": 660,
   "metadata": {},
   "outputs": [],
   "source": [
    "# 데이터 준비\n",
    "dfX0 = kbl_base['2점슛 성공'] # 독립변수\n",
    "dfX = sm.add_constant(dfX0) # 자동으로 상수항을 만들어주지 않기 때문에 사용자가 add_constant 명령으로 상수항을 추가해야 한다.\n",
    "dfy = kbl_base['득점'] # 종속변수"
   ]
  },
  {
   "cell_type": "code",
   "execution_count": 661,
   "metadata": {},
   "outputs": [
    {
     "name": "stdout",
     "output_type": "stream",
     "text": [
      "                 Results: Ordinary least squares\n",
      "=================================================================\n",
      "Model:              OLS              Adj. R-squared:     0.399   \n",
      "Dependent Variable: 득점               AIC:                891.8022\n",
      "Date:               2018-06-13 15:12 BIC:                897.9525\n",
      "No. Observations:   160              Log-Likelihood:     -443.90 \n",
      "Df Model:           1                F-statistic:        106.4   \n",
      "Df Residuals:       158              Prob (F-statistic): 2.14e-19\n",
      "R-squared:          0.402            Scale:              15.233  \n",
      "-------------------------------------------------------------------\n",
      "           Coef.    Std.Err.      t      P>|t|     [0.025    0.975]\n",
      "-------------------------------------------------------------------\n",
      "const     41.9266     3.7220   11.2645   0.0000   34.5752   49.2779\n",
      "2점슛 성공     1.6263     0.1577   10.3155   0.0000    1.3149    1.9377\n",
      "-----------------------------------------------------------------\n",
      "Omnibus:              4.339        Durbin-Watson:           0.983\n",
      "Prob(Omnibus):        0.114        Jarque-Bera (JB):        3.412\n",
      "Skew:                 0.240        Prob(JB):                0.182\n",
      "Kurtosis:             2.469        Condition No.:           285  \n",
      "=================================================================\n",
      "\n"
     ]
    }
   ],
   "source": [
    "# model_boston2라는 이름으로 OLS 모델 구조화\n",
    "model_kbl = sm.OLS(dfy, dfX) # (종속변수, 독립변수)\n",
    "\n",
    "# OLS 회귀모형 피팅\n",
    "result_kbl = model_kbl.fit()\n",
    "\n",
    "# 회귀분석 결과 요약\n",
    "print(result_kbl.summary2())"
   ]
  },
  {
   "cell_type": "code",
   "execution_count": 662,
   "metadata": {},
   "outputs": [],
   "source": [
    "# 데이터 준비\n",
    "dfX0 = kbl_base['자유투 성공'] # 독립변수\n",
    "dfX = sm.add_constant(dfX0) # 자동으로 상수항을 만들어주지 않기 때문에 사용자가 add_constant 명령으로 상수항을 추가해야 한다.\n",
    "dfy = kbl_base['득점'] # 종속변수"
   ]
  },
  {
   "cell_type": "code",
   "execution_count": 663,
   "metadata": {},
   "outputs": [
    {
     "name": "stdout",
     "output_type": "stream",
     "text": [
      "                 Results: Ordinary least squares\n",
      "=================================================================\n",
      "Model:              OLS              Adj. R-squared:     0.185   \n",
      "Dependent Variable: 득점               AIC:                940.5034\n",
      "Date:               2018-06-13 15:12 BIC:                946.6538\n",
      "No. Observations:   160              Log-Likelihood:     -468.25 \n",
      "Df Model:           1                F-statistic:        37.02   \n",
      "Df Residuals:       158              Prob (F-statistic): 8.49e-09\n",
      "R-squared:          0.190            Scale:              20.653  \n",
      "-------------------------------------------------------------------\n",
      "           Coef.    Std.Err.      t      P>|t|     [0.025    0.975]\n",
      "-------------------------------------------------------------------\n",
      "const     63.5251     2.7621   22.9986   0.0000   58.0697   68.9806\n",
      "자유투 성공     1.3172     0.2165    6.0846   0.0000    0.8896    1.7448\n",
      "-----------------------------------------------------------------\n",
      "Omnibus:              3.732        Durbin-Watson:           0.571\n",
      "Prob(Omnibus):        0.155        Jarque-Bera (JB):        3.708\n",
      "Skew:                 0.333        Prob(JB):                0.157\n",
      "Kurtosis:             2.662        Condition No.:           99   \n",
      "=================================================================\n",
      "\n"
     ]
    }
   ],
   "source": [
    "# model_boston2라는 이름으로 OLS 모델 구조화\n",
    "model_kbl = sm.OLS(dfy, dfX) # (종속변수, 독립변수)\n",
    "\n",
    "# OLS 회귀모형 피팅\n",
    "result_kbl = model_kbl.fit()\n",
    "\n",
    "# 회귀분석 결과 요약\n",
    "print(result_kbl.summary2())"
   ]
  },
  {
   "cell_type": "code",
   "execution_count": 664,
   "metadata": {},
   "outputs": [],
   "source": [
    "def reg_t(x_i, y_i):\n",
    "    dfX0 = x_i\n",
    "    dfX = sm.add_constant(dfX0)\n",
    "    dfy = y_i\n",
    "    model_kbl = sm.OLS(dfy, dfX)\n",
    "    result_kbl = model_kbl.fit()\n",
    "    return result_kbl.tvalues"
   ]
  },
  {
   "cell_type": "code",
   "execution_count": 665,
   "metadata": {},
   "outputs": [],
   "source": [
    "xs = list(kbl_base.keys())\n",
    "xs.remove('팀')\n",
    "xs.remove('시즌')\n",
    "xs.remove('득점')\n",
    "xs.remove('TF')\n",
    "xs.remove('교체')\n",
    "xs.remove('턴오버')\n",
    "xs.remove('팀 순위')\n",
    "xs.remove('블록')\n",
    "xs.remove('DKA')\n",
    "xs.remove('DK')\n",
    "xs.remove('w/FT')\n",
    "xs.remove('w/oFT')\n",
    "xs.remove('Tot.')\n",
    "xs.remove('관중 수')\n",
    "xs.remove('2점슛 성공률 (%)')\n",
    "xs.remove('3점슛 성공률 (%)')\n",
    "xs.remove('자유투 성공률 (%)')\n",
    "xs.remove('어시스트')\n",
    "xs.remove('스틸')\n",
    "xs.remove('리바운드')"
   ]
  },
  {
   "cell_type": "code",
   "execution_count": 666,
   "metadata": {},
   "outputs": [],
   "source": [
    "result_t = {'변수':[],'const_t':[],'변수_t':[]}\n",
    "for x_i in xs:\n",
    "    result_t['변수'].append(x_i)\n",
    "    result_t['const_t'].append(reg_t(kbl_base[x_i], kbl_base['득점'])[0])\n",
    "    result_t['변수_t'].append(reg_t(kbl_base[x_i], kbl_base['득점'])[1])"
   ]
  },
  {
   "cell_type": "code",
   "execution_count": 667,
   "metadata": {},
   "outputs": [
    {
     "data": {
      "text/html": [
       "<div>\n",
       "<style scoped>\n",
       "    .dataframe tbody tr th:only-of-type {\n",
       "        vertical-align: middle;\n",
       "    }\n",
       "\n",
       "    .dataframe tbody tr th {\n",
       "        vertical-align: top;\n",
       "    }\n",
       "\n",
       "    .dataframe thead th {\n",
       "        text-align: right;\n",
       "    }\n",
       "</style>\n",
       "<table border=\"1\" class=\"dataframe\">\n",
       "  <thead>\n",
       "    <tr style=\"text-align: right;\">\n",
       "      <th></th>\n",
       "      <th>변수</th>\n",
       "      <th>const_t</th>\n",
       "      <th>변수_t</th>\n",
       "    </tr>\n",
       "  </thead>\n",
       "  <tbody>\n",
       "    <tr>\n",
       "      <th>1</th>\n",
       "      <td>2점슛 성공</td>\n",
       "      <td>11.264465</td>\n",
       "      <td>10.315452</td>\n",
       "    </tr>\n",
       "    <tr>\n",
       "      <th>0</th>\n",
       "      <td>3점슛성공</td>\n",
       "      <td>30.988104</td>\n",
       "      <td>7.884621</td>\n",
       "    </tr>\n",
       "    <tr>\n",
       "      <th>2</th>\n",
       "      <td>자유투 성공</td>\n",
       "      <td>22.998582</td>\n",
       "      <td>6.084573</td>\n",
       "    </tr>\n",
       "  </tbody>\n",
       "</table>\n",
       "</div>"
      ],
      "text/plain": [
       "       변수    const_t       변수_t\n",
       "1  2점슛 성공  11.264465  10.315452\n",
       "0   3점슛성공  30.988104   7.884621\n",
       "2  자유투 성공  22.998582   6.084573"
      ]
     },
     "execution_count": 667,
     "metadata": {},
     "output_type": "execute_result"
    }
   ],
   "source": [
    "result_df_t = pd.DataFrame(result_t, columns=['변수','const_t','변수_t'])\n",
    "result_df_t.sort_values('변수_t', ascending=False) # 변수의 t 값에 따라 내림차순 정렬"
   ]
  },
  {
   "cell_type": "code",
   "execution_count": 668,
   "metadata": {},
   "outputs": [],
   "source": [
    "def reg_rs(x_i, y_i):\n",
    "    dfX0 = x_i\n",
    "    dfX = sm.add_constant(dfX0)\n",
    "    dfy = y_i\n",
    "    model_kbl = sm.OLS(dfy, dfX)\n",
    "    result_kbl = model_kbl.fit()\n",
    "    return result_kbl.rsquared"
   ]
  },
  {
   "cell_type": "code",
   "execution_count": 669,
   "metadata": {},
   "outputs": [],
   "source": [
    "xs = list(kbl_base.keys())\n",
    "xs.remove('팀')\n",
    "xs.remove('시즌')\n",
    "xs.remove('득점')\n",
    "xs.remove('TF')\n",
    "xs.remove('교체')\n",
    "xs.remove('턴오버')\n",
    "xs.remove('팀 순위')\n",
    "xs.remove('블록')\n",
    "xs.remove('DKA')\n",
    "xs.remove('DK')\n",
    "xs.remove('w/FT')\n",
    "xs.remove('w/oFT')\n",
    "xs.remove('Tot.')\n",
    "xs.remove('관중 수')\n",
    "xs.remove('2점슛 성공률 (%)')\n",
    "xs.remove('3점슛 성공률 (%)')\n",
    "xs.remove('자유투 성공률 (%)')\n",
    "xs.remove('어시스트')\n",
    "xs.remove('스틸')\n",
    "xs.remove('리바운드')"
   ]
  },
  {
   "cell_type": "code",
   "execution_count": 670,
   "metadata": {},
   "outputs": [],
   "source": [
    "result_rs = {'변수':[],'rs':[]}\n",
    "for x_i in xs:\n",
    "    result_rs['변수'].append(x_i)\n",
    "    result_rs['rs'].append(reg_rs(kbl_base[x_i], kbl_base['득점']))"
   ]
  },
  {
   "cell_type": "code",
   "execution_count": 671,
   "metadata": {},
   "outputs": [
    {
     "data": {
      "text/html": [
       "<div>\n",
       "<style scoped>\n",
       "    .dataframe tbody tr th:only-of-type {\n",
       "        vertical-align: middle;\n",
       "    }\n",
       "\n",
       "    .dataframe tbody tr th {\n",
       "        vertical-align: top;\n",
       "    }\n",
       "\n",
       "    .dataframe thead th {\n",
       "        text-align: right;\n",
       "    }\n",
       "</style>\n",
       "<table border=\"1\" class=\"dataframe\">\n",
       "  <thead>\n",
       "    <tr style=\"text-align: right;\">\n",
       "      <th></th>\n",
       "      <th>변수</th>\n",
       "      <th>rs</th>\n",
       "    </tr>\n",
       "  </thead>\n",
       "  <tbody>\n",
       "    <tr>\n",
       "      <th>1</th>\n",
       "      <td>2점슛 성공</td>\n",
       "      <td>0.402440</td>\n",
       "    </tr>\n",
       "    <tr>\n",
       "      <th>0</th>\n",
       "      <td>3점슛성공</td>\n",
       "      <td>0.282364</td>\n",
       "    </tr>\n",
       "    <tr>\n",
       "      <th>2</th>\n",
       "      <td>자유투 성공</td>\n",
       "      <td>0.189835</td>\n",
       "    </tr>\n",
       "  </tbody>\n",
       "</table>\n",
       "</div>"
      ],
      "text/plain": [
       "       변수        rs\n",
       "1  2점슛 성공  0.402440\n",
       "0   3점슛성공  0.282364\n",
       "2  자유투 성공  0.189835"
      ]
     },
     "execution_count": 671,
     "metadata": {},
     "output_type": "execute_result"
    }
   ],
   "source": [
    "result_df_rs = pd.DataFrame(result_rs, columns=['변수','rs'])\n",
    "result_df_rs.sort_values('rs', ascending=False) # 변수의 t 값에 따라 내림차순 정렬"
   ]
  },
  {
   "cell_type": "code",
   "execution_count": 672,
   "metadata": {},
   "outputs": [],
   "source": [
    "result_all = pd.merge(result_df_t, result_df_rs, how='outer', on='변수')"
   ]
  },
  {
   "cell_type": "code",
   "execution_count": 673,
   "metadata": {},
   "outputs": [
    {
     "data": {
      "text/html": [
       "<div>\n",
       "<style scoped>\n",
       "    .dataframe tbody tr th:only-of-type {\n",
       "        vertical-align: middle;\n",
       "    }\n",
       "\n",
       "    .dataframe tbody tr th {\n",
       "        vertical-align: top;\n",
       "    }\n",
       "\n",
       "    .dataframe thead th {\n",
       "        text-align: right;\n",
       "    }\n",
       "</style>\n",
       "<table border=\"1\" class=\"dataframe\">\n",
       "  <thead>\n",
       "    <tr style=\"text-align: right;\">\n",
       "      <th></th>\n",
       "      <th>변수</th>\n",
       "      <th>const_t</th>\n",
       "      <th>변수_t</th>\n",
       "      <th>rs</th>\n",
       "    </tr>\n",
       "  </thead>\n",
       "  <tbody>\n",
       "    <tr>\n",
       "      <th>1</th>\n",
       "      <td>2점슛 성공</td>\n",
       "      <td>11.264465</td>\n",
       "      <td>10.315452</td>\n",
       "      <td>0.402440</td>\n",
       "    </tr>\n",
       "    <tr>\n",
       "      <th>0</th>\n",
       "      <td>3점슛성공</td>\n",
       "      <td>30.988104</td>\n",
       "      <td>7.884621</td>\n",
       "      <td>0.282364</td>\n",
       "    </tr>\n",
       "    <tr>\n",
       "      <th>2</th>\n",
       "      <td>자유투 성공</td>\n",
       "      <td>22.998582</td>\n",
       "      <td>6.084573</td>\n",
       "      <td>0.189835</td>\n",
       "    </tr>\n",
       "  </tbody>\n",
       "</table>\n",
       "</div>"
      ],
      "text/plain": [
       "       변수    const_t       변수_t        rs\n",
       "1  2점슛 성공  11.264465  10.315452  0.402440\n",
       "0   3점슛성공  30.988104   7.884621  0.282364\n",
       "2  자유투 성공  22.998582   6.084573  0.189835"
      ]
     },
     "execution_count": 673,
     "metadata": {},
     "output_type": "execute_result"
    }
   ],
   "source": [
    "result_all.sort_values('rs', ascending=False)"
   ]
  },
  {
   "cell_type": "markdown",
   "metadata": {},
   "source": [
    "#### 다른 데이터를 이용한 분석\n",
    "##### 국내선수들과 용병선수들의 점수 비중에 따른 데이터"
   ]
  },
  {
   "cell_type": "code",
   "execution_count": 674,
   "metadata": {},
   "outputs": [],
   "source": [
    "kbl_merc_ratio = pd.read_excel('국내와 용병의 비중.xlsx')"
   ]
  },
  {
   "cell_type": "code",
   "execution_count": 675,
   "metadata": {},
   "outputs": [
    {
     "name": "stderr",
     "output_type": "stream",
     "text": [
      "C:\\Miniconda3\\lib\\site-packages\\ipykernel_launcher.py:2: SettingWithCopyWarning: \n",
      "A value is trying to be set on a copy of a slice from a DataFrame\n",
      "\n",
      "See the caveats in the documentation: http://pandas.pydata.org/pandas-docs/stable/indexing.html#indexing-view-versus-copy\n",
      "  \n"
     ]
    }
   ],
   "source": [
    "for i in range(len(kbl_merc_ratio['시즌'])):\n",
    "    kbl_merc_ratio['시즌'][i] = int(kbl_merc_ratio['시즌'][i].split('~')[0])+2000"
   ]
  },
  {
   "cell_type": "code",
   "execution_count": 676,
   "metadata": {},
   "outputs": [
    {
     "data": {
      "text/html": [
       "<div>\n",
       "<style scoped>\n",
       "    .dataframe tbody tr th:only-of-type {\n",
       "        vertical-align: middle;\n",
       "    }\n",
       "\n",
       "    .dataframe tbody tr th {\n",
       "        vertical-align: top;\n",
       "    }\n",
       "\n",
       "    .dataframe thead th {\n",
       "        text-align: right;\n",
       "    }\n",
       "</style>\n",
       "<table border=\"1\" class=\"dataframe\">\n",
       "  <thead>\n",
       "    <tr style=\"text-align: right;\">\n",
       "      <th></th>\n",
       "      <th>팀</th>\n",
       "      <th>평균득점</th>\n",
       "      <th>국내선수 득점</th>\n",
       "      <th>용병선수 득점</th>\n",
       "      <th>국내선수 득점 비중</th>\n",
       "      <th>용병선수 득점 비중</th>\n",
       "      <th>관중 수</th>\n",
       "      <th>순위</th>\n",
       "      <th>시즌</th>\n",
       "    </tr>\n",
       "  </thead>\n",
       "  <tbody>\n",
       "    <tr>\n",
       "      <th>0</th>\n",
       "      <td>서울삼성</td>\n",
       "      <td>84.1</td>\n",
       "      <td>46.8</td>\n",
       "      <td>37.3</td>\n",
       "      <td>0.556480</td>\n",
       "      <td>0.443520</td>\n",
       "      <td>113071</td>\n",
       "      <td>3</td>\n",
       "      <td>2016</td>\n",
       "    </tr>\n",
       "    <tr>\n",
       "      <th>1</th>\n",
       "      <td>안양KGC</td>\n",
       "      <td>84.1</td>\n",
       "      <td>46.0</td>\n",
       "      <td>38.1</td>\n",
       "      <td>0.546968</td>\n",
       "      <td>0.453032</td>\n",
       "      <td>81179</td>\n",
       "      <td>1</td>\n",
       "      <td>2016</td>\n",
       "    </tr>\n",
       "    <tr>\n",
       "      <th>2</th>\n",
       "      <td>고양오리온</td>\n",
       "      <td>82.8</td>\n",
       "      <td>45.7</td>\n",
       "      <td>37.1</td>\n",
       "      <td>0.551932</td>\n",
       "      <td>0.448068</td>\n",
       "      <td>77072</td>\n",
       "      <td>2</td>\n",
       "      <td>2016</td>\n",
       "    </tr>\n",
       "    <tr>\n",
       "      <th>3</th>\n",
       "      <td>인천전자랜드</td>\n",
       "      <td>78.3</td>\n",
       "      <td>43.0</td>\n",
       "      <td>35.3</td>\n",
       "      <td>0.549170</td>\n",
       "      <td>0.450830</td>\n",
       "      <td>122304</td>\n",
       "      <td>6</td>\n",
       "      <td>2016</td>\n",
       "    </tr>\n",
       "    <tr>\n",
       "      <th>4</th>\n",
       "      <td>창원LG</td>\n",
       "      <td>78.1</td>\n",
       "      <td>41.1</td>\n",
       "      <td>37.0</td>\n",
       "      <td>0.526248</td>\n",
       "      <td>0.473752</td>\n",
       "      <td>100231</td>\n",
       "      <td>8</td>\n",
       "      <td>2016</td>\n",
       "    </tr>\n",
       "  </tbody>\n",
       "</table>\n",
       "</div>"
      ],
      "text/plain": [
       "        팀  평균득점  국내선수 득점  용병선수 득점  국내선수 득점 비중  용병선수 득점 비중    관중 수  순위    시즌\n",
       "0    서울삼성  84.1     46.8     37.3    0.556480    0.443520  113071   3  2016\n",
       "1   안양KGC  84.1     46.0     38.1    0.546968    0.453032   81179   1  2016\n",
       "2   고양오리온  82.8     45.7     37.1    0.551932    0.448068   77072   2  2016\n",
       "3  인천전자랜드  78.3     43.0     35.3    0.549170    0.450830  122304   6  2016\n",
       "4    창원LG  78.1     41.1     37.0    0.526248    0.473752  100231   8  2016"
      ]
     },
     "execution_count": 676,
     "metadata": {},
     "output_type": "execute_result"
    }
   ],
   "source": [
    "kbl_merc_ratio.head()"
   ]
  },
  {
   "cell_type": "code",
   "execution_count": 677,
   "metadata": {},
   "outputs": [
    {
     "data": {
      "image/png": "[encoded data removed]",
      "text/plain": [
       "<Figure size 432x288 with 1 Axes>"
      ]
     },
     "metadata": {},
     "output_type": "display_data"
    }
   ],
   "source": [
    "x = kbl_merc_ratio['순위']\n",
    "y = kbl_merc_ratio['관중 수']\n",
    "plt.ylim(0,200000)\n",
    "plt.xlabel('순위')\n",
    "plt.ylabel('관중 수')\n",
    "plt.scatter(x, y, alpha=1)\n",
    "plt.show()"
   ]
  },
  {
   "cell_type": "code",
   "execution_count": 678,
   "metadata": {},
   "outputs": [
    {
     "name": "stdout",
     "output_type": "stream",
     "text": [
      "                  Results: Ordinary least squares\n",
      "===================================================================\n",
      "Model:              OLS              Adj. R-squared:     0.194     \n",
      "Dependent Variable: 관중 수             AIC:                3704.5614 \n",
      "Date:               2018-06-13 15:13 BIC:                3710.6866 \n",
      "No. Observations:   158              Log-Likelihood:     -1850.3   \n",
      "Df Model:           1                F-statistic:        38.73     \n",
      "Df Residuals:       156              Prob (F-statistic): 4.30e-09  \n",
      "R-squared:          0.199            Scale:              8.8062e+08\n",
      "-------------------------------------------------------------------\n",
      "          Coef.     Std.Err.    t    P>|t|     [0.025      0.975]  \n",
      "-------------------------------------------------------------------\n",
      "const  140976.1882 5081.6786 27.7421 0.0000 130938.4119 151013.9645\n",
      "순위      -5091.5325  818.1800 -6.2230 0.0000  -6707.6733  -3475.3917\n",
      "-------------------------------------------------------------------\n",
      "Omnibus:               10.468        Durbin-Watson:           2.139\n",
      "Prob(Omnibus):         0.005         Jarque-Bera (JB):        4.803\n",
      "Skew:                  0.169         Prob(JB):                0.091\n",
      "Kurtosis:              2.216         Condition No.:           14   \n",
      "===================================================================\n",
      "\n"
     ]
    }
   ],
   "source": [
    "dfX0 = kbl_merc_ratio['순위'] # 독립변수\n",
    "dfX = sm.add_constant(dfX0)\n",
    "dfy = kbl_merc_ratio['관중 수'] # 종속변수\n",
    "# model_boston2라는 이름으로 OLS 모델 구조화\n",
    "model_kbl_merc = sm.OLS(dfy, dfX) # (종속변수, 독립변수)\n",
    "\n",
    "# OLS 회귀모형 피팅\n",
    "result_kbl_merc = model_kbl_merc.fit()\n",
    "\n",
    "# 회귀분석 결과 요약\n",
    "print(result_kbl_merc.summary2())"
   ]
  },
  {
   "cell_type": "code",
   "execution_count": 679,
   "metadata": {},
   "outputs": [
    {
     "data": {
      "image/png": "[encoded data removed]",
      "text/plain": [
       "<Figure size 432x288 with 1 Axes>"
      ]
     },
     "metadata": {},
     "output_type": "display_data"
    }
   ],
   "source": [
    "x = kbl_merc_ratio['순위']\n",
    "y = kbl_merc_ratio['관중 수']\n",
    "y2 = x*result_kbl_merc.params[1] + result_kbl_merc.params[0]\n",
    "plt.scatter(x, y, alpha=1)\n",
    "plt.plot(x ,y2,'r')\n",
    "plt.ylim(0,200000)\n",
    "plt.xlabel('순위')\n",
    "plt.ylabel('관중 수')\n",
    "plt.show()"
   ]
  },
  {
   "cell_type": "markdown",
   "metadata": {},
   "source": [
    "#####  순위가 각 구단의 관중을 모으는데 중요한 요인이지만, 전체 시즌의 관중 수에 영향을 끼칠 수 없는 요인임"
   ]
  },
  {
   "cell_type": "code",
   "execution_count": 680,
   "metadata": {},
   "outputs": [
    {
     "data": {
      "image/png": "[encoded data removed]",
      "text/plain": [
       "<Figure size 432x288 with 1 Axes>"
      ]
     },
     "metadata": {},
     "output_type": "display_data"
    }
   ],
   "source": [
    "x = kbl_merc_ratio['용병선수 득점']\n",
    "y = kbl_merc_ratio['평균득점']\n",
    "plt.ylim(0,100)\n",
    "plt.xlabel('용병선수 득점')\n",
    "plt.ylabel('평균득점')\n",
    "plt.scatter(x, y, alpha=1)\n",
    "plt.show()"
   ]
  },
  {
   "cell_type": "markdown",
   "metadata": {},
   "source": [
    "##### 회귀분석을 시도한다"
   ]
  },
  {
   "cell_type": "code",
   "execution_count": 681,
   "metadata": {},
   "outputs": [
    {
     "name": "stdout",
     "output_type": "stream",
     "text": [
      "                 Results: Ordinary least squares\n",
      "=================================================================\n",
      "Model:              OLS              Adj. R-squared:     0.355   \n",
      "Dependent Variable: 평균득점             AIC:                892.1661\n",
      "Date:               2018-06-13 15:13 BIC:                898.2913\n",
      "No. Observations:   158              Log-Likelihood:     -444.08 \n",
      "Df Model:           1                F-statistic:        87.52   \n",
      "Df Residuals:       156              Prob (F-statistic): 8.62e-17\n",
      "R-squared:          0.359            Scale:              16.382  \n",
      "-------------------------------------------------------------------\n",
      "           Coef.    Std.Err.      t      P>|t|     [0.025    0.975]\n",
      "-------------------------------------------------------------------\n",
      "const     66.8591     1.4506   46.0917   0.0000   63.9938   69.7244\n",
      "용병선수 득점    0.3730     0.0399    9.3554   0.0000    0.2943    0.4518\n",
      "-----------------------------------------------------------------\n",
      "Omnibus:               0.629        Durbin-Watson:          0.756\n",
      "Prob(Omnibus):         0.730        Jarque-Bera (JB):       0.766\n",
      "Skew:                  -0.105       Prob(JB):               0.682\n",
      "Kurtosis:              2.731        Condition No.:          164  \n",
      "=================================================================\n",
      "\n"
     ]
    }
   ],
   "source": [
    "# 데이터 준비\n",
    "dfX0 = kbl_merc_ratio['용병선수 득점'] # 독립변수\n",
    "dfX = sm.add_constant(dfX0)\n",
    "dfy = kbl_merc_ratio['평균득점'] # 종속변수\n",
    "# model_boston2라는 이름으로 OLS 모델 구조화\n",
    "model_kbl_merc = sm.OLS(dfy, dfX) # (종속변수, 독립변수)\n",
    "\n",
    "# OLS 회귀모형 피팅\n",
    "result_kbl_merc = model_kbl_merc.fit()\n",
    "\n",
    "# 회귀분석 결과 요약\n",
    "print(result_kbl_merc.summary2())"
   ]
  },
  {
   "cell_type": "code",
   "execution_count": 682,
   "metadata": {},
   "outputs": [
    {
     "data": {
      "image/png": "[encoded data removed]",
      "text/plain": [
       "<Figure size 432x288 with 1 Axes>"
      ]
     },
     "metadata": {},
     "output_type": "display_data"
    }
   ],
   "source": [
    "x = kbl_merc_ratio['용병선수 득점']\n",
    "y = kbl_merc_ratio['평균득점']\n",
    "y2 = x*result_kbl_merc.params[1] + result_kbl_merc.params[0]\n",
    "plt.scatter(x, y, alpha=1)\n",
    "plt.plot(x ,y2,'r')\n",
    "plt.ylim(0,100)\n",
    "plt.xlabel('용병선수 득점')\n",
    "plt.ylabel('평균득점')\n",
    "plt.show()"
   ]
  },
  {
   "cell_type": "markdown",
   "metadata": {},
   "source": [
    "##### - r-square값이 0.355가 나왔고, P값은 0.000으로 유의수준이 매우 높음\n",
    "##### - 용병의 득점이 높아질수록 평균득점은 높아진다는 것을 알 수 있음"
   ]
  },
  {
   "cell_type": "markdown",
   "metadata": {},
   "source": [
    "###  하지만, 관중 수에 영향을 미칠까?"
   ]
  },
  {
   "cell_type": "code",
   "execution_count": 683,
   "metadata": {},
   "outputs": [
    {
     "data": {
      "image/png": "[encoded data removed]",
      "text/plain": [
       "<Figure size 432x288 with 1 Axes>"
      ]
     },
     "metadata": {},
     "output_type": "display_data"
    }
   ],
   "source": [
    "x = kbl_merc_ratio['용병선수 득점']\n",
    "y = kbl_merc_ratio['관중 수']\n",
    "plt.ylim(0,200000)\n",
    "plt.xlabel('용병선수 득점')\n",
    "plt.ylabel('관중 수')\n",
    "plt.scatter(x, y, alpha=1)\n",
    "plt.show()"
   ]
  },
  {
   "cell_type": "markdown",
   "metadata": {},
   "source": [
    "회귀분석을 실시한다."
   ]
  },
  {
   "cell_type": "code",
   "execution_count": 684,
   "metadata": {},
   "outputs": [
    {
     "name": "stdout",
     "output_type": "stream",
     "text": [
      "                   Results: Ordinary least squares\n",
      "=====================================================================\n",
      "Model:                OLS              Adj. R-squared:     0.002     \n",
      "Dependent Variable:   관중 수             AIC:                3738.3483 \n",
      "Date:                 2018-06-13 15:13 BIC:                3744.4735 \n",
      "No. Observations:     158              Log-Likelihood:     -1867.2   \n",
      "Df Model:             1                F-statistic:        1.236     \n",
      "Df Residuals:         156              Prob (F-statistic): 0.268     \n",
      "R-squared:            0.008            Scale:              1.0906e+09\n",
      "---------------------------------------------------------------------\n",
      "           Coef.     Std.Err.     t    P>|t|     [0.025      0.975]  \n",
      "---------------------------------------------------------------------\n",
      "const   125805.1908 11835.5114 10.6295 0.0000 102426.6530 149183.7285\n",
      "용병선수 득점   -361.7478   325.3205 -1.1120 0.2679  -1004.3493    280.8537\n",
      "---------------------------------------------------------------------\n",
      "Omnibus:                8.427         Durbin-Watson:            1.915\n",
      "Prob(Omnibus):          0.015         Jarque-Bera (JB):         4.071\n",
      "Skew:                   0.130         Prob(JB):                 0.131\n",
      "Kurtosis:               2.258         Condition No.:            164  \n",
      "=====================================================================\n",
      "\n"
     ]
    }
   ],
   "source": [
    "# 데이터 준비\n",
    "dfX0 = kbl_merc_ratio['용병선수 득점'] # 독립변수\n",
    "dfX = sm.add_constant(dfX0)\n",
    "dfy = kbl_merc_ratio['관중 수'] # 종속변수\n",
    "# model_boston2라는 이름으로 OLS 모델 구조화\n",
    "model_kbl_merc = sm.OLS(dfy, dfX) # (종속변수, 독립변수)\n",
    "\n",
    "# OLS 회귀모형 피팅\n",
    "result_kbl_merc = model_kbl_merc.fit()\n",
    "\n",
    "# 회귀분석 결과 요약\n",
    "print(result_kbl_merc.summary2())"
   ]
  },
  {
   "cell_type": "code",
   "execution_count": 685,
   "metadata": {},
   "outputs": [
    {
     "data": {
      "image/png": "[encoded data removed]",
      "text/plain": [
       "<Figure size 432x288 with 1 Axes>"
      ]
     },
     "metadata": {},
     "output_type": "display_data"
    }
   ],
   "source": [
    "x = kbl_merc_ratio['용병선수 득점']\n",
    "y = kbl_merc_ratio['관중 수']\n",
    "y2 = x*result_kbl_merc.params[1] + result_kbl_merc.params[0]\n",
    "plt.scatter(x, y, alpha=1)\n",
    "plt.plot(x ,y2,'r')\n",
    "plt.ylim(0,200000)\n",
    "plt.xlabel('용병선수 득점')\n",
    "plt.ylabel('관중 수')\n",
    "plt.show()"
   ]
  },
  {
   "cell_type": "markdown",
   "metadata": {},
   "source": [
    "##### - 용병선수들의 득점과 관중 수의 회귀분석을 한 결과, r-square값은 0.002, P값은 0.2679가 나옴\n",
    "##### - 용병선수들의 득점이 많아진다고 해서 관중 수를 늘릴 수 있지 않음"
   ]
  },
  {
   "cell_type": "code",
   "execution_count": 686,
   "metadata": {},
   "outputs": [],
   "source": [
    "kbl_merc_ratio_O = pd.read_excel('국내와 용병의 비중 신장제한 있음.xlsx')"
   ]
  },
  {
   "cell_type": "code",
   "execution_count": 687,
   "metadata": {},
   "outputs": [
    {
     "name": "stderr",
     "output_type": "stream",
     "text": [
      "C:\\Miniconda3\\lib\\site-packages\\ipykernel_launcher.py:2: SettingWithCopyWarning: \n",
      "A value is trying to be set on a copy of a slice from a DataFrame\n",
      "\n",
      "See the caveats in the documentation: http://pandas.pydata.org/pandas-docs/stable/indexing.html#indexing-view-versus-copy\n",
      "  \n"
     ]
    }
   ],
   "source": [
    "for i in range(len(kbl_merc_ratio_O['시즌'])):\n",
    "    kbl_merc_ratio_O['시즌'][i] = int(kbl_merc_ratio_O['시즌'][i].split('~')[0])+2000"
   ]
  },
  {
   "cell_type": "code",
   "execution_count": 688,
   "metadata": {},
   "outputs": [
    {
     "data": {
      "text/html": [
       "<div>\n",
       "<style scoped>\n",
       "    .dataframe tbody tr th:only-of-type {\n",
       "        vertical-align: middle;\n",
       "    }\n",
       "\n",
       "    .dataframe tbody tr th {\n",
       "        vertical-align: top;\n",
       "    }\n",
       "\n",
       "    .dataframe thead th {\n",
       "        text-align: right;\n",
       "    }\n",
       "</style>\n",
       "<table border=\"1\" class=\"dataframe\">\n",
       "  <thead>\n",
       "    <tr style=\"text-align: right;\">\n",
       "      <th></th>\n",
       "      <th>팀</th>\n",
       "      <th>평균득점</th>\n",
       "      <th>국내선수 득점</th>\n",
       "      <th>용병선수 득점</th>\n",
       "      <th>국내선수 득점 비중</th>\n",
       "      <th>용병선수 득점 비중</th>\n",
       "      <th>관중 수</th>\n",
       "      <th>순위</th>\n",
       "      <th>시즌</th>\n",
       "    </tr>\n",
       "  </thead>\n",
       "  <tbody>\n",
       "    <tr>\n",
       "      <th>0</th>\n",
       "      <td>서울삼성</td>\n",
       "      <td>84.1</td>\n",
       "      <td>46.8</td>\n",
       "      <td>37.3</td>\n",
       "      <td>0.556480</td>\n",
       "      <td>0.443520</td>\n",
       "      <td>113071</td>\n",
       "      <td>3</td>\n",
       "      <td>2016</td>\n",
       "    </tr>\n",
       "    <tr>\n",
       "      <th>1</th>\n",
       "      <td>안양KGC</td>\n",
       "      <td>84.1</td>\n",
       "      <td>46.0</td>\n",
       "      <td>38.1</td>\n",
       "      <td>0.546968</td>\n",
       "      <td>0.453032</td>\n",
       "      <td>81179</td>\n",
       "      <td>1</td>\n",
       "      <td>2016</td>\n",
       "    </tr>\n",
       "    <tr>\n",
       "      <th>2</th>\n",
       "      <td>고양오리온</td>\n",
       "      <td>82.8</td>\n",
       "      <td>45.7</td>\n",
       "      <td>37.1</td>\n",
       "      <td>0.551932</td>\n",
       "      <td>0.448068</td>\n",
       "      <td>77072</td>\n",
       "      <td>2</td>\n",
       "      <td>2016</td>\n",
       "    </tr>\n",
       "    <tr>\n",
       "      <th>3</th>\n",
       "      <td>인천전자랜드</td>\n",
       "      <td>78.3</td>\n",
       "      <td>43.0</td>\n",
       "      <td>35.3</td>\n",
       "      <td>0.549170</td>\n",
       "      <td>0.450830</td>\n",
       "      <td>122304</td>\n",
       "      <td>6</td>\n",
       "      <td>2016</td>\n",
       "    </tr>\n",
       "    <tr>\n",
       "      <th>4</th>\n",
       "      <td>창원LG</td>\n",
       "      <td>78.1</td>\n",
       "      <td>41.1</td>\n",
       "      <td>37.0</td>\n",
       "      <td>0.526248</td>\n",
       "      <td>0.473752</td>\n",
       "      <td>100231</td>\n",
       "      <td>8</td>\n",
       "      <td>2016</td>\n",
       "    </tr>\n",
       "  </tbody>\n",
       "</table>\n",
       "</div>"
      ],
      "text/plain": [
       "        팀  평균득점  국내선수 득점  용병선수 득점  국내선수 득점 비중  용병선수 득점 비중    관중 수  순위    시즌\n",
       "0    서울삼성  84.1     46.8     37.3    0.556480    0.443520  113071   3  2016\n",
       "1   안양KGC  84.1     46.0     38.1    0.546968    0.453032   81179   1  2016\n",
       "2   고양오리온  82.8     45.7     37.1    0.551932    0.448068   77072   2  2016\n",
       "3  인천전자랜드  78.3     43.0     35.3    0.549170    0.450830  122304   6  2016\n",
       "4    창원LG  78.1     41.1     37.0    0.526248    0.473752  100231   8  2016"
      ]
     },
     "execution_count": 688,
     "metadata": {},
     "output_type": "execute_result"
    }
   ],
   "source": [
    "kbl_merc_ratio_O.head()"
   ]
  },
  {
   "cell_type": "code",
   "execution_count": 689,
   "metadata": {},
   "outputs": [
    {
     "data": {
      "image/png": "[encoded data removed]",
      "text/plain": [
       "<Figure size 432x288 with 1 Axes>"
      ]
     },
     "metadata": {},
     "output_type": "display_data"
    }
   ],
   "source": [
    "x = kbl_merc_ratio_O['용병선수 득점']\n",
    "y = kbl_merc_ratio_O['관중 수']\n",
    "plt.ylim(0,200000)\n",
    "plt.xlabel('용병선수 득점')\n",
    "plt.ylabel('관중 수')\n",
    "plt.scatter(x, y, alpha=1)\n",
    "plt.show()"
   ]
  },
  {
   "cell_type": "code",
   "execution_count": 690,
   "metadata": {},
   "outputs": [
    {
     "name": "stdout",
     "output_type": "stream",
     "text": [
      "                  Results: Ordinary least squares\n",
      "===================================================================\n",
      "Model:              OLS              Adj. R-squared:     -0.000    \n",
      "Dependent Variable: 관중 수             AIC:                2064.9569 \n",
      "Date:               2018-06-13 15:14 BIC:                2069.9116 \n",
      "No. Observations:   88               Log-Likelihood:     -1030.5   \n",
      "Df Model:           1                F-statistic:        0.9848    \n",
      "Df Residuals:       86               Prob (F-statistic): 0.324     \n",
      "R-squared:          0.011            Scale:              8.8853e+08\n",
      "-------------------------------------------------------------------\n",
      "           Coef.     Std.Err.    t    P>|t|    [0.025      0.975]  \n",
      "-------------------------------------------------------------------\n",
      "const    83383.5211 24039.3965 3.4686 0.0008 35594.7825 131172.2597\n",
      "용병선수 득점    594.5769   599.1499 0.9924 0.3238  -596.4937   1785.6474\n",
      "-------------------------------------------------------------------\n",
      "Omnibus:                6.768        Durbin-Watson:           1.994\n",
      "Prob(Omnibus):          0.034        Jarque-Bera (JB):        3.762\n",
      "Skew:                   0.300        Prob(JB):                0.152\n",
      "Kurtosis:               2.184        Condition No.:           304  \n",
      "===================================================================\n",
      "\n"
     ]
    }
   ],
   "source": [
    "# 데이터 준비\n",
    "dfX0 = kbl_merc_ratio_O['용병선수 득점'] # 독립변수\n",
    "dfX = sm.add_constant(dfX0)\n",
    "dfy = kbl_merc_ratio_O['관중 수'] # 종속변수\n",
    "# model_boston2라는 이름으로 OLS 모델 구조화\n",
    "model_kbl_merc_O = sm.OLS(dfy, dfX) # (종속변수, 독립변수)\n",
    "\n",
    "# OLS 회귀모형 피팅\n",
    "result_kbl_merc_O = model_kbl_merc_O.fit()\n",
    "\n",
    "# 회귀분석 결과 요약\n",
    "print(result_kbl_merc_O.summary2())"
   ]
  },
  {
   "cell_type": "code",
   "execution_count": 691,
   "metadata": {},
   "outputs": [
    {
     "data": {
      "image/png": "[encoded data removed]",
      "text/plain": [
       "<Figure size 432x288 with 1 Axes>"
      ]
     },
     "metadata": {},
     "output_type": "display_data"
    }
   ],
   "source": [
    "x = kbl_merc_ratio_O['용병선수 득점']\n",
    "y = kbl_merc_ratio_O['관중 수']\n",
    "y2 = x*result_kbl_merc_O.params[1] + result_kbl_merc_O.params[0]\n",
    "plt.scatter(x, y, alpha=1)\n",
    "plt.plot(x ,y2,'r')\n",
    "plt.ylim(0,200000)\n",
    "plt.xlabel('용병선수 득점')\n",
    "plt.ylabel('관중 수')\n",
    "plt.show()"
   ]
  },
  {
   "cell_type": "markdown",
   "metadata": {},
   "source": [
    "##### - 신장제한을 두었을 때의 용병들의 득점과 관중 수와의 관계는 r-square값이 -0.000, P값이 0.3238\n",
    "##### - 신장제한을 두었을 때의 용병들의 득점과 관중 수와의 관계는 전혀 상관이 없음"
   ]
  },
  {
   "cell_type": "code",
   "execution_count": 692,
   "metadata": {},
   "outputs": [],
   "source": [
    "kbl_merc_ratio_X = pd.read_excel('국내와 용병의 비중 신장제한 없음.xlsx')"
   ]
  },
  {
   "cell_type": "code",
   "execution_count": 693,
   "metadata": {},
   "outputs": [
    {
     "name": "stderr",
     "output_type": "stream",
     "text": [
      "C:\\Miniconda3\\lib\\site-packages\\ipykernel_launcher.py:2: SettingWithCopyWarning: \n",
      "A value is trying to be set on a copy of a slice from a DataFrame\n",
      "\n",
      "See the caveats in the documentation: http://pandas.pydata.org/pandas-docs/stable/indexing.html#indexing-view-versus-copy\n",
      "  \n"
     ]
    }
   ],
   "source": [
    "for i in range(len(kbl_merc_ratio_X['시즌'])):\n",
    "    kbl_merc_ratio_X['시즌'][i] = int(kbl_merc_ratio_X['시즌'][i].split('~')[0])+2000"
   ]
  },
  {
   "cell_type": "code",
   "execution_count": 694,
   "metadata": {},
   "outputs": [
    {
     "data": {
      "text/html": [
       "<div>\n",
       "<style scoped>\n",
       "    .dataframe tbody tr th:only-of-type {\n",
       "        vertical-align: middle;\n",
       "    }\n",
       "\n",
       "    .dataframe tbody tr th {\n",
       "        vertical-align: top;\n",
       "    }\n",
       "\n",
       "    .dataframe thead th {\n",
       "        text-align: right;\n",
       "    }\n",
       "</style>\n",
       "<table border=\"1\" class=\"dataframe\">\n",
       "  <thead>\n",
       "    <tr style=\"text-align: right;\">\n",
       "      <th></th>\n",
       "      <th>팀</th>\n",
       "      <th>평균득점</th>\n",
       "      <th>국내선수 득점</th>\n",
       "      <th>용병선수 득점</th>\n",
       "      <th>국내선수 득점 비중</th>\n",
       "      <th>용병선수 득점 비중</th>\n",
       "      <th>관중 수</th>\n",
       "      <th>순위</th>\n",
       "      <th>시즌</th>\n",
       "    </tr>\n",
       "  </thead>\n",
       "  <tbody>\n",
       "    <tr>\n",
       "      <th>0</th>\n",
       "      <td>창원LG</td>\n",
       "      <td>80.1</td>\n",
       "      <td>47.9</td>\n",
       "      <td>32.2</td>\n",
       "      <td>0.598002</td>\n",
       "      <td>0.401998</td>\n",
       "      <td>131678</td>\n",
       "      <td>4</td>\n",
       "      <td>2014</td>\n",
       "    </tr>\n",
       "    <tr>\n",
       "      <th>1</th>\n",
       "      <td>울산모비스</td>\n",
       "      <td>78.4</td>\n",
       "      <td>46.5</td>\n",
       "      <td>31.9</td>\n",
       "      <td>0.593112</td>\n",
       "      <td>0.406888</td>\n",
       "      <td>144855</td>\n",
       "      <td>1</td>\n",
       "      <td>2014</td>\n",
       "    </tr>\n",
       "    <tr>\n",
       "      <th>2</th>\n",
       "      <td>고양오리온스</td>\n",
       "      <td>78.1</td>\n",
       "      <td>45.1</td>\n",
       "      <td>33.0</td>\n",
       "      <td>0.577465</td>\n",
       "      <td>0.422535</td>\n",
       "      <td>100837</td>\n",
       "      <td>5</td>\n",
       "      <td>2014</td>\n",
       "    </tr>\n",
       "    <tr>\n",
       "      <th>3</th>\n",
       "      <td>서울SK</td>\n",
       "      <td>74.9</td>\n",
       "      <td>47.6</td>\n",
       "      <td>27.3</td>\n",
       "      <td>0.635514</td>\n",
       "      <td>0.364486</td>\n",
       "      <td>163750</td>\n",
       "      <td>3</td>\n",
       "      <td>2014</td>\n",
       "    </tr>\n",
       "    <tr>\n",
       "      <th>4</th>\n",
       "      <td>부산KT</td>\n",
       "      <td>74.1</td>\n",
       "      <td>50.0</td>\n",
       "      <td>24.1</td>\n",
       "      <td>0.674764</td>\n",
       "      <td>0.325236</td>\n",
       "      <td>52196</td>\n",
       "      <td>7</td>\n",
       "      <td>2014</td>\n",
       "    </tr>\n",
       "  </tbody>\n",
       "</table>\n",
       "</div>"
      ],
      "text/plain": [
       "        팀  평균득점  국내선수 득점  용병선수 득점  국내선수 득점 비중  용병선수 득점 비중    관중 수  순위    시즌\n",
       "0    창원LG  80.1     47.9     32.2    0.598002    0.401998  131678   4  2014\n",
       "1   울산모비스  78.4     46.5     31.9    0.593112    0.406888  144855   1  2014\n",
       "2  고양오리온스  78.1     45.1     33.0    0.577465    0.422535  100837   5  2014\n",
       "3    서울SK  74.9     47.6     27.3    0.635514    0.364486  163750   3  2014\n",
       "4    부산KT  74.1     50.0     24.1    0.674764    0.325236   52196   7  2014"
      ]
     },
     "execution_count": 694,
     "metadata": {},
     "output_type": "execute_result"
    }
   ],
   "source": [
    "kbl_merc_ratio_X.head()"
   ]
  },
  {
   "cell_type": "code",
   "execution_count": 695,
   "metadata": {},
   "outputs": [
    {
     "data": {
      "image/png": "[encoded data removed]",
      "text/plain": [
       "<Figure size 432x288 with 1 Axes>"
      ]
     },
     "metadata": {},
     "output_type": "display_data"
    }
   ],
   "source": [
    "x = kbl_merc_ratio_X['용병선수 득점']\n",
    "y = kbl_merc_ratio_X['관중 수']\n",
    "plt.ylim(0,200000)\n",
    "plt.xlabel('용병선수 득점')\n",
    "plt.ylabel('관중 수')\n",
    "plt.scatter(x, y, alpha=1)\n",
    "plt.show()"
   ]
  },
  {
   "cell_type": "code",
   "execution_count": 696,
   "metadata": {},
   "outputs": [
    {
     "name": "stdout",
     "output_type": "stream",
     "text": [
      "                  Results: Ordinary least squares\n",
      "====================================================================\n",
      "Model:               OLS              Adj. R-squared:     -0.015    \n",
      "Dependent Variable:  관중 수             AIC:                1668.6375 \n",
      "Date:                2018-06-13 15:14 BIC:                1673.1345 \n",
      "No. Observations:    70               Log-Likelihood:     -832.32   \n",
      "Df Model:            1                F-statistic:        0.003034  \n",
      "Df Residuals:        68               Prob (F-statistic): 0.956     \n",
      "R-squared:           0.000            Scale:              1.2819e+09\n",
      "--------------------------------------------------------------------\n",
      "           Coef.     Std.Err.     t    P>|t|    [0.025      0.975]  \n",
      "--------------------------------------------------------------------\n",
      "const   121362.8243 17229.2636  7.0440 0.0000 86982.3641 155743.2845\n",
      "용병선수 득점    -30.5709   554.9898 -0.0551 0.9562 -1138.0359   1076.8941\n",
      "--------------------------------------------------------------------\n",
      "Omnibus:                3.276         Durbin-Watson:           1.806\n",
      "Prob(Omnibus):          0.194         Jarque-Bera (JB):        1.917\n",
      "Skew:                   -0.139        Prob(JB):                0.384\n",
      "Kurtosis:               2.238         Condition No.:           125  \n",
      "====================================================================\n",
      "\n"
     ]
    }
   ],
   "source": [
    "# 데이터 준비\n",
    "dfX0 = kbl_merc_ratio_X['용병선수 득점'] # 독립변수\n",
    "dfX = sm.add_constant(dfX0)\n",
    "dfy = kbl_merc_ratio_X['관중 수'] # 종속변수\n",
    "# model_boston2라는 이름으로 OLS 모델 구조화\n",
    "model_kbl_merc_X = sm.OLS(dfy, dfX) # (종속변수, 독립변수)\n",
    "\n",
    "# OLS 회귀모형 피팅\n",
    "result_kbl_merc_X = model_kbl_merc_X.fit()\n",
    "\n",
    "# 회귀분석 결과 요약\n",
    "print(result_kbl_merc_X.summary2())"
   ]
  },
  {
   "cell_type": "code",
   "execution_count": 697,
   "metadata": {},
   "outputs": [
    {
     "data": {
      "image/png": "[encoded data removed]",
      "text/plain": [
       "<Figure size 432x288 with 1 Axes>"
      ]
     },
     "metadata": {},
     "output_type": "display_data"
    }
   ],
   "source": [
    "x = kbl_merc_ratio_X['용병선수 득점']\n",
    "y = kbl_merc_ratio_X['관중 수']\n",
    "y2 = x*result_kbl_merc_X.params[1] + result_kbl_merc_X.params[0]\n",
    "plt.scatter(x, y, alpha=1)\n",
    "plt.plot(x ,y2,'r')\n",
    "plt.ylim(0,200000)\n",
    "plt.xlabel('용병선수 득점')\n",
    "plt.ylabel('관중 수')\n",
    "plt.show()"
   ]
  },
  {
   "cell_type": "markdown",
   "metadata": {},
   "source": [
    "##### - 신장제한을 두지 않았을 때의 용병들의 득점과 관중 수와의 관계는 r-square값이 -0.015, P값이 0.9562\n",
    "##### - 신장제한을 두지 않았을 의 용병들의 득점과 관중 수와의 관계도 전혀 상관이 없음"
   ]
  },
  {
   "cell_type": "code",
   "execution_count": 698,
   "metadata": {},
   "outputs": [
    {
     "data": {
      "image/png": "[encoded data removed]",
      "text/plain": [
       "<Figure size 432x288 with 1 Axes>"
      ]
     },
     "metadata": {},
     "output_type": "display_data"
    }
   ],
   "source": [
    "x = kbl_merc_ratio['국내선수 득점']\n",
    "y = kbl_merc_ratio['관중 수']\n",
    "plt.ylim(0,200000)\n",
    "plt.xlabel('국내선수 득점')\n",
    "plt.ylabel('관중 수')\n",
    "plt.scatter(x, y, alpha=1)\n",
    "plt.show()"
   ]
  },
  {
   "cell_type": "code",
   "execution_count": 699,
   "metadata": {},
   "outputs": [
    {
     "name": "stdout",
     "output_type": "stream",
     "text": [
      "                  Results: Ordinary least squares\n",
      "===================================================================\n",
      "Model:              OLS              Adj. R-squared:     0.042     \n",
      "Dependent Variable: 관중 수             AIC:                3731.7307 \n",
      "Date:               2018-06-13 15:14 BIC:                3737.8559 \n",
      "No. Observations:   158              Log-Likelihood:     -1863.9   \n",
      "Df Model:           1                F-statistic:        7.962     \n",
      "Df Residuals:       156              Prob (F-statistic): 0.00540   \n",
      "R-squared:          0.049            Scale:              1.0458e+09\n",
      "-------------------------------------------------------------------\n",
      "            Coef.     Std.Err.    t    P>|t|    [0.025     0.975]  \n",
      "-------------------------------------------------------------------\n",
      "const     62880.7253 17937.8600 3.5055 0.0006 27448.2945 98313.1562\n",
      "국내선수 득점    1122.6937   397.8777 2.8217 0.0054   336.7709  1908.6165\n",
      "-------------------------------------------------------------------\n",
      "Omnibus:                4.102        Durbin-Watson:           2.002\n",
      "Prob(Omnibus):          0.129        Jarque-Bera (JB):        2.893\n",
      "Skew:                   0.173        Prob(JB):                0.235\n",
      "Kurtosis:               2.434        Condition No.:           314  \n",
      "===================================================================\n",
      "\n"
     ]
    }
   ],
   "source": [
    "# 데이터 준비\n",
    "dfX0 = kbl_merc_ratio['국내선수 득점'] # 독립변수\n",
    "dfX = sm.add_constant(dfX0)\n",
    "dfy = kbl_merc_ratio['관중 수'] # 종속변수\n",
    "# model_boston2라는 이름으로 OLS 모델 구조화\n",
    "model_kbl_merc = sm.OLS(dfy, dfX) # (종속변수, 독립변수)\n",
    "\n",
    "# OLS 회귀모형 피팅\n",
    "result_kbl_merc = model_kbl_merc.fit()\n",
    "\n",
    "# 회귀분석 결과 요약\n",
    "print(result_kbl_merc.summary2())"
   ]
  },
  {
   "cell_type": "code",
   "execution_count": 700,
   "metadata": {},
   "outputs": [
    {
     "data": {
      "image/png": "[encoded data removed]",
      "text/plain": [
       "<Figure size 432x288 with 1 Axes>"
      ]
     },
     "metadata": {},
     "output_type": "display_data"
    }
   ],
   "source": [
    "x = kbl_merc_ratio['국내선수 득점']\n",
    "y = kbl_merc_ratio['관중 수']\n",
    "y2 = x*result_kbl_merc.params[1] + result_kbl_merc.params[0]\n",
    "plt.scatter(x, y, alpha=1)\n",
    "plt.plot(x ,y2,'r')\n",
    "plt.ylim(0,200000)\n",
    "plt.xlabel('국내선수 득점')\n",
    "plt.ylabel('관중 수')\n",
    "plt.show()"
   ]
  },
  {
   "cell_type": "markdown",
   "metadata": {},
   "source": [
    "##### - 국내선수들의 득점과 관중 수의 회귀분석을 한 결과, r-square값은 0.042, P값은 0.0054 나옴\n",
    "##### - 국내선수들의 득점이 많아지면 관중 수는 늘어나는 관계가 나타남"
   ]
  },
  {
   "cell_type": "markdown",
   "metadata": {},
   "source": [
    "![추세](시즌별 국내선수 득점과 관중 수 추세.png)"
   ]
  },
  {
   "cell_type": "markdown",
   "metadata": {},
   "source": [
    "#### 16시즌 동안 국내선수 득점과 관중 수를 그래프로 나타낸 결과, 용병 1명을 출전시킬 때, 국내선수들의 득점이 더 많았고, 관중 수도 많았음"
   ]
  },
  {
   "cell_type": "markdown",
   "metadata": {},
   "source": [
    "### 그래프와 회귀분석의 결과를 보고 나서 총재가 말한 2m 이하의 용병들을 많이 뽑고, 2명 출전을 하게 해서 빠른 용병들의 득점증가를 통한 관중 수 증가는 결코 좋은 결과로 이어질 수 없을 가능성이 높아보임"
   ]
  },
  {
   "cell_type": "markdown",
   "metadata": {},
   "source": [
    "### 5. 시사점\n",
    "\n",
    "분석을 통한 결과, 경기에 기록이 되는 경기 데이터들은 굉장히 많은 요인들이 있지만, 이 많은 요인들은 큰 상관관계를 갖지 못했다. 득점이 곧 관중 수에 영향을 끼칠 것이라고 했던 총재의 말은 큰 영향이 없는 요인이었다. 16년 동안의 평균 득점과 관중 수를 봤을 때, 오히려 득점이 적었던 시즌에 관중 수가 대체로 많았다. 관중이 많았던 시기에는 용병의 신장 제한이 없었고, 그와 동시에 08~09를 제외하면 용병을 한 명만 경기에 출전을 시켰던 기간이다. 국내 선수들이 이전보다 더 득점을 할 수 있었던 기간이다.\n",
    "\n",
    "   전체 관중 수를 분석한 결과는 위와 같이 나왔고, 세부적으로 각 팀마다 16년 동안의 기록들을 분석해서 관중 수에 영향을 미쳤는지 분석을 했다. 그 결과, 역시 큰 상관관계가 나타난 요인이 많이 없었고, 순위만 회귀분석을 한 결과 r-square값이 약 0.195이고, P-값은 유의수준이 0.05보다 작은 0.000이 나왔다. 기본적으로 순위가 상위권일수록 많은 관중 수를 차지했다. 뚜렷한 우하향을 보여주는 그래프가 나타난다. 하지만 1위에서 10위까지의 등수는 정해져 있기에 순위가 시즌 전체 관중 수를 증감시킬 수 있는 요인은 아니다. 반면 득점은 r-square값이 약0.012가 나왔다. 0.05에 많이 못 미치는 수치인 0.1661이다. 즉, 득점은 관중 수를 모으는데 많은 영향을 미치는 요인이 아니라는 것이다.\n",
    "   \n",
    "   총재는 또 득점을 올리는데 용병들의 신장을 제한해서 경기를 뛰게 하면 득점이 오를 것이라고 했다. 득점은 올랐다. 하지만 관중 수까지 잡지 못한 과거 데이터들이 많다. 오히려 용병 신장제한이 없고, 용병출전을 1명만 했던 시즌에 관중이 많았다.\n",
    "\n",
    "   결국은 국내 선수들의 득점이 많아져야 많은 관중을 모을 수 있다. 단기적으로는 용병 두 명 출전보다는 한 명 출전을 통해서 국내 선수들의 비중을 늘리는 방안이 더 나을 수 있다. 추가적으로 신장제한도 없애는 방안이 나을 수도 있다. 장기적으로는 국내 농구 선수 유망주들을 발굴하면서 더욱 전폭적인 지원이 이루어져야 한다고 본다. 앞으로 프로농구를 이끌어 갈 미래 인재들이기에 유망주들의 실력이 늘어야 나중에 많은 관중을 모을 수 있을것으로 본다."
   ]
  }
 ],
 "metadata": {
  "kernelspec": {
   "display_name": "Python 3",
   "language": "python",
   "name": "python3"
  },
  "language_info": {
   "codemirror_mode": {
    "name": "ipython",
    "version": 3
   },
   "file_extension": ".py",
   "mimetype": "text/x-python",
   "name": "python",
   "nbconvert_exporter": "python",
   "pygments_lexer": "ipython3",
   "version": "3.6.4"
  }
 },
 "nbformat": 4,
 "nbformat_minor": 2
}
