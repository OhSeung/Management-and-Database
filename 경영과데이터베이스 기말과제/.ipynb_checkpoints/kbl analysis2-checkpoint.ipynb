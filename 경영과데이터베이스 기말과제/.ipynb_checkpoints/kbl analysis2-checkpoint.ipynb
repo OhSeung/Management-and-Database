{
 "cells": [
  {
   "cell_type": "markdown",
   "metadata": {},
   "source": [
    "# 프로농구 경기 데이터를 통한 관중수 분석 "
   ]
  },
  {
   "cell_type": "markdown",
   "metadata": {},
   "source": [
    "### 1. 비즈니스 이해\n",
    "이 단계에서는 비즈니스 관점에서의 목표 및 경영진 요구사항을 파악한 다음 이 지식을 데이터 분석 문제정의로 변환하고,\n",
    "분석목표를 달성하기 위해 설계된 예비 계획에 중점을 둡니다."
   ]
  },
  {
   "cell_type": "markdown",
   "metadata": {},
   "source": [
    "##### Background :  \n",
    "\n",
    "프로농구는 현재 21주년을 맞이했다. 1997년에 시작을 해서 현재 2018년까지 꾸준히 운영이 되고 있는 구기 종목 리그 중에 하나이다. 1990년대, 농구대잔치의 엄청난 인기를 안고 KBL을 개최하였고, 이 후, 용병제도를 통해서 관객들에게 더 화려한 쇼맨십을 보여줄 수 있었다. 또한 아시안게임에서 금메달들을 따기도 하면서 인기를 더욱 올릴 수 있는 기회도 많아졌고, 예전보다 화려한 농구를 하려고 하는 젊은 선수들이 많이 유입이 되면서 더욱 재미를 느낄 수 있는 기회들이 많아졌다.\n",
    "\n",
    "   하지만 이런 다양한 요소들이 있음에도 불구하고, 프로농구를 직관하기 위해 경기장을 찾는 관중 수는 계속해서 줄어들고 있는 상황이다. 이번 시즌은 역대 제일 적은 수의 기록했다. 물론 미국의 NBA와 비해 우리나라 농구는 화려하지 않고 경기 수준이 낮은 편이지만, 수많은 농구팬들이 국내에 많이 존재하고 있다. \n",
    "    그러나 최근에 프로들의 실력, 심판들의 오심, 용병만을 이용하는 전술 등 너무 뻔한 경기 및 졸전을 펼치면서 팬들은 계속해서 떠나고 있고, 그것이 직관을 하러 온 관중 수에도 영향을 미치고 있다. 심지어 최근에는 불공정한 징계들이 등장해서 더욱 관객들의 눈살을 찌푸리게 하며 더 떠나고 있는 상황이다.\n",
    "\n",
    " KBL에 따르면 2017-2018 정관장 프로농구 정규리그의 경기당 평균 관중은 2796명으로 지금까지  KBL이 개최된 이후로 최소 관중 수다. 2013-2014시즌 4372명을 기록한 이래 4시즌 째 하향세다.\n",
    "\n",
    "[출처] - 국민일보 \n",
    "\n",
    "[원본링크] - http://news.kmib.co.kr/article/view.asp?arcid=0923920084&code=12130000&cp=n\n",
    "\n",
    "이런 상황에서 김영기 총재는 18~19시즌에는 \"장신 용병의 키를 2m이하로, 단신 용병은 186cm이하로 규정해서 더욱 빠른 농구를 통한 득점 증가로 관중을 많이 모으도록 하겠다.\"라는 말을 하면서 다음 시즌에는 2m이하의 용병들만 보게 되었다. 빠른 용병을 불러서 빠르게 득점하여 득점 증가로 인한 관중 수 증가 기대. 요즘 2m 이상의 빠른 선수들도 나오는 시대인데, 너무나도 생각이 구시대적 발상이 아닐 수 없다. 아무리 들어도 말도 안 되는 생각이다. 하지만 저 생각은 그 동안 진행이 된 시즌들을 분석해서 나온 방안이라고 얘기를 했다. 과연 저 생각이 데이터분석을 통해서 맞는 생각인지 한 번 볼 필요가 있다고 생각했다."
   ]
  },
  {
   "cell_type": "markdown",
   "metadata": {},
   "source": [
    "##### Business Objectives : \n",
    "\n",
    "   한국프로농구협회는 이런 관중 수의 감소를 막아야 한다. 4시즌 째 하향세인 KBL의 관중 수를 다시 늘리기 위해선 큰 개혁을 위한 ‘리브랜딩’ 또는 팬들의 니즈를 직접 파악하기 위한 설문조사를 해야 할 필요가 있지만, 그 전에 총재가 애기했던 용병의 키를 더 작게 하면 관중 수가 늘어날 수 있다고 얘기하고 있다. 이 제도가 관중을 모을 수 있을지가 의문인 상황에서 과거의 데이터를 바탕으로 관중이 많았을 때의 자료들을 분석해서 앞으로 적용이 될 제도가 타당한 지 확인할 필요가 있다. 많은 득점을 내는 것이 관중 수 증가에 영향을 미치는지 확인하기 위해 경기데이터를 분석해 볼 필요가 있다. 프로농구의 인기가 하락하는 이유들이 많이 언급이 되고 있지만, 정확한 자료들을 기반 하여 문제 요인을 확인을 할 필요가 있다."
   ]
  },
  {
   "cell_type": "markdown",
   "metadata": {},
   "source": [
    "##### Business Success Criteria :\n",
    "\n",
    "13~14시즌으로부터 이후 시즌인 14~15시즌에는 관중 수가  약 12.25%하락, 15~16시즌에는 12.69%하락, 16~17시즌에는 11.12%가 하락했다. 계속해서 하락하면서 현재는 어림잡아서 약 22.89%하락하면서 엄청난 하락세를 정량적으로도 보여주고 있다. 아시아 내에서의 좋은 성적, 선수들의 스타성, 늘어나고 있는 볼거리 등 많은 흥행요소들이 있지만 계속되는 하락세는 못 막고 있다. 총재는 빠른 용병유입으로 인한 득점 증가가 관중 증가에 영향을 미칠 것이라고 예상했는데, 이 말이 맞는지 득점과 관중 수의 상관관계, 득점에 영향을 미치는 요인들을 분석해서 찾아야 한다. 득점에 영향을 미칠 것으로 보이는 리바운드, 어시스트, 스틸, 3점 슛 성공 횟수 등을 회귀분석을 하여 r-square값이 0.05 이상이 되는 요인을 찾아서 총재가 말했던 말이 맞는지 검증을 할 필요가 있다. 그리고 정성적인 측면에서는 "
   ]
  },
  {
   "cell_type": "markdown",
   "metadata": {},
   "source": [
    "##### Analysis Goals : \n",
    "\n",
    "프로농구 관중 수가 평균득점과 정비례를 하는지, 그리고 평균 득점에 영향을 끼치는 요인들은 무엇인지를 확인해서 총재의 말이 맞는지 검증하는 것이 목표"
   ]
  },
  {
   "cell_type": "markdown",
   "metadata": {},
   "source": [
    "### 2. 데이터 이해\n",
    "\n",
    "데이터 이해 단계는 초기 데이터 수집부터 시작하여 데이터에 익숙해지고 데이터 품질 문제를 확인하며 데이터에 대한 첫 번째 통찰력을 발견하고 숨겨진 정보에 관한 가설을 구성하는 흥미로운 하위 집합을 발견할 수 있는 활동으로 진행됩니다."
   ]
  },
  {
   "cell_type": "markdown",
   "metadata": {},
   "source": [
    "##### Data Collection : \n",
    "데이터 수집은 KBL공식 홈페이지에 있는 많은 경기 기록 데이터들을 수집해서 엑셀로 먼저 분석한다. 평균득점, 리바운드, 어시스트, 성적 순위, 관중 수 등 다양한 자료들을 다 모집을 해서 분석을 한다. 엑셀을 통한 초기 분석을 통해서 파이썬에 이용해서 또 다시 분석을 하는 방법으로 분석을 할 예정 "
   ]
  },
  {
   "cell_type": "markdown",
   "metadata": {},
   "source": [
    "### 3. 데이터 준비\n",
    "\n",
    "데이터 준비 단계는 초기 로우 데이터에서 최종 데이터셋[분석에 필요한 데이터]을 구성하는 데 필요한 모든 작업을 포함합니다. 데이터 준비 작업은 지정된 순서가 아닌 여러 번 수행될 수 있습니다. 작업에는 테이블, 레코드, 특성 선택과 모델링 도구의 데이터 변환 및 정리가 포함됩니다."
   ]
  },
  {
   "cell_type": "markdown",
   "metadata": {},
   "source": [
    "### 4. 분석 \n",
    "\n",
    "이 단계에서는 다양한 분석 기법을 선택하여 적용합니다. 이 과정은 데이터 준비 단계로 돌아가 데이터셋을 조정하여 다시 분석하는 과정이 종종 필요합니다."
   ]
  },
  {
   "cell_type": "markdown",
   "metadata": {},
   "source": [
    " - 먼저 54경기를 하기 시작한 01~02시즌부터 17~18시즌까지의 평균 득점과 관중 수를 나타내는 그래프가 나와야 함"
   ]
  },
  {
   "cell_type": "markdown",
   "metadata": {},
   "source": [
    " - 각 시즌 마다 용병룰이나 게임룰의 변화를 언급하면서 그래프를 분석함"
   ]
  },
  {
   "cell_type": "markdown",
   "metadata": {},
   "source": [
    " - 이를 토대로 용병의 신장제한이 관중에 영향을 끼치는 정도가 어느 정도인지 보여줌"
   ]
  },
  {
   "cell_type": "markdown",
   "metadata": {},
   "source": [
    " - 다음으로는 각 시즌에 팀들의 기록들을 통한 관중 수를 분석하여 더 많은 표본을 통해 분석을 한다. 분석은 회귀분석"
   ]
  },
  {
   "cell_type": "markdown",
   "metadata": {},
   "source": [
    " - 관중 수와 득점, 리바운드, 어시스트, 스틸, 3점 슛 성공 횟수, DK, 순위 등 다양한 요소와 묶어서 회귀분석 (다중회귀)"
   ]
  },
  {
   "cell_type": "markdown",
   "metadata": {},
   "source": [
    " - 그로 인해 관중 수에 영향을 끼치는 요인이 무엇인지 확인"
   ]
  },
  {
   "cell_type": "markdown",
   "metadata": {},
   "source": [
    " - 총재는 용병 키를 제한해서 빠른 용병들의 득점이 득점 증가로 이어질 거란 얘기를 했음. 득점을 증가하는데 어떤 요인들이 있는지 분석"
   ]
  },
  {
   "cell_type": "markdown",
   "metadata": {},
   "source": [
    " - 득점으로 이어질 요인들인 리바운드, 어시스트, 스틸, 3점슛 성공 횟수, 2점슛 성공률, 3점슛 성공률, 자유투 성공률을 분석 (다중회귀)"
   ]
  },
  {
   "cell_type": "markdown",
   "metadata": {},
   "source": [
    " -  그리고 추가적으로 국내선수들의 비중이 높은 팀일수록 관중을 모을 수 있을거란 가설을 세우고 국내선수들의 득점 비중과 관중 수의 산점도 작성 및 회귀분석을 한다."
   ]
  },
  {
   "cell_type": "markdown",
   "metadata": {},
   "source": [
    " - 추가로 용병들의 득점 비중도 같이 산점도 및 회귀분석을 한다."
   ]
  },
  {
   "cell_type": "markdown",
   "metadata": {},
   "source": [
    " - 지금까지 분석한 자료들을 토대로 총재가 말했던 말이 맞는지 검토를 한 후 결론을 내린다."
   ]
  },
  {
   "cell_type": "markdown",
   "metadata": {},
   "source": [
    "# KBL 통계자료를 이용한 분석"
   ]
  },
  {
   "cell_type": "markdown",
   "metadata": {},
   "source": [
    "##### 필요한 모듈을 불러온다"
   ]
  },
  {
   "cell_type": "code",
   "execution_count": 1,
   "metadata": {},
   "outputs": [],
   "source": [
    "import pandas as pd\n",
    "import numpy as np\n",
    "import matplotlib.pyplot as plt\n",
    "# matplotlib에서 한글 폰트가 깨지는 문제를 해결하기 위하 코드\n",
    "from matplotlib import font_manager, rc\n",
    "font_name = font_manager.FontProperties(fname=\"c:/Windows/Fonts/malgun.ttf\").get_name()\n",
    "rc('font', family=font_name)"
   ]
  },
  {
   "cell_type": "markdown",
   "metadata": {},
   "source": [
    "##### 필요한 자료를 읽어온다"
   ]
  },
  {
   "cell_type": "code",
   "execution_count": 2,
   "metadata": {},
   "outputs": [],
   "source": [
    "kbl_base = pd.read_excel('경영과데이터베이스 농구데이터 (01~02부터 16~17).xlsx')\n",
    "kbl_seasonal_aver = pd.read_excel('Copy of kbl season average.xlsx')"
   ]
  },
  {
   "cell_type": "markdown",
   "metadata": {},
   "source": [
    "##### 읽어온 자료 중 KBL 기초 자료를 확인한다"
   ]
  },
  {
   "cell_type": "code",
   "execution_count": 51,
   "metadata": {},
   "outputs": [
    {
     "data": {
      "text/html": [
       "<div>\n",
       "<style>\n",
       "    .dataframe thead tr:only-child th {\n",
       "        text-align: right;\n",
       "    }\n",
       "\n",
       "    .dataframe thead th {\n",
       "        text-align: left;\n",
       "    }\n",
       "\n",
       "    .dataframe tbody tr th {\n",
       "        vertical-align: top;\n",
       "    }\n",
       "</style>\n",
       "<table border=\"1\" class=\"dataframe\">\n",
       "  <thead>\n",
       "    <tr style=\"text-align: right;\">\n",
       "      <th></th>\n",
       "      <th>팀</th>\n",
       "      <th>득점</th>\n",
       "      <th>리바운드</th>\n",
       "      <th>어시스트</th>\n",
       "      <th>스틸</th>\n",
       "      <th>블록</th>\n",
       "      <th>3점슛성공</th>\n",
       "      <th>턴오버</th>\n",
       "      <th>2점슛 성공률 (%)</th>\n",
       "      <th>3점슛 성공률 (%)</th>\n",
       "      <th>...</th>\n",
       "      <th>w/FT</th>\n",
       "      <th>w/oFT</th>\n",
       "      <th>Tot.</th>\n",
       "      <th>TF</th>\n",
       "      <th>DK</th>\n",
       "      <th>DKA</th>\n",
       "      <th>교체</th>\n",
       "      <th>시즌</th>\n",
       "      <th>팀 순위</th>\n",
       "      <th>관중 수</th>\n",
       "    </tr>\n",
       "  </thead>\n",
       "  <tbody>\n",
       "    <tr>\n",
       "      <th>0</th>\n",
       "      <td>창원LG</td>\n",
       "      <td>92.6</td>\n",
       "      <td>33.7</td>\n",
       "      <td>17.8</td>\n",
       "      <td>8.6</td>\n",
       "      <td>3.4</td>\n",
       "      <td>9.0</td>\n",
       "      <td>11.7</td>\n",
       "      <td>57.51</td>\n",
       "      <td>35.76</td>\n",
       "      <td>...</td>\n",
       "      <td>577</td>\n",
       "      <td>526</td>\n",
       "      <td>1103</td>\n",
       "      <td>28</td>\n",
       "      <td>52</td>\n",
       "      <td>62</td>\n",
       "      <td>427</td>\n",
       "      <td>2001</td>\n",
       "      <td>5</td>\n",
       "      <td>146295</td>\n",
       "    </tr>\n",
       "    <tr>\n",
       "      <th>1</th>\n",
       "      <td>대구오리온스</td>\n",
       "      <td>90.7</td>\n",
       "      <td>35.8</td>\n",
       "      <td>20.5</td>\n",
       "      <td>7.3</td>\n",
       "      <td>2.9</td>\n",
       "      <td>10.3</td>\n",
       "      <td>13.0</td>\n",
       "      <td>58.16</td>\n",
       "      <td>38.49</td>\n",
       "      <td>...</td>\n",
       "      <td>478</td>\n",
       "      <td>486</td>\n",
       "      <td>964</td>\n",
       "      <td>14</td>\n",
       "      <td>90</td>\n",
       "      <td>98</td>\n",
       "      <td>581</td>\n",
       "      <td>2003</td>\n",
       "      <td>3</td>\n",
       "      <td>114866</td>\n",
       "    </tr>\n",
       "    <tr>\n",
       "      <th>2</th>\n",
       "      <td>대구오리온스</td>\n",
       "      <td>90.4</td>\n",
       "      <td>35.4</td>\n",
       "      <td>20.4</td>\n",
       "      <td>7.9</td>\n",
       "      <td>2.8</td>\n",
       "      <td>9.5</td>\n",
       "      <td>12.8</td>\n",
       "      <td>54.95</td>\n",
       "      <td>37.67</td>\n",
       "      <td>...</td>\n",
       "      <td>537</td>\n",
       "      <td>553</td>\n",
       "      <td>1090</td>\n",
       "      <td>27</td>\n",
       "      <td>118</td>\n",
       "      <td>132</td>\n",
       "      <td>609</td>\n",
       "      <td>2004</td>\n",
       "      <td>6</td>\n",
       "      <td>107545</td>\n",
       "    </tr>\n",
       "    <tr>\n",
       "      <th>3</th>\n",
       "      <td>전주KCC</td>\n",
       "      <td>89.3</td>\n",
       "      <td>36.9</td>\n",
       "      <td>20.6</td>\n",
       "      <td>8.1</td>\n",
       "      <td>3.0</td>\n",
       "      <td>7.7</td>\n",
       "      <td>11.6</td>\n",
       "      <td>54.81</td>\n",
       "      <td>37.00</td>\n",
       "      <td>...</td>\n",
       "      <td>508</td>\n",
       "      <td>545</td>\n",
       "      <td>1053</td>\n",
       "      <td>13</td>\n",
       "      <td>46</td>\n",
       "      <td>48</td>\n",
       "      <td>936</td>\n",
       "      <td>2003</td>\n",
       "      <td>2</td>\n",
       "      <td>142592</td>\n",
       "    </tr>\n",
       "    <tr>\n",
       "      <th>4</th>\n",
       "      <td>여수 코리아텐더</td>\n",
       "      <td>89.1</td>\n",
       "      <td>36.3</td>\n",
       "      <td>19.0</td>\n",
       "      <td>7.8</td>\n",
       "      <td>3.2</td>\n",
       "      <td>6.4</td>\n",
       "      <td>12.1</td>\n",
       "      <td>55.99</td>\n",
       "      <td>31.81</td>\n",
       "      <td>...</td>\n",
       "      <td>480</td>\n",
       "      <td>512</td>\n",
       "      <td>992</td>\n",
       "      <td>16</td>\n",
       "      <td>70</td>\n",
       "      <td>77</td>\n",
       "      <td>526</td>\n",
       "      <td>2001</td>\n",
       "      <td>7</td>\n",
       "      <td>69351</td>\n",
       "    </tr>\n",
       "  </tbody>\n",
       "</table>\n",
       "<p>5 rows × 21 columns</p>\n",
       "</div>"
      ],
      "text/plain": [
       "          팀    득점  리바운드  어시스트   스틸   블록  3점슛성공   턴오버  2점슛 성공률 (%)  \\\n",
       "0      창원LG  92.6  33.7  17.8  8.6  3.4    9.0  11.7        57.51   \n",
       "1    대구오리온스  90.7  35.8  20.5  7.3  2.9   10.3  13.0        58.16   \n",
       "2    대구오리온스  90.4  35.4  20.4  7.9  2.8    9.5  12.8        54.95   \n",
       "3     전주KCC  89.3  36.9  20.6  8.1  3.0    7.7  11.6        54.81   \n",
       "4  여수 코리아텐더  89.1  36.3  19.0  7.8  3.2    6.4  12.1        55.99   \n",
       "\n",
       "   3점슛 성공률 (%)   ...    w/FT  w/oFT  Tot.  TF   DK  DKA   교체    시즌 팀 순위  \\\n",
       "0        35.76   ...     577    526  1103  28   52   62  427  2001    5   \n",
       "1        38.49   ...     478    486   964  14   90   98  581  2003    3   \n",
       "2        37.67   ...     537    553  1090  27  118  132  609  2004    6   \n",
       "3        37.00   ...     508    545  1053  13   46   48  936  2003    2   \n",
       "4        31.81   ...     480    512   992  16   70   77  526  2001    7   \n",
       "\n",
       "     관중 수  \n",
       "0  146295  \n",
       "1  114866  \n",
       "2  107545  \n",
       "3  142592  \n",
       "4   69351  \n",
       "\n",
       "[5 rows x 21 columns]"
      ]
     },
     "execution_count": 51,
     "metadata": {},
     "output_type": "execute_result"
    }
   ],
   "source": [
    "kbl_base.head()"
   ]
  },
  {
   "cell_type": "markdown",
   "metadata": {},
   "source": [
    "##### 이후 분석을 위하여 시즌을 시작년도를 기준으로 바꿔준다\n",
    "##### 경고문이 발생하지만 실행에는 문제가 없다"
   ]
  },
  {
   "cell_type": "code",
   "execution_count": 4,
   "metadata": {},
   "outputs": [
    {
     "name": "stderr",
     "output_type": "stream",
     "text": [
      "C:\\Users\\SungKyu\\Anaconda3\\lib\\site-packages\\ipykernel_launcher.py:2: SettingWithCopyWarning: \n",
      "A value is trying to be set on a copy of a slice from a DataFrame\n",
      "\n",
      "See the caveats in the documentation: http://pandas.pydata.org/pandas-docs/stable/indexing.html#indexing-view-versus-copy\n",
      "  \n"
     ]
    }
   ],
   "source": [
    "for i in range(len(kbl_base['시즌'])):\n",
    "    kbl_base['시즌'][i] = int(kbl_base['시즌'][i].split('~')[0])+2000"
   ]
  },
  {
   "cell_type": "markdown",
   "metadata": {},
   "source": [
    "##### 데이터가 적절하게 교체되었는지 확인한다"
   ]
  },
  {
   "cell_type": "code",
   "execution_count": 5,
   "metadata": {},
   "outputs": [
    {
     "data": {
      "text/html": [
       "<div>\n",
       "<style>\n",
       "    .dataframe thead tr:only-child th {\n",
       "        text-align: right;\n",
       "    }\n",
       "\n",
       "    .dataframe thead th {\n",
       "        text-align: left;\n",
       "    }\n",
       "\n",
       "    .dataframe tbody tr th {\n",
       "        vertical-align: top;\n",
       "    }\n",
       "</style>\n",
       "<table border=\"1\" class=\"dataframe\">\n",
       "  <thead>\n",
       "    <tr style=\"text-align: right;\">\n",
       "      <th></th>\n",
       "      <th>팀</th>\n",
       "      <th>득점</th>\n",
       "      <th>리바운드</th>\n",
       "      <th>어시스트</th>\n",
       "      <th>스틸</th>\n",
       "      <th>블록</th>\n",
       "      <th>3점슛성공</th>\n",
       "      <th>턴오버</th>\n",
       "      <th>2점슛 성공률 (%)</th>\n",
       "      <th>3점슛 성공률 (%)</th>\n",
       "      <th>...</th>\n",
       "      <th>w/FT</th>\n",
       "      <th>w/oFT</th>\n",
       "      <th>Tot.</th>\n",
       "      <th>TF</th>\n",
       "      <th>DK</th>\n",
       "      <th>DKA</th>\n",
       "      <th>교체</th>\n",
       "      <th>시즌</th>\n",
       "      <th>팀 순위</th>\n",
       "      <th>관중 수</th>\n",
       "    </tr>\n",
       "  </thead>\n",
       "  <tbody>\n",
       "    <tr>\n",
       "      <th>0</th>\n",
       "      <td>창원LG</td>\n",
       "      <td>92.6</td>\n",
       "      <td>33.7</td>\n",
       "      <td>17.8</td>\n",
       "      <td>8.6</td>\n",
       "      <td>3.4</td>\n",
       "      <td>9.0</td>\n",
       "      <td>11.7</td>\n",
       "      <td>57.51</td>\n",
       "      <td>35.76</td>\n",
       "      <td>...</td>\n",
       "      <td>577</td>\n",
       "      <td>526</td>\n",
       "      <td>1103</td>\n",
       "      <td>28</td>\n",
       "      <td>52</td>\n",
       "      <td>62</td>\n",
       "      <td>427</td>\n",
       "      <td>2001</td>\n",
       "      <td>5</td>\n",
       "      <td>146295</td>\n",
       "    </tr>\n",
       "    <tr>\n",
       "      <th>1</th>\n",
       "      <td>대구오리온스</td>\n",
       "      <td>90.7</td>\n",
       "      <td>35.8</td>\n",
       "      <td>20.5</td>\n",
       "      <td>7.3</td>\n",
       "      <td>2.9</td>\n",
       "      <td>10.3</td>\n",
       "      <td>13.0</td>\n",
       "      <td>58.16</td>\n",
       "      <td>38.49</td>\n",
       "      <td>...</td>\n",
       "      <td>478</td>\n",
       "      <td>486</td>\n",
       "      <td>964</td>\n",
       "      <td>14</td>\n",
       "      <td>90</td>\n",
       "      <td>98</td>\n",
       "      <td>581</td>\n",
       "      <td>2003</td>\n",
       "      <td>3</td>\n",
       "      <td>114866</td>\n",
       "    </tr>\n",
       "    <tr>\n",
       "      <th>2</th>\n",
       "      <td>대구오리온스</td>\n",
       "      <td>90.4</td>\n",
       "      <td>35.4</td>\n",
       "      <td>20.4</td>\n",
       "      <td>7.9</td>\n",
       "      <td>2.8</td>\n",
       "      <td>9.5</td>\n",
       "      <td>12.8</td>\n",
       "      <td>54.95</td>\n",
       "      <td>37.67</td>\n",
       "      <td>...</td>\n",
       "      <td>537</td>\n",
       "      <td>553</td>\n",
       "      <td>1090</td>\n",
       "      <td>27</td>\n",
       "      <td>118</td>\n",
       "      <td>132</td>\n",
       "      <td>609</td>\n",
       "      <td>2004</td>\n",
       "      <td>6</td>\n",
       "      <td>107545</td>\n",
       "    </tr>\n",
       "    <tr>\n",
       "      <th>3</th>\n",
       "      <td>전주KCC</td>\n",
       "      <td>89.3</td>\n",
       "      <td>36.9</td>\n",
       "      <td>20.6</td>\n",
       "      <td>8.1</td>\n",
       "      <td>3.0</td>\n",
       "      <td>7.7</td>\n",
       "      <td>11.6</td>\n",
       "      <td>54.81</td>\n",
       "      <td>37.00</td>\n",
       "      <td>...</td>\n",
       "      <td>508</td>\n",
       "      <td>545</td>\n",
       "      <td>1053</td>\n",
       "      <td>13</td>\n",
       "      <td>46</td>\n",
       "      <td>48</td>\n",
       "      <td>936</td>\n",
       "      <td>2003</td>\n",
       "      <td>2</td>\n",
       "      <td>142592</td>\n",
       "    </tr>\n",
       "    <tr>\n",
       "      <th>4</th>\n",
       "      <td>여수 코리아텐더</td>\n",
       "      <td>89.1</td>\n",
       "      <td>36.3</td>\n",
       "      <td>19.0</td>\n",
       "      <td>7.8</td>\n",
       "      <td>3.2</td>\n",
       "      <td>6.4</td>\n",
       "      <td>12.1</td>\n",
       "      <td>55.99</td>\n",
       "      <td>31.81</td>\n",
       "      <td>...</td>\n",
       "      <td>480</td>\n",
       "      <td>512</td>\n",
       "      <td>992</td>\n",
       "      <td>16</td>\n",
       "      <td>70</td>\n",
       "      <td>77</td>\n",
       "      <td>526</td>\n",
       "      <td>2001</td>\n",
       "      <td>7</td>\n",
       "      <td>69351</td>\n",
       "    </tr>\n",
       "  </tbody>\n",
       "</table>\n",
       "<p>5 rows × 21 columns</p>\n",
       "</div>"
      ],
      "text/plain": [
       "          팀    득점  리바운드  어시스트   스틸   블록  3점슛성공   턴오버  2점슛 성공률 (%)  \\\n",
       "0      창원LG  92.6  33.7  17.8  8.6  3.4    9.0  11.7        57.51   \n",
       "1    대구오리온스  90.7  35.8  20.5  7.3  2.9   10.3  13.0        58.16   \n",
       "2    대구오리온스  90.4  35.4  20.4  7.9  2.8    9.5  12.8        54.95   \n",
       "3     전주KCC  89.3  36.9  20.6  8.1  3.0    7.7  11.6        54.81   \n",
       "4  여수 코리아텐더  89.1  36.3  19.0  7.8  3.2    6.4  12.1        55.99   \n",
       "\n",
       "   3점슛 성공률 (%)   ...    w/FT  w/oFT  Tot.  TF   DK  DKA   교체    시즌 팀 순위  \\\n",
       "0        35.76   ...     577    526  1103  28   52   62  427  2001    5   \n",
       "1        38.49   ...     478    486   964  14   90   98  581  2003    3   \n",
       "2        37.67   ...     537    553  1090  27  118  132  609  2004    6   \n",
       "3        37.00   ...     508    545  1053  13   46   48  936  2003    2   \n",
       "4        31.81   ...     480    512   992  16   70   77  526  2001    7   \n",
       "\n",
       "     관중 수  \n",
       "0  146295  \n",
       "1  114866  \n",
       "2  107545  \n",
       "3  142592  \n",
       "4   69351  \n",
       "\n",
       "[5 rows x 21 columns]"
      ]
     },
     "execution_count": 5,
     "metadata": {},
     "output_type": "execute_result"
    }
   ],
   "source": [
    "kbl_base.head()"
   ]
  },
  {
   "cell_type": "markdown",
   "metadata": {},
   "source": [
    "##### 컬럼들의 이름을 확인한다"
   ]
  },
  {
   "cell_type": "code",
   "execution_count": 6,
   "metadata": {},
   "outputs": [
    {
     "data": {
      "text/plain": [
       "('팀',\n",
       " '득점',\n",
       " '리바운드',\n",
       " '어시스트',\n",
       " '스틸',\n",
       " '블록',\n",
       " '3점슛성공',\n",
       " '턴오버',\n",
       " '2점슛 성공률 (%)',\n",
       " '3점슛 성공률 (%)',\n",
       " '자유투 성공률 (%)',\n",
       " 'w/FT',\n",
       " 'w/oFT',\n",
       " 'Tot.',\n",
       " 'TF',\n",
       " 'DK',\n",
       " 'DKA',\n",
       " '교체',\n",
       " '시즌',\n",
       " '팀 순위',\n",
       " '관중 수')"
      ]
     },
     "execution_count": 6,
     "metadata": {},
     "output_type": "execute_result"
    }
   ],
   "source": [
    "kbl_base_col = tuple(kbl_base.columns)\n",
    "kbl_base_col"
   ]
  },
  {
   "cell_type": "markdown",
   "metadata": {},
   "source": [
    "## 현재 KBL에 관한 시계열 기술통계"
   ]
  },
  {
   "cell_type": "markdown",
   "metadata": {},
   "source": [
    "##### 다음으로 시즌별 구단 평균자료를 살펴본다"
   ]
  },
  {
   "cell_type": "code",
   "execution_count": 7,
   "metadata": {},
   "outputs": [
    {
     "data": {
      "text/html": [
       "<div>\n",
       "<style>\n",
       "    .dataframe thead tr:only-child th {\n",
       "        text-align: right;\n",
       "    }\n",
       "\n",
       "    .dataframe thead th {\n",
       "        text-align: left;\n",
       "    }\n",
       "\n",
       "    .dataframe tbody tr th {\n",
       "        vertical-align: top;\n",
       "    }\n",
       "</style>\n",
       "<table border=\"1\" class=\"dataframe\">\n",
       "  <thead>\n",
       "    <tr style=\"text-align: right;\">\n",
       "      <th></th>\n",
       "      <th>시즌</th>\n",
       "      <th>득점</th>\n",
       "      <th>리바운드</th>\n",
       "      <th>어시스트</th>\n",
       "      <th>스틸</th>\n",
       "      <th>블록</th>\n",
       "      <th>3점슛성공</th>\n",
       "      <th>턴오버</th>\n",
       "      <th>2점슛 성공률(%)</th>\n",
       "      <th>3점슛 성공률(%)</th>\n",
       "      <th>자유투 성공률(%)</th>\n",
       "      <th>w/FT</th>\n",
       "      <th>w/oFT</th>\n",
       "      <th>Tot.</th>\n",
       "      <th>TF</th>\n",
       "      <th>DK</th>\n",
       "      <th>DKA</th>\n",
       "      <th>교체</th>\n",
       "      <th>관중 수</th>\n",
       "    </tr>\n",
       "  </thead>\n",
       "  <tbody>\n",
       "    <tr>\n",
       "      <th>0</th>\n",
       "      <td>17~18</td>\n",
       "      <td>84.14</td>\n",
       "      <td>38.04</td>\n",
       "      <td>18.40</td>\n",
       "      <td>6.86</td>\n",
       "      <td>2.85</td>\n",
       "      <td>7.13</td>\n",
       "      <td>10.79</td>\n",
       "      <td>53.417</td>\n",
       "      <td>33.499</td>\n",
       "      <td>70.851</td>\n",
       "      <td>529.9</td>\n",
       "      <td>510.4</td>\n",
       "      <td>1040.3</td>\n",
       "      <td>9.3</td>\n",
       "      <td>100.6</td>\n",
       "      <td>110.7</td>\n",
       "      <td>1098.2</td>\n",
       "      <td>754920</td>\n",
       "    </tr>\n",
       "    <tr>\n",
       "      <th>1</th>\n",
       "      <td>16~17</td>\n",
       "      <td>79.15</td>\n",
       "      <td>37.33</td>\n",
       "      <td>18.19</td>\n",
       "      <td>7.39</td>\n",
       "      <td>2.90</td>\n",
       "      <td>6.48</td>\n",
       "      <td>11.80</td>\n",
       "      <td>51.280</td>\n",
       "      <td>33.210</td>\n",
       "      <td>71.899</td>\n",
       "      <td>466.6</td>\n",
       "      <td>511.5</td>\n",
       "      <td>978.1</td>\n",
       "      <td>9.7</td>\n",
       "      <td>77.7</td>\n",
       "      <td>85.3</td>\n",
       "      <td>1097.5</td>\n",
       "      <td>915626</td>\n",
       "    </tr>\n",
       "    <tr>\n",
       "      <th>2</th>\n",
       "      <td>15~16</td>\n",
       "      <td>78.81</td>\n",
       "      <td>35.17</td>\n",
       "      <td>16.95</td>\n",
       "      <td>6.95</td>\n",
       "      <td>2.54</td>\n",
       "      <td>6.79</td>\n",
       "      <td>11.63</td>\n",
       "      <td>52.803</td>\n",
       "      <td>34.507</td>\n",
       "      <td>72.620</td>\n",
       "      <td>502.6</td>\n",
       "      <td>501.4</td>\n",
       "      <td>1004.0</td>\n",
       "      <td>12.9</td>\n",
       "      <td>76.8</td>\n",
       "      <td>81.2</td>\n",
       "      <td>1195.3</td>\n",
       "      <td>1021558</td>\n",
       "    </tr>\n",
       "    <tr>\n",
       "      <th>3</th>\n",
       "      <td>14~15</td>\n",
       "      <td>74.59</td>\n",
       "      <td>35.71</td>\n",
       "      <td>15.97</td>\n",
       "      <td>7.02</td>\n",
       "      <td>2.77</td>\n",
       "      <td>6.04</td>\n",
       "      <td>10.93</td>\n",
       "      <td>50.629</td>\n",
       "      <td>32.966</td>\n",
       "      <td>71.308</td>\n",
       "      <td>489.9</td>\n",
       "      <td>527.4</td>\n",
       "      <td>1017.3</td>\n",
       "      <td>10.9</td>\n",
       "      <td>58.7</td>\n",
       "      <td>64.0</td>\n",
       "      <td>1245.7</td>\n",
       "      <td>1144258</td>\n",
       "    </tr>\n",
       "    <tr>\n",
       "      <th>4</th>\n",
       "      <td>13~14</td>\n",
       "      <td>73.43</td>\n",
       "      <td>35.02</td>\n",
       "      <td>15.44</td>\n",
       "      <td>6.86</td>\n",
       "      <td>2.85</td>\n",
       "      <td>6.25</td>\n",
       "      <td>10.94</td>\n",
       "      <td>49.981</td>\n",
       "      <td>34.573</td>\n",
       "      <td>71.693</td>\n",
       "      <td>456.5</td>\n",
       "      <td>582.7</td>\n",
       "      <td>1039.2</td>\n",
       "      <td>7.0</td>\n",
       "      <td>86.5</td>\n",
       "      <td>94.8</td>\n",
       "      <td>1160.8</td>\n",
       "      <td>1295125</td>\n",
       "    </tr>\n",
       "  </tbody>\n",
       "</table>\n",
       "</div>"
      ],
      "text/plain": [
       "      시즌     득점   리바운드   어시스트    스틸    블록  3점슛성공    턴오버  2점슛 성공률(%)  \\\n",
       "0  17~18  84.14  38.04  18.40  6.86  2.85   7.13  10.79      53.417   \n",
       "1  16~17  79.15  37.33  18.19  7.39  2.90   6.48  11.80      51.280   \n",
       "2  15~16  78.81  35.17  16.95  6.95  2.54   6.79  11.63      52.803   \n",
       "3  14~15  74.59  35.71  15.97  7.02  2.77   6.04  10.93      50.629   \n",
       "4  13~14  73.43  35.02  15.44  6.86  2.85   6.25  10.94      49.981   \n",
       "\n",
       "   3점슛 성공률(%)  자유투 성공률(%)   w/FT  w/oFT    Tot.    TF     DK    DKA      교체  \\\n",
       "0      33.499      70.851  529.9  510.4  1040.3   9.3  100.6  110.7  1098.2   \n",
       "1      33.210      71.899  466.6  511.5   978.1   9.7   77.7   85.3  1097.5   \n",
       "2      34.507      72.620  502.6  501.4  1004.0  12.9   76.8   81.2  1195.3   \n",
       "3      32.966      71.308  489.9  527.4  1017.3  10.9   58.7   64.0  1245.7   \n",
       "4      34.573      71.693  456.5  582.7  1039.2   7.0   86.5   94.8  1160.8   \n",
       "\n",
       "      관중 수  \n",
       "0   754920  \n",
       "1   915626  \n",
       "2  1021558  \n",
       "3  1144258  \n",
       "4  1295125  "
      ]
     },
     "execution_count": 7,
     "metadata": {},
     "output_type": "execute_result"
    }
   ],
   "source": [
    "kbl_seasonal_aver.head()"
   ]
  },
  {
   "cell_type": "markdown",
   "metadata": {},
   "source": [
    "##### KBL 기초 자료와 마찬가지로 시즌을 시작년도를 기준으로 바꾸고 이를 인덱스로 삼는다.\n",
    "##### 마찬가지로 경고문이 발생하지만 실행에는 문제가 없다"
   ]
  },
  {
   "cell_type": "code",
   "execution_count": 8,
   "metadata": {},
   "outputs": [
    {
     "name": "stderr",
     "output_type": "stream",
     "text": [
      "C:\\Users\\SungKyu\\Anaconda3\\lib\\site-packages\\ipykernel_launcher.py:2: SettingWithCopyWarning: \n",
      "A value is trying to be set on a copy of a slice from a DataFrame\n",
      "\n",
      "See the caveats in the documentation: http://pandas.pydata.org/pandas-docs/stable/indexing.html#indexing-view-versus-copy\n",
      "  \n"
     ]
    }
   ],
   "source": [
    "for i in range(len(kbl_seasonal_aver['시즌'])):\n",
    "    kbl_seasonal_aver['시즌'][i] = int(kbl_seasonal_aver['시즌'][i].split('~')[0])+2000"
   ]
  },
  {
   "cell_type": "code",
   "execution_count": 9,
   "metadata": {},
   "outputs": [],
   "source": [
    "kbl_seasonal_aver.index = kbl_seasonal_aver['시즌']"
   ]
  },
  {
   "cell_type": "markdown",
   "metadata": {},
   "source": [
    "##### 데이터가 적절하게 교체되었는지 확인한다"
   ]
  },
  {
   "cell_type": "code",
   "execution_count": 10,
   "metadata": {},
   "outputs": [
    {
     "data": {
      "text/html": [
       "<div>\n",
       "<style>\n",
       "    .dataframe thead tr:only-child th {\n",
       "        text-align: right;\n",
       "    }\n",
       "\n",
       "    .dataframe thead th {\n",
       "        text-align: left;\n",
       "    }\n",
       "\n",
       "    .dataframe tbody tr th {\n",
       "        vertical-align: top;\n",
       "    }\n",
       "</style>\n",
       "<table border=\"1\" class=\"dataframe\">\n",
       "  <thead>\n",
       "    <tr style=\"text-align: right;\">\n",
       "      <th></th>\n",
       "      <th>시즌</th>\n",
       "      <th>득점</th>\n",
       "      <th>리바운드</th>\n",
       "      <th>어시스트</th>\n",
       "      <th>스틸</th>\n",
       "      <th>블록</th>\n",
       "      <th>3점슛성공</th>\n",
       "      <th>턴오버</th>\n",
       "      <th>2점슛 성공률(%)</th>\n",
       "      <th>3점슛 성공률(%)</th>\n",
       "      <th>자유투 성공률(%)</th>\n",
       "      <th>w/FT</th>\n",
       "      <th>w/oFT</th>\n",
       "      <th>Tot.</th>\n",
       "      <th>TF</th>\n",
       "      <th>DK</th>\n",
       "      <th>DKA</th>\n",
       "      <th>교체</th>\n",
       "      <th>관중 수</th>\n",
       "    </tr>\n",
       "    <tr>\n",
       "      <th>시즌</th>\n",
       "      <th></th>\n",
       "      <th></th>\n",
       "      <th></th>\n",
       "      <th></th>\n",
       "      <th></th>\n",
       "      <th></th>\n",
       "      <th></th>\n",
       "      <th></th>\n",
       "      <th></th>\n",
       "      <th></th>\n",
       "      <th></th>\n",
       "      <th></th>\n",
       "      <th></th>\n",
       "      <th></th>\n",
       "      <th></th>\n",
       "      <th></th>\n",
       "      <th></th>\n",
       "      <th></th>\n",
       "      <th></th>\n",
       "    </tr>\n",
       "  </thead>\n",
       "  <tbody>\n",
       "    <tr>\n",
       "      <th>2017</th>\n",
       "      <td>2017</td>\n",
       "      <td>84.14</td>\n",
       "      <td>38.04</td>\n",
       "      <td>18.40</td>\n",
       "      <td>6.86</td>\n",
       "      <td>2.85</td>\n",
       "      <td>7.13</td>\n",
       "      <td>10.79</td>\n",
       "      <td>53.417</td>\n",
       "      <td>33.499</td>\n",
       "      <td>70.851</td>\n",
       "      <td>529.9</td>\n",
       "      <td>510.4</td>\n",
       "      <td>1040.3</td>\n",
       "      <td>9.3</td>\n",
       "      <td>100.6</td>\n",
       "      <td>110.7</td>\n",
       "      <td>1098.2</td>\n",
       "      <td>754920</td>\n",
       "    </tr>\n",
       "    <tr>\n",
       "      <th>2016</th>\n",
       "      <td>2016</td>\n",
       "      <td>79.15</td>\n",
       "      <td>37.33</td>\n",
       "      <td>18.19</td>\n",
       "      <td>7.39</td>\n",
       "      <td>2.90</td>\n",
       "      <td>6.48</td>\n",
       "      <td>11.80</td>\n",
       "      <td>51.280</td>\n",
       "      <td>33.210</td>\n",
       "      <td>71.899</td>\n",
       "      <td>466.6</td>\n",
       "      <td>511.5</td>\n",
       "      <td>978.1</td>\n",
       "      <td>9.7</td>\n",
       "      <td>77.7</td>\n",
       "      <td>85.3</td>\n",
       "      <td>1097.5</td>\n",
       "      <td>915626</td>\n",
       "    </tr>\n",
       "    <tr>\n",
       "      <th>2015</th>\n",
       "      <td>2015</td>\n",
       "      <td>78.81</td>\n",
       "      <td>35.17</td>\n",
       "      <td>16.95</td>\n",
       "      <td>6.95</td>\n",
       "      <td>2.54</td>\n",
       "      <td>6.79</td>\n",
       "      <td>11.63</td>\n",
       "      <td>52.803</td>\n",
       "      <td>34.507</td>\n",
       "      <td>72.620</td>\n",
       "      <td>502.6</td>\n",
       "      <td>501.4</td>\n",
       "      <td>1004.0</td>\n",
       "      <td>12.9</td>\n",
       "      <td>76.8</td>\n",
       "      <td>81.2</td>\n",
       "      <td>1195.3</td>\n",
       "      <td>1021558</td>\n",
       "    </tr>\n",
       "    <tr>\n",
       "      <th>2014</th>\n",
       "      <td>2014</td>\n",
       "      <td>74.59</td>\n",
       "      <td>35.71</td>\n",
       "      <td>15.97</td>\n",
       "      <td>7.02</td>\n",
       "      <td>2.77</td>\n",
       "      <td>6.04</td>\n",
       "      <td>10.93</td>\n",
       "      <td>50.629</td>\n",
       "      <td>32.966</td>\n",
       "      <td>71.308</td>\n",
       "      <td>489.9</td>\n",
       "      <td>527.4</td>\n",
       "      <td>1017.3</td>\n",
       "      <td>10.9</td>\n",
       "      <td>58.7</td>\n",
       "      <td>64.0</td>\n",
       "      <td>1245.7</td>\n",
       "      <td>1144258</td>\n",
       "    </tr>\n",
       "    <tr>\n",
       "      <th>2013</th>\n",
       "      <td>2013</td>\n",
       "      <td>73.43</td>\n",
       "      <td>35.02</td>\n",
       "      <td>15.44</td>\n",
       "      <td>6.86</td>\n",
       "      <td>2.85</td>\n",
       "      <td>6.25</td>\n",
       "      <td>10.94</td>\n",
       "      <td>49.981</td>\n",
       "      <td>34.573</td>\n",
       "      <td>71.693</td>\n",
       "      <td>456.5</td>\n",
       "      <td>582.7</td>\n",
       "      <td>1039.2</td>\n",
       "      <td>7.0</td>\n",
       "      <td>86.5</td>\n",
       "      <td>94.8</td>\n",
       "      <td>1160.8</td>\n",
       "      <td>1295125</td>\n",
       "    </tr>\n",
       "    <tr>\n",
       "      <th>2012</th>\n",
       "      <td>2012</td>\n",
       "      <td>73.43</td>\n",
       "      <td>34.46</td>\n",
       "      <td>15.49</td>\n",
       "      <td>7.45</td>\n",
       "      <td>2.70</td>\n",
       "      <td>5.95</td>\n",
       "      <td>11.84</td>\n",
       "      <td>51.183</td>\n",
       "      <td>33.256</td>\n",
       "      <td>72.855</td>\n",
       "      <td>443.3</td>\n",
       "      <td>591.3</td>\n",
       "      <td>1034.6</td>\n",
       "      <td>10.1</td>\n",
       "      <td>73.6</td>\n",
       "      <td>79.1</td>\n",
       "      <td>1095.8</td>\n",
       "      <td>1197878</td>\n",
       "    </tr>\n",
       "    <tr>\n",
       "      <th>2011</th>\n",
       "      <td>2011</td>\n",
       "      <td>76.73</td>\n",
       "      <td>33.22</td>\n",
       "      <td>16.17</td>\n",
       "      <td>7.26</td>\n",
       "      <td>3.15</td>\n",
       "      <td>5.70</td>\n",
       "      <td>11.97</td>\n",
       "      <td>53.773</td>\n",
       "      <td>33.284</td>\n",
       "      <td>74.025</td>\n",
       "      <td>465.2</td>\n",
       "      <td>565.7</td>\n",
       "      <td>1030.9</td>\n",
       "      <td>12.0</td>\n",
       "      <td>90.9</td>\n",
       "      <td>98.1</td>\n",
       "      <td>969.0</td>\n",
       "      <td>1317228</td>\n",
       "    </tr>\n",
       "    <tr>\n",
       "      <th>2010</th>\n",
       "      <td>2010</td>\n",
       "      <td>77.79</td>\n",
       "      <td>32.47</td>\n",
       "      <td>14.98</td>\n",
       "      <td>6.43</td>\n",
       "      <td>2.91</td>\n",
       "      <td>6.15</td>\n",
       "      <td>11.53</td>\n",
       "      <td>54.114</td>\n",
       "      <td>35.585</td>\n",
       "      <td>72.734</td>\n",
       "      <td>547.5</td>\n",
       "      <td>618.4</td>\n",
       "      <td>1165.9</td>\n",
       "      <td>14.5</td>\n",
       "      <td>85.8</td>\n",
       "      <td>94.2</td>\n",
       "      <td>1194.7</td>\n",
       "      <td>1135375</td>\n",
       "    </tr>\n",
       "    <tr>\n",
       "      <th>2009</th>\n",
       "      <td>2009</td>\n",
       "      <td>78.73</td>\n",
       "      <td>32.35</td>\n",
       "      <td>16.48</td>\n",
       "      <td>6.82</td>\n",
       "      <td>2.77</td>\n",
       "      <td>6.14</td>\n",
       "      <td>12.53</td>\n",
       "      <td>54.985</td>\n",
       "      <td>34.760</td>\n",
       "      <td>73.221</td>\n",
       "      <td>532.1</td>\n",
       "      <td>607.5</td>\n",
       "      <td>1139.6</td>\n",
       "      <td>16.1</td>\n",
       "      <td>79.2</td>\n",
       "      <td>84.4</td>\n",
       "      <td>1190.3</td>\n",
       "      <td>1119546</td>\n",
       "    </tr>\n",
       "    <tr>\n",
       "      <th>2008</th>\n",
       "      <td>2008</td>\n",
       "      <td>82.37</td>\n",
       "      <td>33.30</td>\n",
       "      <td>16.36</td>\n",
       "      <td>6.97</td>\n",
       "      <td>3.36</td>\n",
       "      <td>6.91</td>\n",
       "      <td>12.52</td>\n",
       "      <td>55.765</td>\n",
       "      <td>36.011</td>\n",
       "      <td>72.270</td>\n",
       "      <td>564.0</td>\n",
       "      <td>617.9</td>\n",
       "      <td>1181.9</td>\n",
       "      <td>16.3</td>\n",
       "      <td>115.8</td>\n",
       "      <td>127.2</td>\n",
       "      <td>1081.5</td>\n",
       "      <td>1221636</td>\n",
       "    </tr>\n",
       "    <tr>\n",
       "      <th>2007</th>\n",
       "      <td>2007</td>\n",
       "      <td>81.73</td>\n",
       "      <td>33.61</td>\n",
       "      <td>16.93</td>\n",
       "      <td>7.05</td>\n",
       "      <td>3.03</td>\n",
       "      <td>7.17</td>\n",
       "      <td>12.32</td>\n",
       "      <td>54.458</td>\n",
       "      <td>35.917</td>\n",
       "      <td>74.747</td>\n",
       "      <td>569.2</td>\n",
       "      <td>582.7</td>\n",
       "      <td>1151.9</td>\n",
       "      <td>17.0</td>\n",
       "      <td>87.3</td>\n",
       "      <td>95.0</td>\n",
       "      <td>1135.0</td>\n",
       "      <td>1147969</td>\n",
       "    </tr>\n",
       "    <tr>\n",
       "      <th>2006</th>\n",
       "      <td>2006</td>\n",
       "      <td>82.04</td>\n",
       "      <td>34.00</td>\n",
       "      <td>17.66</td>\n",
       "      <td>7.40</td>\n",
       "      <td>2.96</td>\n",
       "      <td>7.75</td>\n",
       "      <td>12.94</td>\n",
       "      <td>54.374</td>\n",
       "      <td>35.993</td>\n",
       "      <td>74.831</td>\n",
       "      <td>542.6</td>\n",
       "      <td>601.7</td>\n",
       "      <td>1144.3</td>\n",
       "      <td>14.3</td>\n",
       "      <td>92.2</td>\n",
       "      <td>101.0</td>\n",
       "      <td>1034.1</td>\n",
       "      <td>1149911</td>\n",
       "    </tr>\n",
       "    <tr>\n",
       "      <th>2005</th>\n",
       "      <td>2005</td>\n",
       "      <td>84.58</td>\n",
       "      <td>35.20</td>\n",
       "      <td>18.65</td>\n",
       "      <td>7.20</td>\n",
       "      <td>3.02</td>\n",
       "      <td>7.76</td>\n",
       "      <td>12.17</td>\n",
       "      <td>55.345</td>\n",
       "      <td>35.926</td>\n",
       "      <td>73.716</td>\n",
       "      <td>504.0</td>\n",
       "      <td>603.0</td>\n",
       "      <td>1107.0</td>\n",
       "      <td>18.7</td>\n",
       "      <td>132.1</td>\n",
       "      <td>143.8</td>\n",
       "      <td>599.6</td>\n",
       "      <td>1085448</td>\n",
       "    </tr>\n",
       "    <tr>\n",
       "      <th>2004</th>\n",
       "      <td>2004</td>\n",
       "      <td>84.94</td>\n",
       "      <td>36.34</td>\n",
       "      <td>19.08</td>\n",
       "      <td>7.57</td>\n",
       "      <td>3.01</td>\n",
       "      <td>8.16</td>\n",
       "      <td>12.56</td>\n",
       "      <td>54.838</td>\n",
       "      <td>35.196</td>\n",
       "      <td>74.586</td>\n",
       "      <td>489.5</td>\n",
       "      <td>589.8</td>\n",
       "      <td>1079.3</td>\n",
       "      <td>20.3</td>\n",
       "      <td>103.1</td>\n",
       "      <td>113.6</td>\n",
       "      <td>584.7</td>\n",
       "      <td>1095262</td>\n",
       "    </tr>\n",
       "    <tr>\n",
       "      <th>2003</th>\n",
       "      <td>2003</td>\n",
       "      <td>85.32</td>\n",
       "      <td>35.55</td>\n",
       "      <td>18.81</td>\n",
       "      <td>7.56</td>\n",
       "      <td>3.29</td>\n",
       "      <td>7.60</td>\n",
       "      <td>12.94</td>\n",
       "      <td>55.320</td>\n",
       "      <td>35.389</td>\n",
       "      <td>73.490</td>\n",
       "      <td>510.4</td>\n",
       "      <td>542.4</td>\n",
       "      <td>1052.8</td>\n",
       "      <td>17.7</td>\n",
       "      <td>78.4</td>\n",
       "      <td>85.4</td>\n",
       "      <td>664.3</td>\n",
       "      <td>1033448</td>\n",
       "    </tr>\n",
       "    <tr>\n",
       "      <th>2002</th>\n",
       "      <td>2002</td>\n",
       "      <td>83.93</td>\n",
       "      <td>35.83</td>\n",
       "      <td>17.83</td>\n",
       "      <td>7.64</td>\n",
       "      <td>3.88</td>\n",
       "      <td>7.27</td>\n",
       "      <td>12.55</td>\n",
       "      <td>54.352</td>\n",
       "      <td>35.245</td>\n",
       "      <td>73.368</td>\n",
       "      <td>470.6</td>\n",
       "      <td>525.9</td>\n",
       "      <td>996.5</td>\n",
       "      <td>19.8</td>\n",
       "      <td>76.4</td>\n",
       "      <td>82.9</td>\n",
       "      <td>628.7</td>\n",
       "      <td>1025136</td>\n",
       "    </tr>\n",
       "    <tr>\n",
       "      <th>2001</th>\n",
       "      <td>2001</td>\n",
       "      <td>85.45</td>\n",
       "      <td>36.09</td>\n",
       "      <td>17.87</td>\n",
       "      <td>7.40</td>\n",
       "      <td>3.82</td>\n",
       "      <td>7.12</td>\n",
       "      <td>12.40</td>\n",
       "      <td>55.092</td>\n",
       "      <td>34.867</td>\n",
       "      <td>71.630</td>\n",
       "      <td>472.2</td>\n",
       "      <td>543.0</td>\n",
       "      <td>1015.2</td>\n",
       "      <td>19.1</td>\n",
       "      <td>65.3</td>\n",
       "      <td>71.1</td>\n",
       "      <td>513.0</td>\n",
       "      <td>1088760</td>\n",
       "    </tr>\n",
       "  </tbody>\n",
       "</table>\n",
       "</div>"
      ],
      "text/plain": [
       "        시즌     득점   리바운드   어시스트    스틸    블록  3점슛성공    턴오버  2점슛 성공률(%)  \\\n",
       "시즌                                                                      \n",
       "2017  2017  84.14  38.04  18.40  6.86  2.85   7.13  10.79      53.417   \n",
       "2016  2016  79.15  37.33  18.19  7.39  2.90   6.48  11.80      51.280   \n",
       "2015  2015  78.81  35.17  16.95  6.95  2.54   6.79  11.63      52.803   \n",
       "2014  2014  74.59  35.71  15.97  7.02  2.77   6.04  10.93      50.629   \n",
       "2013  2013  73.43  35.02  15.44  6.86  2.85   6.25  10.94      49.981   \n",
       "2012  2012  73.43  34.46  15.49  7.45  2.70   5.95  11.84      51.183   \n",
       "2011  2011  76.73  33.22  16.17  7.26  3.15   5.70  11.97      53.773   \n",
       "2010  2010  77.79  32.47  14.98  6.43  2.91   6.15  11.53      54.114   \n",
       "2009  2009  78.73  32.35  16.48  6.82  2.77   6.14  12.53      54.985   \n",
       "2008  2008  82.37  33.30  16.36  6.97  3.36   6.91  12.52      55.765   \n",
       "2007  2007  81.73  33.61  16.93  7.05  3.03   7.17  12.32      54.458   \n",
       "2006  2006  82.04  34.00  17.66  7.40  2.96   7.75  12.94      54.374   \n",
       "2005  2005  84.58  35.20  18.65  7.20  3.02   7.76  12.17      55.345   \n",
       "2004  2004  84.94  36.34  19.08  7.57  3.01   8.16  12.56      54.838   \n",
       "2003  2003  85.32  35.55  18.81  7.56  3.29   7.60  12.94      55.320   \n",
       "2002  2002  83.93  35.83  17.83  7.64  3.88   7.27  12.55      54.352   \n",
       "2001  2001  85.45  36.09  17.87  7.40  3.82   7.12  12.40      55.092   \n",
       "\n",
       "      3점슛 성공률(%)  자유투 성공률(%)   w/FT  w/oFT    Tot.    TF     DK    DKA  \\\n",
       "시즌                                                                       \n",
       "2017      33.499      70.851  529.9  510.4  1040.3   9.3  100.6  110.7   \n",
       "2016      33.210      71.899  466.6  511.5   978.1   9.7   77.7   85.3   \n",
       "2015      34.507      72.620  502.6  501.4  1004.0  12.9   76.8   81.2   \n",
       "2014      32.966      71.308  489.9  527.4  1017.3  10.9   58.7   64.0   \n",
       "2013      34.573      71.693  456.5  582.7  1039.2   7.0   86.5   94.8   \n",
       "2012      33.256      72.855  443.3  591.3  1034.6  10.1   73.6   79.1   \n",
       "2011      33.284      74.025  465.2  565.7  1030.9  12.0   90.9   98.1   \n",
       "2010      35.585      72.734  547.5  618.4  1165.9  14.5   85.8   94.2   \n",
       "2009      34.760      73.221  532.1  607.5  1139.6  16.1   79.2   84.4   \n",
       "2008      36.011      72.270  564.0  617.9  1181.9  16.3  115.8  127.2   \n",
       "2007      35.917      74.747  569.2  582.7  1151.9  17.0   87.3   95.0   \n",
       "2006      35.993      74.831  542.6  601.7  1144.3  14.3   92.2  101.0   \n",
       "2005      35.926      73.716  504.0  603.0  1107.0  18.7  132.1  143.8   \n",
       "2004      35.196      74.586  489.5  589.8  1079.3  20.3  103.1  113.6   \n",
       "2003      35.389      73.490  510.4  542.4  1052.8  17.7   78.4   85.4   \n",
       "2002      35.245      73.368  470.6  525.9   996.5  19.8   76.4   82.9   \n",
       "2001      34.867      71.630  472.2  543.0  1015.2  19.1   65.3   71.1   \n",
       "\n",
       "          교체     관중 수  \n",
       "시즌                     \n",
       "2017  1098.2   754920  \n",
       "2016  1097.5   915626  \n",
       "2015  1195.3  1021558  \n",
       "2014  1245.7  1144258  \n",
       "2013  1160.8  1295125  \n",
       "2012  1095.8  1197878  \n",
       "2011   969.0  1317228  \n",
       "2010  1194.7  1135375  \n",
       "2009  1190.3  1119546  \n",
       "2008  1081.5  1221636  \n",
       "2007  1135.0  1147969  \n",
       "2006  1034.1  1149911  \n",
       "2005   599.6  1085448  \n",
       "2004   584.7  1095262  \n",
       "2003   664.3  1033448  \n",
       "2002   628.7  1025136  \n",
       "2001   513.0  1088760  "
      ]
     },
     "execution_count": 10,
     "metadata": {},
     "output_type": "execute_result"
    }
   ],
   "source": [
    "kbl_seasonal_aver"
   ]
  },
  {
   "cell_type": "markdown",
   "metadata": {},
   "source": [
    "##### 기술통계에 사용할 내용 중 시즌은 제외하는 것으로 한다"
   ]
  },
  {
   "cell_type": "code",
   "execution_count": 11,
   "metadata": {},
   "outputs": [
    {
     "data": {
      "text/plain": [
       "['득점',\n",
       " '리바운드',\n",
       " '어시스트',\n",
       " '스틸',\n",
       " '블록',\n",
       " '3점슛성공',\n",
       " '턴오버',\n",
       " '2점슛 성공률(%)',\n",
       " '3점슛 성공률(%)',\n",
       " '자유투 성공률(%)',\n",
       " 'w/FT',\n",
       " 'w/oFT',\n",
       " 'Tot.',\n",
       " 'TF',\n",
       " 'DK',\n",
       " 'DKA',\n",
       " '교체',\n",
       " '관중 수']"
      ]
     },
     "execution_count": 11,
     "metadata": {},
     "output_type": "execute_result"
    }
   ],
   "source": [
    "kbl_seasonal_aver_keys = list(kbl_seasonal_aver.keys())\n",
    "kbl_seasonal_aver_keys.remove('시즌')\n",
    "kbl_seasonal_aver_keys"
   ]
  },
  {
   "cell_type": "markdown",
   "metadata": {},
   "source": [
    "##### 각 부분별 기술통계를 실시한다"
   ]
  },
  {
   "cell_type": "code",
   "execution_count": 12,
   "metadata": {},
   "outputs": [
    {
     "data": {
      "image/png": "[encoded data removed]",
      "text/plain": [
       "<matplotlib.figure.Figure at 0xb1e1450>"
      ]
     },
     "metadata": {},
     "output_type": "display_data"
    }
   ],
   "source": [
    "plt.figure()\n",
    "kbl_seasonal_aver.sort_values('시즌')['득점'].plot(kind='bar', label = '득점',figsize=(10,5))\n",
    "plt.grid() # 그리드 적용하기\n",
    "plt.xlabel('시즌')       # x축 라벨 적용하기\n",
    "plt.ylabel('득점')  # y축 라벨 적용하기\n",
    "plt.title('시즌별 득점') # 타이틀\n",
    "plt.show()"
   ]
  },
  {
   "cell_type": "code",
   "execution_count": 48,
   "metadata": {},
   "outputs": [
    {
     "data": {
      "image/png": "[encoded data removed]",
      "text/plain": [
       "<matplotlib.figure.Figure at 0xe410530>"
      ]
     },
     "metadata": {},
     "output_type": "display_data"
    }
   ],
   "source": [
    "plt.figure()\n",
    "kbl_seasonal_aver.sort_values('시즌')['관중 수'].plot(kind='bar', label = '관중',figsize=(10,5))\n",
    "plt.grid() # 그리드 적용하기\n",
    "plt.xlabel('시즌')       # x축 라벨 적용하기\n",
    "plt.ylabel('관중')  # y축 라벨 적용하기\n",
    "plt.title('시즌별 관중') # 타이틀\n",
    "plt.show()"
   ]
  },
  {
   "cell_type": "markdown",
   "metadata": {},
   "source": [
    "##### 이상을 함수로 만들어 모든 변수에 대한 시계열 통계를 해본다"
   ]
  },
  {
   "cell_type": "code",
   "execution_count": 13,
   "metadata": {},
   "outputs": [],
   "source": [
    "def sh_fig(x_i):\n",
    "    plt.figure()\n",
    "    kbl_seasonal_aver.sort_values('시즌')[x_i].plot(kind='bar', label = x_i,figsize=(5,5))\n",
    "    plt.grid() # 그리드 적용하기\n",
    "    plt.xlabel('시즌')       # x축 라벨 적용하기\n",
    "    plt.ylabel(x_i)  # y축 라벨 적용하기\n",
    "    plt.title(x_i) # 타이틀\n",
    "    plt.show()\n",
    "    "
   ]
  },
  {
   "cell_type": "code",
   "execution_count": 14,
   "metadata": {},
   "outputs": [
    {
     "data": {
      "image/png": "[encoded data removed]",
      "text/plain": [
       "<matplotlib.figure.Figure at 0xb285210>"
      ]
     },
     "metadata": {},
     "output_type": "display_data"
    },
    {
     "data": {
      "image/png": "[encoded data removed]",
      "text/plain": [
       "<matplotlib.figure.Figure at 0xb378d90>"
      ]
     },
     "metadata": {},
     "output_type": "display_data"
    },
    {
     "data": {
      "image/png": "[encoded data removed]",
      "text/plain": [
       "<matplotlib.figure.Figure at 0xb3ce170>"
      ]
     },
     "metadata": {},
     "output_type": "display_data"
    },
    {
     "data": {
      "image/png": "[encoded data removed]",
      "text/plain": [
       "<matplotlib.figure.Figure at 0xb4792d0>"
      ]
     },
     "metadata": {},
     "output_type": "display_data"
    },
    {
     "data": {
      "image/png": "[encoded data removed]",
      "text/plain": [
       "<matplotlib.figure.Figure at 0xb41f370>"
      ]
     },
     "metadata": {},
     "output_type": "display_data"
    },
    {
     "data": {
      "image/png": "[encoded data removed]",
      "text/plain": [
       "<matplotlib.figure.Figure at 0xc693bd0>"
      ]
     },
     "metadata": {},
     "output_type": "display_data"
    },
    {
     "data": {
      "image/png": "[encoded data removed]",
      "text/plain": [
       "<matplotlib.figure.Figure at 0xb4a71b0>"
      ]
     },
     "metadata": {},
     "output_type": "display_data"
    },
    {
     "data": {
      "image/png": "[encoded data removed]",
      "text/plain": [
       "<matplotlib.figure.Figure at 0xb45cd90>"
      ]
     },
     "metadata": {},
     "output_type": "display_data"
    },
    {
     "data": {
      "image/png": "[encoded data removed]",
      "text/plain": [
       "<matplotlib.figure.Figure at 0xb0d0570>"
      ]
     },
     "metadata": {},
     "output_type": "display_data"
    },
    {
     "data": {
      "image/png": "[encoded data removed]",
      "text/plain": [
       "<matplotlib.figure.Figure at 0xb49b250>"
      ]
     },
     "metadata": {},
     "output_type": "display_data"
    },
    {
     "data": {
      "image/png": "[encoded data removed]",
      "text/plain": [
       "<matplotlib.figure.Figure at 0xb3d4430>"
      ]
     },
     "metadata": {},
     "output_type": "display_data"
    },
    {
     "data": {
      "image/png": "[encoded data removed]",
      "text/plain": [
       "<matplotlib.figure.Figure at 0xb325030>"
      ]
     },
     "metadata": {},
     "output_type": "display_data"
    },
    {
     "data": {
      "image/png": "[encoded data removed]",
      "text/plain": [
       "<matplotlib.figure.Figure at 0xb1819f0>"
      ]
     },
     "metadata": {},
     "output_type": "display_data"
    },
    {
     "data": {
      "image/png": "[encoded data removed]",
      "text/plain": [
       "<matplotlib.figure.Figure at 0xb266330>"
      ]
     },
     "metadata": {},
     "output_type": "display_data"
    },
    {
     "data": {
      "image/png": "[encoded data removed]",
      "text/plain": [
       "<matplotlib.figure.Figure at 0xb2df9d0>"
      ]
     },
     "metadata": {},
     "output_type": "display_data"
    },
    {
     "data": {
      "image/png": "[encoded data removed]",
      "text/plain": [
       "<matplotlib.figure.Figure at 0xb47d9d0>"
      ]
     },
     "metadata": {},
     "output_type": "display_data"
    },
    {
     "data": {
      "image/png": "[encoded data removed]",
      "text/plain": [
       "<matplotlib.figure.Figure at 0xc6237b0>"
      ]
     },
     "metadata": {},
     "output_type": "display_data"
    },
    {
     "data": {
      "image/png": "[encoded data removed]",
      "text/plain": [
       "<matplotlib.figure.Figure at 0xb4456d0>"
      ]
     },
     "metadata": {},
     "output_type": "display_data"
    }
   ],
   "source": [
    "for x_i in kbl_seasonal_aver_keys:\n",
    "    sh_fig(x_i)"
   ]
  },
  {
   "cell_type": "markdown",
   "metadata": {},
   "source": [
    "##### 시즌별 각 구단의 데이터 110개로 회귀분석을 실행한다"
   ]
  },
  {
   "cell_type": "markdown",
   "metadata": {},
   "source": [
    "##### 회귀분석을 위한 사전준비"
   ]
  },
  {
   "cell_type": "code",
   "execution_count": 15,
   "metadata": {},
   "outputs": [],
   "source": [
    "import matplotlib.pyplot as plt\n",
    "import matplotlib\n",
    "%matplotlib inline\n",
    "\n",
    "# 폰트 문제 해결하기\n",
    "import platform\n",
    "\n",
    "path = \"c:/Windows/Fonts/malgun.ttf\"\n",
    "from matplotlib import font_manager, rc\n",
    "if platform.system() == 'Darwin':\n",
    "    rc('font', family='AppleGothic')\n",
    "elif platform.system() == 'Windows':\n",
    "    font_name = font_manager.FontProperties(fname=path).get_name()\n",
    "    rc('font', family=font_name)\n",
    "else:\n",
    "    print('Unknown system... sorry~~~~') "
   ]
  },
  {
   "cell_type": "markdown",
   "metadata": {},
   "source": [
    "##### 일부 모듈이 추후에 변경된다는 경고가 뜬다.\n",
    "##### 당장의 실행에 지장 없음"
   ]
  },
  {
   "cell_type": "code",
   "execution_count": 16,
   "metadata": {},
   "outputs": [
    {
     "name": "stderr",
     "output_type": "stream",
     "text": [
      "C:\\Users\\SungKyu\\Anaconda3\\lib\\site-packages\\statsmodels\\compat\\pandas.py:56: FutureWarning: The pandas.core.datetools module is deprecated and will be removed in a future version. Please use the pandas.tseries module instead.\n",
      "  from pandas.core import datetools\n"
     ]
    }
   ],
   "source": [
    "import statsmodels.api as sm\n",
    "import statsmodels.formula.api as smf\n",
    "import statsmodels.stats.api as sms\n",
    "#model = OLS(y, X)"
   ]
  },
  {
   "cell_type": "code",
   "execution_count": 17,
   "metadata": {},
   "outputs": [],
   "source": [
    "# 상수항이 없으면 flase\n",
    "fit_intercept = True"
   ]
  },
  {
   "cell_type": "code",
   "execution_count": 18,
   "metadata": {},
   "outputs": [
    {
     "data": {
      "text/html": [
       "<div>\n",
       "<style>\n",
       "    .dataframe thead tr:only-child th {\n",
       "        text-align: right;\n",
       "    }\n",
       "\n",
       "    .dataframe thead th {\n",
       "        text-align: left;\n",
       "    }\n",
       "\n",
       "    .dataframe tbody tr th {\n",
       "        vertical-align: top;\n",
       "    }\n",
       "</style>\n",
       "<table border=\"1\" class=\"dataframe\">\n",
       "  <thead>\n",
       "    <tr style=\"text-align: right;\">\n",
       "      <th></th>\n",
       "      <th>턴오버</th>\n",
       "      <th>관중 수</th>\n",
       "    </tr>\n",
       "  </thead>\n",
       "  <tbody>\n",
       "    <tr>\n",
       "      <th>0</th>\n",
       "      <td>11.7</td>\n",
       "      <td>146295</td>\n",
       "    </tr>\n",
       "    <tr>\n",
       "      <th>1</th>\n",
       "      <td>13.0</td>\n",
       "      <td>114866</td>\n",
       "    </tr>\n",
       "    <tr>\n",
       "      <th>2</th>\n",
       "      <td>12.8</td>\n",
       "      <td>107545</td>\n",
       "    </tr>\n",
       "    <tr>\n",
       "      <th>3</th>\n",
       "      <td>11.6</td>\n",
       "      <td>142592</td>\n",
       "    </tr>\n",
       "    <tr>\n",
       "      <th>4</th>\n",
       "      <td>12.1</td>\n",
       "      <td>69351</td>\n",
       "    </tr>\n",
       "  </tbody>\n",
       "</table>\n",
       "</div>"
      ],
      "text/plain": [
       "    턴오버    관중 수\n",
       "0  11.7  146295\n",
       "1  13.0  114866\n",
       "2  12.8  107545\n",
       "3  11.6  142592\n",
       "4  12.1   69351"
      ]
     },
     "execution_count": 18,
     "metadata": {},
     "output_type": "execute_result"
    }
   ],
   "source": [
    "# 독립변수\n",
    "X = kbl_base['턴오버']\n",
    "# 종속변수\n",
    "Y = kbl_base['관중 수']\n",
    "\n",
    "# 데이터 횡으로 합치기(concat)\n",
    "df = pd.concat([X, Y], axis=1)\n",
    "df.head()"
   ]
  },
  {
   "cell_type": "code",
   "execution_count": 19,
   "metadata": {},
   "outputs": [
    {
     "data": {
      "text/plain": [
       "0    11.7\n",
       "1    13.0\n",
       "2    12.8\n",
       "3    11.6\n",
       "4    12.1\n",
       "Name: 턴오버, dtype: float64"
      ]
     },
     "execution_count": 19,
     "metadata": {},
     "output_type": "execute_result"
    }
   ],
   "source": [
    "# 종속변수\n",
    "X.head()"
   ]
  },
  {
   "cell_type": "code",
   "execution_count": 20,
   "metadata": {},
   "outputs": [
    {
     "data": {
      "text/plain": [
       "0    146295\n",
       "1    114866\n",
       "2    107545\n",
       "3    142592\n",
       "4     69351\n",
       "Name: 관중 수, dtype: int64"
      ]
     },
     "execution_count": 20,
     "metadata": {},
     "output_type": "execute_result"
    }
   ],
   "source": [
    "# 독립변수\n",
    "Y.head()"
   ]
  },
  {
   "cell_type": "code",
   "execution_count": 21,
   "metadata": {},
   "outputs": [],
   "source": [
    "# 데이터 준비\n",
    "dfX0 = kbl_base['득점'] # 독립변수\n",
    "dfX = sm.add_constant(dfX0) # 자동으로 상수항을 만들어주지 않기 때문에 사용자가 add_constant 명령으로 상수항을 추가해야 한다.\n",
    "dfy = kbl_base['관중 수'] # 종속변수"
   ]
  },
  {
   "cell_type": "code",
   "execution_count": 22,
   "metadata": {},
   "outputs": [
    {
     "name": "stdout",
     "output_type": "stream",
     "text": [
      "                  Results: Ordinary least squares\n",
      "===================================================================\n",
      "Model:              OLS              Adj. R-squared:     0.006     \n",
      "Dependent Variable: 관중 수             AIC:                3785.9657 \n",
      "Date:               2018-06-13 11:25 BIC:                3792.1160 \n",
      "No. Observations:   160              Log-Likelihood:     -1891.0   \n",
      "Df Model:           1                F-statistic:        1.936     \n",
      "Df Residuals:       158              Prob (F-statistic): 0.166     \n",
      "R-squared:          0.012            Scale:              1.0928e+09\n",
      "-------------------------------------------------------------------\n",
      "          Coef.     Std.Err.    t    P>|t|     [0.025      0.975]  \n",
      "-------------------------------------------------------------------\n",
      "const   54352.9269 41850.1273 1.2988 0.1959 -28304.9278 137010.7817\n",
      "득점        724.6727   520.8767 1.3913 0.1661   -304.1067   1753.4521\n",
      "-------------------------------------------------------------------\n",
      "Omnibus:               10.162        Durbin-Watson:           1.939\n",
      "Prob(Omnibus):         0.006         Jarque-Bera (JB):        5.085\n",
      "Skew:                  0.213         Prob(JB):                0.079\n",
      "Kurtosis:              2.238         Condition No.:           1287 \n",
      "===================================================================\n",
      "* The condition number is large (1e+03). This might indicate\n",
      "strong multicollinearity or other numerical problems.\n"
     ]
    }
   ],
   "source": [
    "# model_boston2라는 이름으로 OLS 모델 구조화\n",
    "model_kbl = sm.OLS(dfy, dfX) # (종속변수, 독립변수)\n",
    "\n",
    "# OLS 회귀모형 피팅\n",
    "result_kbl = model_kbl.fit()\n",
    "\n",
    "# 회귀분석 결과 요약\n",
    "print(result_kbl.summary2())"
   ]
  },
  {
   "cell_type": "markdown",
   "metadata": {},
   "source": [
    "##### 이상의 과정을 함수로 만든다.\n",
    "##### 이 때 t 값을 모아서 볼 수 있도록 한다."
   ]
  },
  {
   "cell_type": "code",
   "execution_count": 23,
   "metadata": {},
   "outputs": [],
   "source": [
    "def reg_t(x_i, y_i):\n",
    "    dfX0 = x_i\n",
    "    dfX = sm.add_constant(dfX0)\n",
    "    dfy = y_i\n",
    "    model_kbl = sm.OLS(dfy, dfX)\n",
    "    result_kbl = model_kbl.fit()\n",
    "    return result_kbl.tvalues"
   ]
  },
  {
   "cell_type": "markdown",
   "metadata": {},
   "source": [
    "#### 팀 이름, 확률값 등은 분석에서 제외한다"
   ]
  },
  {
   "cell_type": "code",
   "execution_count": 24,
   "metadata": {},
   "outputs": [],
   "source": [
    "xs = list(kbl_base.keys())\n",
    "xs.remove('팀')\n",
    "xs.remove('시즌')\n",
    "xs.remove('관중 수')\n",
    "xs.remove('2점슛 성공률 (%)')\n",
    "xs.remove('3점슛 성공률 (%)')\n",
    "xs.remove('자유투 성공률 (%)')"
   ]
  },
  {
   "cell_type": "code",
   "execution_count": 25,
   "metadata": {},
   "outputs": [],
   "source": [
    "result_t = {'변수':[],'const_t':[],'변수_t':[]}\n",
    "for x_i in xs:\n",
    "    result_t['변수'].append(x_i)\n",
    "    result_t['const_t'].append(reg_t(kbl_base[x_i], kbl_base['관중 수'])[0])\n",
    "    result_t['변수_t'].append(reg_t(kbl_base[x_i], kbl_base['관중 수'])[1])"
   ]
  },
  {
   "cell_type": "code",
   "execution_count": 26,
   "metadata": {},
   "outputs": [
    {
     "data": {
      "text/html": [
       "<div>\n",
       "<style>\n",
       "    .dataframe thead tr:only-child th {\n",
       "        text-align: right;\n",
       "    }\n",
       "\n",
       "    .dataframe thead th {\n",
       "        text-align: left;\n",
       "    }\n",
       "\n",
       "    .dataframe tbody tr th {\n",
       "        vertical-align: top;\n",
       "    }\n",
       "</style>\n",
       "<table border=\"1\" class=\"dataframe\">\n",
       "  <thead>\n",
       "    <tr style=\"text-align: right;\">\n",
       "      <th></th>\n",
       "      <th>변수</th>\n",
       "      <th>const_t</th>\n",
       "      <th>변수_t</th>\n",
       "    </tr>\n",
       "  </thead>\n",
       "  <tbody>\n",
       "    <tr>\n",
       "      <th>13</th>\n",
       "      <td>교체</td>\n",
       "      <td>10.543194</td>\n",
       "      <td>2.877581</td>\n",
       "    </tr>\n",
       "    <tr>\n",
       "      <th>8</th>\n",
       "      <td>w/oFT</td>\n",
       "      <td>1.177075</td>\n",
       "      <td>2.478839</td>\n",
       "    </tr>\n",
       "    <tr>\n",
       "      <th>11</th>\n",
       "      <td>DK</td>\n",
       "      <td>16.259983</td>\n",
       "      <td>1.578204</td>\n",
       "    </tr>\n",
       "    <tr>\n",
       "      <th>12</th>\n",
       "      <td>DKA</td>\n",
       "      <td>16.022110</td>\n",
       "      <td>1.522231</td>\n",
       "    </tr>\n",
       "    <tr>\n",
       "      <th>0</th>\n",
       "      <td>득점</td>\n",
       "      <td>1.298752</td>\n",
       "      <td>1.391256</td>\n",
       "    </tr>\n",
       "    <tr>\n",
       "      <th>9</th>\n",
       "      <td>Tot.</td>\n",
       "      <td>2.855684</td>\n",
       "      <td>0.925956</td>\n",
       "    </tr>\n",
       "    <tr>\n",
       "      <th>1</th>\n",
       "      <td>리바운드</td>\n",
       "      <td>1.872930</td>\n",
       "      <td>0.804824</td>\n",
       "    </tr>\n",
       "    <tr>\n",
       "      <th>10</th>\n",
       "      <td>TF</td>\n",
       "      <td>17.866698</td>\n",
       "      <td>0.744620</td>\n",
       "    </tr>\n",
       "    <tr>\n",
       "      <th>4</th>\n",
       "      <td>블록</td>\n",
       "      <td>10.201504</td>\n",
       "      <td>-0.014341</td>\n",
       "    </tr>\n",
       "    <tr>\n",
       "      <th>5</th>\n",
       "      <td>3점슛성공</td>\n",
       "      <td>7.180195</td>\n",
       "      <td>-0.189952</td>\n",
       "    </tr>\n",
       "    <tr>\n",
       "      <th>2</th>\n",
       "      <td>어시스트</td>\n",
       "      <td>4.825385</td>\n",
       "      <td>-0.369403</td>\n",
       "    </tr>\n",
       "    <tr>\n",
       "      <th>3</th>\n",
       "      <td>스틸</td>\n",
       "      <td>5.131895</td>\n",
       "      <td>-0.393850</td>\n",
       "    </tr>\n",
       "    <tr>\n",
       "      <th>7</th>\n",
       "      <td>w/FT</td>\n",
       "      <td>6.201066</td>\n",
       "      <td>-0.421244</td>\n",
       "    </tr>\n",
       "    <tr>\n",
       "      <th>6</th>\n",
       "      <td>턴오버</td>\n",
       "      <td>4.299209</td>\n",
       "      <td>-0.487399</td>\n",
       "    </tr>\n",
       "    <tr>\n",
       "      <th>14</th>\n",
       "      <td>팀 순위</td>\n",
       "      <td>27.550476</td>\n",
       "      <td>-6.185787</td>\n",
       "    </tr>\n",
       "  </tbody>\n",
       "</table>\n",
       "</div>"
      ],
      "text/plain": [
       "       변수    const_t      변수_t\n",
       "13     교체  10.543194  2.877581\n",
       "8   w/oFT   1.177075  2.478839\n",
       "11     DK  16.259983  1.578204\n",
       "12    DKA  16.022110  1.522231\n",
       "0      득점   1.298752  1.391256\n",
       "9    Tot.   2.855684  0.925956\n",
       "1    리바운드   1.872930  0.804824\n",
       "10     TF  17.866698  0.744620\n",
       "4      블록  10.201504 -0.014341\n",
       "5   3점슛성공   7.180195 -0.189952\n",
       "2    어시스트   4.825385 -0.369403\n",
       "3      스틸   5.131895 -0.393850\n",
       "7    w/FT   6.201066 -0.421244\n",
       "6     턴오버   4.299209 -0.487399\n",
       "14   팀 순위  27.550476 -6.185787"
      ]
     },
     "execution_count": 26,
     "metadata": {},
     "output_type": "execute_result"
    }
   ],
   "source": [
    "result_df_t = pd.DataFrame(result_t, columns=['변수','const_t','변수_t'])\n",
    "result_df_t.sort_values('변수_t', ascending=False) # 변수의 t 값에 따라 내림차순 정렬"
   ]
  },
  {
   "cell_type": "markdown",
   "metadata": {},
   "source": [
    "##### 비슷한 원리로, R제곱 값을 구해본다"
   ]
  },
  {
   "cell_type": "code",
   "execution_count": 27,
   "metadata": {},
   "outputs": [],
   "source": [
    "def reg_rs(x_i, y_i):\n",
    "    dfX0 = x_i\n",
    "    dfX = sm.add_constant(dfX0)\n",
    "    dfy = y_i\n",
    "    model_kbl = sm.OLS(dfy, dfX)\n",
    "    result_kbl = model_kbl.fit()\n",
    "    return result_kbl.rsquared"
   ]
  },
  {
   "cell_type": "code",
   "execution_count": 28,
   "metadata": {},
   "outputs": [],
   "source": [
    "xs = list(kbl_base.keys())\n",
    "xs.remove('팀')\n",
    "xs.remove('시즌')\n",
    "xs.remove('관중 수')\n",
    "xs.remove('2점슛 성공률 (%)')\n",
    "xs.remove('3점슛 성공률 (%)')\n",
    "xs.remove('자유투 성공률 (%)')"
   ]
  },
  {
   "cell_type": "code",
   "execution_count": 29,
   "metadata": {},
   "outputs": [],
   "source": [
    "result_rs = {'변수':[],'rs':[]}\n",
    "for x_i in xs:\n",
    "    result_rs['변수'].append(x_i)\n",
    "    result_rs['rs'].append(reg_rs(kbl_base[x_i], kbl_base['관중 수']))"
   ]
  },
  {
   "cell_type": "code",
   "execution_count": 30,
   "metadata": {},
   "outputs": [
    {
     "data": {
      "text/html": [
       "<div>\n",
       "<style>\n",
       "    .dataframe thead tr:only-child th {\n",
       "        text-align: right;\n",
       "    }\n",
       "\n",
       "    .dataframe thead th {\n",
       "        text-align: left;\n",
       "    }\n",
       "\n",
       "    .dataframe tbody tr th {\n",
       "        vertical-align: top;\n",
       "    }\n",
       "</style>\n",
       "<table border=\"1\" class=\"dataframe\">\n",
       "  <thead>\n",
       "    <tr style=\"text-align: right;\">\n",
       "      <th></th>\n",
       "      <th>변수</th>\n",
       "      <th>rs</th>\n",
       "    </tr>\n",
       "  </thead>\n",
       "  <tbody>\n",
       "    <tr>\n",
       "      <th>14</th>\n",
       "      <td>팀 순위</td>\n",
       "      <td>0.194962</td>\n",
       "    </tr>\n",
       "    <tr>\n",
       "      <th>13</th>\n",
       "      <td>교체</td>\n",
       "      <td>0.049798</td>\n",
       "    </tr>\n",
       "    <tr>\n",
       "      <th>8</th>\n",
       "      <td>w/oFT</td>\n",
       "      <td>0.037434</td>\n",
       "    </tr>\n",
       "    <tr>\n",
       "      <th>11</th>\n",
       "      <td>DK</td>\n",
       "      <td>0.015519</td>\n",
       "    </tr>\n",
       "    <tr>\n",
       "      <th>12</th>\n",
       "      <td>DKA</td>\n",
       "      <td>0.014454</td>\n",
       "    </tr>\n",
       "    <tr>\n",
       "      <th>0</th>\n",
       "      <td>득점</td>\n",
       "      <td>0.012102</td>\n",
       "    </tr>\n",
       "    <tr>\n",
       "      <th>9</th>\n",
       "      <td>Tot.</td>\n",
       "      <td>0.005397</td>\n",
       "    </tr>\n",
       "    <tr>\n",
       "      <th>1</th>\n",
       "      <td>리바운드</td>\n",
       "      <td>0.004083</td>\n",
       "    </tr>\n",
       "    <tr>\n",
       "      <th>10</th>\n",
       "      <td>TF</td>\n",
       "      <td>0.003497</td>\n",
       "    </tr>\n",
       "    <tr>\n",
       "      <th>6</th>\n",
       "      <td>턴오버</td>\n",
       "      <td>0.001501</td>\n",
       "    </tr>\n",
       "    <tr>\n",
       "      <th>7</th>\n",
       "      <td>w/FT</td>\n",
       "      <td>0.001122</td>\n",
       "    </tr>\n",
       "    <tr>\n",
       "      <th>3</th>\n",
       "      <td>스틸</td>\n",
       "      <td>0.000981</td>\n",
       "    </tr>\n",
       "    <tr>\n",
       "      <th>2</th>\n",
       "      <td>어시스트</td>\n",
       "      <td>0.000863</td>\n",
       "    </tr>\n",
       "    <tr>\n",
       "      <th>5</th>\n",
       "      <td>3점슛성공</td>\n",
       "      <td>0.000228</td>\n",
       "    </tr>\n",
       "    <tr>\n",
       "      <th>4</th>\n",
       "      <td>블록</td>\n",
       "      <td>0.000001</td>\n",
       "    </tr>\n",
       "  </tbody>\n",
       "</table>\n",
       "</div>"
      ],
      "text/plain": [
       "       변수        rs\n",
       "14   팀 순위  0.194962\n",
       "13     교체  0.049798\n",
       "8   w/oFT  0.037434\n",
       "11     DK  0.015519\n",
       "12    DKA  0.014454\n",
       "0      득점  0.012102\n",
       "9    Tot.  0.005397\n",
       "1    리바운드  0.004083\n",
       "10     TF  0.003497\n",
       "6     턴오버  0.001501\n",
       "7    w/FT  0.001122\n",
       "3      스틸  0.000981\n",
       "2    어시스트  0.000863\n",
       "5   3점슛성공  0.000228\n",
       "4      블록  0.000001"
      ]
     },
     "execution_count": 30,
     "metadata": {},
     "output_type": "execute_result"
    }
   ],
   "source": [
    "result_df_rs = pd.DataFrame(result_rs, columns=['변수','rs'])\n",
    "result_df_rs.sort_values('rs', ascending=False) # 변수의 t 값에 따라 내림차순 정렬"
   ]
  },
  {
   "cell_type": "markdown",
   "metadata": {},
   "source": [
    "##### 이상의 결과를 하나로 합친다"
   ]
  },
  {
   "cell_type": "code",
   "execution_count": 31,
   "metadata": {},
   "outputs": [],
   "source": [
    "result_all = pd.merge(result_df_t, result_df_rs, how='outer', on='변수')"
   ]
  },
  {
   "cell_type": "code",
   "execution_count": 32,
   "metadata": {},
   "outputs": [
    {
     "data": {
      "text/html": [
       "<div>\n",
       "<style>\n",
       "    .dataframe thead tr:only-child th {\n",
       "        text-align: right;\n",
       "    }\n",
       "\n",
       "    .dataframe thead th {\n",
       "        text-align: left;\n",
       "    }\n",
       "\n",
       "    .dataframe tbody tr th {\n",
       "        vertical-align: top;\n",
       "    }\n",
       "</style>\n",
       "<table border=\"1\" class=\"dataframe\">\n",
       "  <thead>\n",
       "    <tr style=\"text-align: right;\">\n",
       "      <th></th>\n",
       "      <th>변수</th>\n",
       "      <th>const_t</th>\n",
       "      <th>변수_t</th>\n",
       "      <th>rs</th>\n",
       "    </tr>\n",
       "  </thead>\n",
       "  <tbody>\n",
       "    <tr>\n",
       "      <th>14</th>\n",
       "      <td>팀 순위</td>\n",
       "      <td>27.550476</td>\n",
       "      <td>-6.185787</td>\n",
       "      <td>0.194962</td>\n",
       "    </tr>\n",
       "    <tr>\n",
       "      <th>13</th>\n",
       "      <td>교체</td>\n",
       "      <td>10.543194</td>\n",
       "      <td>2.877581</td>\n",
       "      <td>0.049798</td>\n",
       "    </tr>\n",
       "    <tr>\n",
       "      <th>8</th>\n",
       "      <td>w/oFT</td>\n",
       "      <td>1.177075</td>\n",
       "      <td>2.478839</td>\n",
       "      <td>0.037434</td>\n",
       "    </tr>\n",
       "    <tr>\n",
       "      <th>11</th>\n",
       "      <td>DK</td>\n",
       "      <td>16.259983</td>\n",
       "      <td>1.578204</td>\n",
       "      <td>0.015519</td>\n",
       "    </tr>\n",
       "    <tr>\n",
       "      <th>12</th>\n",
       "      <td>DKA</td>\n",
       "      <td>16.022110</td>\n",
       "      <td>1.522231</td>\n",
       "      <td>0.014454</td>\n",
       "    </tr>\n",
       "    <tr>\n",
       "      <th>0</th>\n",
       "      <td>득점</td>\n",
       "      <td>1.298752</td>\n",
       "      <td>1.391256</td>\n",
       "      <td>0.012102</td>\n",
       "    </tr>\n",
       "    <tr>\n",
       "      <th>9</th>\n",
       "      <td>Tot.</td>\n",
       "      <td>2.855684</td>\n",
       "      <td>0.925956</td>\n",
       "      <td>0.005397</td>\n",
       "    </tr>\n",
       "    <tr>\n",
       "      <th>1</th>\n",
       "      <td>리바운드</td>\n",
       "      <td>1.872930</td>\n",
       "      <td>0.804824</td>\n",
       "      <td>0.004083</td>\n",
       "    </tr>\n",
       "    <tr>\n",
       "      <th>10</th>\n",
       "      <td>TF</td>\n",
       "      <td>17.866698</td>\n",
       "      <td>0.744620</td>\n",
       "      <td>0.003497</td>\n",
       "    </tr>\n",
       "    <tr>\n",
       "      <th>6</th>\n",
       "      <td>턴오버</td>\n",
       "      <td>4.299209</td>\n",
       "      <td>-0.487399</td>\n",
       "      <td>0.001501</td>\n",
       "    </tr>\n",
       "    <tr>\n",
       "      <th>7</th>\n",
       "      <td>w/FT</td>\n",
       "      <td>6.201066</td>\n",
       "      <td>-0.421244</td>\n",
       "      <td>0.001122</td>\n",
       "    </tr>\n",
       "    <tr>\n",
       "      <th>3</th>\n",
       "      <td>스틸</td>\n",
       "      <td>5.131895</td>\n",
       "      <td>-0.393850</td>\n",
       "      <td>0.000981</td>\n",
       "    </tr>\n",
       "    <tr>\n",
       "      <th>2</th>\n",
       "      <td>어시스트</td>\n",
       "      <td>4.825385</td>\n",
       "      <td>-0.369403</td>\n",
       "      <td>0.000863</td>\n",
       "    </tr>\n",
       "    <tr>\n",
       "      <th>5</th>\n",
       "      <td>3점슛성공</td>\n",
       "      <td>7.180195</td>\n",
       "      <td>-0.189952</td>\n",
       "      <td>0.000228</td>\n",
       "    </tr>\n",
       "    <tr>\n",
       "      <th>4</th>\n",
       "      <td>블록</td>\n",
       "      <td>10.201504</td>\n",
       "      <td>-0.014341</td>\n",
       "      <td>0.000001</td>\n",
       "    </tr>\n",
       "  </tbody>\n",
       "</table>\n",
       "</div>"
      ],
      "text/plain": [
       "       변수    const_t      변수_t        rs\n",
       "14   팀 순위  27.550476 -6.185787  0.194962\n",
       "13     교체  10.543194  2.877581  0.049798\n",
       "8   w/oFT   1.177075  2.478839  0.037434\n",
       "11     DK  16.259983  1.578204  0.015519\n",
       "12    DKA  16.022110  1.522231  0.014454\n",
       "0      득점   1.298752  1.391256  0.012102\n",
       "9    Tot.   2.855684  0.925956  0.005397\n",
       "1    리바운드   1.872930  0.804824  0.004083\n",
       "10     TF  17.866698  0.744620  0.003497\n",
       "6     턴오버   4.299209 -0.487399  0.001501\n",
       "7    w/FT   6.201066 -0.421244  0.001122\n",
       "3      스틸   5.131895 -0.393850  0.000981\n",
       "2    어시스트   4.825385 -0.369403  0.000863\n",
       "5   3점슛성공   7.180195 -0.189952  0.000228\n",
       "4      블록  10.201504 -0.014341  0.000001"
      ]
     },
     "execution_count": 32,
     "metadata": {},
     "output_type": "execute_result"
    }
   ],
   "source": [
    "result_all.sort_values('rs', ascending=False)"
   ]
  },
  {
   "cell_type": "markdown",
   "metadata": {},
   "source": [
    "##### 모든 변수들이 통계적으로 유의미하지 않거나 혹은 통계적으로 유의미해도 현실적으로는 의미가 없다"
   ]
  },
  {
   "cell_type": "markdown",
   "metadata": {},
   "source": [
    "##### 추가적으로 다중회귀분석을 시도한다"
   ]
  },
  {
   "cell_type": "code",
   "execution_count": 33,
   "metadata": {},
   "outputs": [],
   "source": [
    "# 데이터 준비\n",
    "dfX0 = kbl_base.loc[:,['득점','DK']] # 독립변수\n",
    "dfX = sm.add_constant(dfX0) # 자동으로 상수항을 만들어주지 않기 때문에 사용자가 add_constant 명령으로 상수항을 추가해야 한다.\n",
    "dfy1 = kbl_base['관중 수'] # 종속변수"
   ]
  },
  {
   "cell_type": "code",
   "execution_count": 34,
   "metadata": {},
   "outputs": [
    {
     "name": "stdout",
     "output_type": "stream",
     "text": [
      "                  Results: Ordinary least squares\n",
      "===================================================================\n",
      "Model:              OLS              Adj. R-squared:     0.010     \n",
      "Dependent Variable: 관중 수             AIC:                3786.2017 \n",
      "Date:               2018-06-13 11:25 BIC:                3795.4272 \n",
      "No. Observations:   160              Log-Likelihood:     -1890.1   \n",
      "Df Model:           2                F-statistic:        1.843     \n",
      "Df Residuals:       157              Prob (F-statistic): 0.162     \n",
      "R-squared:          0.023            Scale:              1.0877e+09\n",
      "-------------------------------------------------------------------\n",
      "          Coef.     Std.Err.    t    P>|t|     [0.025      0.975]  \n",
      "-------------------------------------------------------------------\n",
      "const   58166.0562 41852.3257 1.3898 0.1666 -24500.2041 140832.3164\n",
      "득점        579.7506   531.1440 1.0915 0.2767   -469.3592   1628.8604\n",
      "DK         90.5406    68.6291 1.3193 0.1890    -45.0149    226.0961\n",
      "-------------------------------------------------------------------\n",
      "Omnibus:               13.626        Durbin-Watson:           1.917\n",
      "Prob(Omnibus):         0.001         Jarque-Bera (JB):        5.573\n",
      "Skew:                  0.179         Prob(JB):                0.062\n",
      "Kurtosis:              2.159         Condition No.:           1951 \n",
      "===================================================================\n",
      "* The condition number is large (2e+03). This might indicate\n",
      "strong multicollinearity or other numerical problems.\n"
     ]
    }
   ],
   "source": [
    "# model_boston2라는 이름으로 OLS 모델 구조화\n",
    "model_kbl = sm.OLS(dfy, dfX) # (종속변수, 독립변수)\n",
    "\n",
    "# OLS 회귀모형 피팅\n",
    "result_kbl = model_kbl.fit()\n",
    "\n",
    "# 회귀분석 결과 요약\n",
    "print(result_kbl.summary2())"
   ]
  },
  {
   "cell_type": "markdown",
   "metadata": {},
   "source": [
    "##### 이상의 과정을 함수로 만든다.\n",
    "##### 이번에는 t값과 r값을 함께 구하는 함수를 정의한다"
   ]
  },
  {
   "cell_type": "code",
   "execution_count": 35,
   "metadata": {},
   "outputs": [],
   "source": [
    "def reg_2(x_i, y_i): #이 때 x_i는 원소가 2개인 튜플\n",
    "    dfX0 =kbl_base.loc[:,[x_i[0], x_i[1]]]\n",
    "    dfX = sm.add_constant(dfX0)\n",
    "    dfy = y_i\n",
    "    model_kbl = sm.OLS(dfy, dfX)\n",
    "    result_kbl = model_kbl.fit()\n",
    "    package_out = (result_kbl.tvalues, result_kbl.rsquared)\n",
    "    return package_out"
   ]
  },
  {
   "cell_type": "markdown",
   "metadata": {},
   "source": [
    "##### 사용할 다중회귀의 조합은 다음과 같다"
   ]
  },
  {
   "cell_type": "code",
   "execution_count": 40,
   "metadata": {},
   "outputs": [],
   "source": [
    "reg_2_keys = (('득점','리바운드'),('득점','어시스트'),('득점','스틸'),('득점','3점슛성공'),('득점','2점슛 성공률 (%)'),('득점','3점슛 성공률 (%)'),('득점','자유투 성공률 (%)'),('득점', 'DK'))"
   ]
  },
  {
   "cell_type": "markdown",
   "metadata": {},
   "source": [
    "##### t와 r에 대하여 주어진 조합에서 회귀분석을 진행한다"
   ]
  },
  {
   "cell_type": "code",
   "execution_count": 41,
   "metadata": {},
   "outputs": [
    {
     "data": {
      "text/plain": [
       "0.013656657086454693"
      ]
     },
     "execution_count": 41,
     "metadata": {},
     "output_type": "execute_result"
    }
   ],
   "source": [
    "reg_2(reg_2_keys[0], kbl_base['관중 수'])[1]"
   ]
  },
  {
   "cell_type": "code",
   "execution_count": 42,
   "metadata": {},
   "outputs": [],
   "source": [
    "result_reg2 = {'변수':[], 'const_t':[], '변수1_t':[], '변수2_t':[], 'r':[]}\n",
    "for x_i in reg_2_keys:\n",
    "    result_reg2['변수'].append(x_i)\n",
    "    result_reg2['const_t'].append(reg_2(x_i, kbl_base['관중 수'])[0][0])\n",
    "    result_reg2['변수1_t'].append(reg_2(x_i, kbl_base['관중 수'])[0][1])\n",
    "    result_reg2['변수2_t'].append(reg_2(x_i, kbl_base['관중 수'])[0][2])\n",
    "    result_reg2['r'].append(reg_2(x_i, kbl_base['관중 수'])[1])\n",
    "    "
   ]
  },
  {
   "cell_type": "code",
   "execution_count": 43,
   "metadata": {},
   "outputs": [
    {
     "data": {
      "text/html": [
       "<div>\n",
       "<style>\n",
       "    .dataframe thead tr:only-child th {\n",
       "        text-align: right;\n",
       "    }\n",
       "\n",
       "    .dataframe thead th {\n",
       "        text-align: left;\n",
       "    }\n",
       "\n",
       "    .dataframe tbody tr th {\n",
       "        vertical-align: top;\n",
       "    }\n",
       "</style>\n",
       "<table border=\"1\" class=\"dataframe\">\n",
       "  <thead>\n",
       "    <tr style=\"text-align: right;\">\n",
       "      <th></th>\n",
       "      <th>변수</th>\n",
       "      <th>const_t</th>\n",
       "      <th>변수1_t</th>\n",
       "      <th>변수2_t</th>\n",
       "      <th>r</th>\n",
       "    </tr>\n",
       "  </thead>\n",
       "  <tbody>\n",
       "    <tr>\n",
       "      <th>0</th>\n",
       "      <td>(득점, 리바운드)</td>\n",
       "      <td>0.709889</td>\n",
       "      <td>1.234460</td>\n",
       "      <td>0.497402</td>\n",
       "      <td>0.013657</td>\n",
       "    </tr>\n",
       "    <tr>\n",
       "      <th>1</th>\n",
       "      <td>(득점, 어시스트)</td>\n",
       "      <td>1.054640</td>\n",
       "      <td>2.302502</td>\n",
       "      <td>-1.864341</td>\n",
       "      <td>0.033499</td>\n",
       "    </tr>\n",
       "    <tr>\n",
       "      <th>2</th>\n",
       "      <td>(득점, 스틸)</td>\n",
       "      <td>1.475466</td>\n",
       "      <td>1.569458</td>\n",
       "      <td>-0.829448</td>\n",
       "      <td>0.016412</td>\n",
       "    </tr>\n",
       "    <tr>\n",
       "      <th>3</th>\n",
       "      <td>(득점, 3점슛성공)</td>\n",
       "      <td>1.082875</td>\n",
       "      <td>1.763332</td>\n",
       "      <td>-1.098983</td>\n",
       "      <td>0.019644</td>\n",
       "    </tr>\n",
       "    <tr>\n",
       "      <th>4</th>\n",
       "      <td>(득점, 2점슛 성공률 (%))</td>\n",
       "      <td>-1.074113</td>\n",
       "      <td>-1.769717</td>\n",
       "      <td>3.586378</td>\n",
       "      <td>0.086907</td>\n",
       "    </tr>\n",
       "    <tr>\n",
       "      <th>5</th>\n",
       "      <td>(득점, 3점슛 성공률 (%))</td>\n",
       "      <td>0.053818</td>\n",
       "      <td>0.397272</td>\n",
       "      <td>1.926993</td>\n",
       "      <td>0.034928</td>\n",
       "    </tr>\n",
       "    <tr>\n",
       "      <th>6</th>\n",
       "      <td>(득점, 자유투 성공률 (%))</td>\n",
       "      <td>0.047963</td>\n",
       "      <td>1.037095</td>\n",
       "      <td>1.035678</td>\n",
       "      <td>0.018806</td>\n",
       "    </tr>\n",
       "    <tr>\n",
       "      <th>7</th>\n",
       "      <td>(득점, DK)</td>\n",
       "      <td>1.389793</td>\n",
       "      <td>1.091513</td>\n",
       "      <td>1.319273</td>\n",
       "      <td>0.022934</td>\n",
       "    </tr>\n",
       "  </tbody>\n",
       "</table>\n",
       "</div>"
      ],
      "text/plain": [
       "                  변수   const_t     변수1_t     변수2_t         r\n",
       "0         (득점, 리바운드)  0.709889  1.234460  0.497402  0.013657\n",
       "1         (득점, 어시스트)  1.054640  2.302502 -1.864341  0.033499\n",
       "2           (득점, 스틸)  1.475466  1.569458 -0.829448  0.016412\n",
       "3        (득점, 3점슛성공)  1.082875  1.763332 -1.098983  0.019644\n",
       "4  (득점, 2점슛 성공률 (%)) -1.074113 -1.769717  3.586378  0.086907\n",
       "5  (득점, 3점슛 성공률 (%))  0.053818  0.397272  1.926993  0.034928\n",
       "6  (득점, 자유투 성공률 (%))  0.047963  1.037095  1.035678  0.018806\n",
       "7           (득점, DK)  1.389793  1.091513  1.319273  0.022934"
      ]
     },
     "execution_count": 43,
     "metadata": {},
     "output_type": "execute_result"
    }
   ],
   "source": [
    "pd.DataFrame(result_reg2, columns=('변수', 'const_t', '변수1_t', '변수2_t', 'r'))"
   ]
  },
  {
   "cell_type": "markdown",
   "metadata": {},
   "source": [
    "##### 다중회귀분석을 이용하더라도 모든 변수들이 통계적으로 유의미하지 않거나 혹은 통계적으로 유의미해도 현실적으로는 의미가 없다"
   ]
  },
  {
   "cell_type": "code",
   "execution_count": 92,
   "metadata": {},
   "outputs": [
    {
     "data": {
      "image/png": "[encoded data removed]",
      "text/plain": [
       "<matplotlib.figure.Figure at 0x32b9270>"
      ]
     },
     "metadata": {},
     "output_type": "display_data"
    },
    {
     "data": {
      "image/png": "[encoded data removed]",
      "text/plain": [
       "<matplotlib.figure.Figure at 0xc727110>"
      ]
     },
     "metadata": {},
     "output_type": "display_data"
    }
   ],
   "source": [
    "x = kbl_base.loc[:, ['2점슛 성공률 (%)']]\n",
    "y = kbl_base.loc[:, ['득점']]\n",
    "plt.ylim(50,100)\n",
    "plt.xlim(45,60)\n",
    "plt.xlabel('2점슛 성공률')\n",
    "plt.ylabel('득점')\n",
    "plt.scatter(x, y, alpha=1)\n",
    "plt.show()\n",
    "\n",
    "x = kbl_base.loc[:, ['3점슛 성공률 (%)']]\n",
    "y = kbl_base.loc[:, ['득점']]\n",
    "plt.ylim(50,100)\n",
    "plt.xlim(30,40)\n",
    "plt.xlabel('2점슛 성공률')\n",
    "plt.ylabel('득점')\n",
    "plt.scatter(x, y, alpha=1)\n",
    "plt.show()"
   ]
  },
  {
   "cell_type": "markdown",
   "metadata": {},
   "source": [
    "##### 득점에 대한 상관관계"
   ]
  },
  {
   "cell_type": "code",
   "execution_count": null,
   "metadata": {},
   "outputs": [],
   "source": [
    "kbl_base.loc[:, ['득점', '2점슛 성공률 (%)']]"
   ]
  },
  {
   "cell_type": "code",
   "execution_count": null,
   "metadata": {},
   "outputs": [],
   "source": []
  },
  {
   "cell_type": "code",
   "execution_count": null,
   "metadata": {},
   "outputs": [],
   "source": []
  },
  {
   "cell_type": "markdown",
   "metadata": {},
   "source": [
    "#### 다른 데이터를 이용한 분석\n",
    "##### 용병 비율에 따른 데이터"
   ]
  },
  {
   "cell_type": "code",
   "execution_count": 44,
   "metadata": {},
   "outputs": [],
   "source": [
    "kbl_merc_ratio = pd.read_excel('국내와 용병의 비중.xlsx')"
   ]
  },
  {
   "cell_type": "code",
   "execution_count": 45,
   "metadata": {},
   "outputs": [
    {
     "name": "stderr",
     "output_type": "stream",
     "text": [
      "C:\\Users\\SungKyu\\Anaconda3\\lib\\site-packages\\ipykernel_launcher.py:2: SettingWithCopyWarning: \n",
      "A value is trying to be set on a copy of a slice from a DataFrame\n",
      "\n",
      "See the caveats in the documentation: http://pandas.pydata.org/pandas-docs/stable/indexing.html#indexing-view-versus-copy\n",
      "  \n"
     ]
    }
   ],
   "source": [
    "for i in range(len(kbl_merc_ratio['시즌'])):\n",
    "    kbl_merc_ratio['시즌'][i] = int(kbl_merc_ratio['시즌'][i].split('~')[0])+2000"
   ]
  },
  {
   "cell_type": "code",
   "execution_count": 46,
   "metadata": {},
   "outputs": [
    {
     "data": {
      "text/html": [
       "<div>\n",
       "<style>\n",
       "    .dataframe thead tr:only-child th {\n",
       "        text-align: right;\n",
       "    }\n",
       "\n",
       "    .dataframe thead th {\n",
       "        text-align: left;\n",
       "    }\n",
       "\n",
       "    .dataframe tbody tr th {\n",
       "        vertical-align: top;\n",
       "    }\n",
       "</style>\n",
       "<table border=\"1\" class=\"dataframe\">\n",
       "  <thead>\n",
       "    <tr style=\"text-align: right;\">\n",
       "      <th></th>\n",
       "      <th>팀</th>\n",
       "      <th>평균득점</th>\n",
       "      <th>국내선수 득점</th>\n",
       "      <th>용병선수 득점</th>\n",
       "      <th>국내선수 득점 비중</th>\n",
       "      <th>용병선수 득점 비중</th>\n",
       "      <th>관객</th>\n",
       "      <th>순위</th>\n",
       "      <th>시즌</th>\n",
       "    </tr>\n",
       "  </thead>\n",
       "  <tbody>\n",
       "    <tr>\n",
       "      <th>0</th>\n",
       "      <td>여수 코리아텐더</td>\n",
       "      <td>84.2</td>\n",
       "      <td>84.2</td>\n",
       "      <td>0.0</td>\n",
       "      <td>1.000000</td>\n",
       "      <td>0.000000</td>\n",
       "      <td>75117</td>\n",
       "      <td>4</td>\n",
       "      <td>2002</td>\n",
       "    </tr>\n",
       "    <tr>\n",
       "      <th>1</th>\n",
       "      <td>여수 코리아텐더</td>\n",
       "      <td>89.1</td>\n",
       "      <td>89.1</td>\n",
       "      <td>0.0</td>\n",
       "      <td>1.000000</td>\n",
       "      <td>0.000000</td>\n",
       "      <td>69351</td>\n",
       "      <td>7</td>\n",
       "      <td>2001</td>\n",
       "    </tr>\n",
       "    <tr>\n",
       "      <th>2</th>\n",
       "      <td>창원LG</td>\n",
       "      <td>80.5</td>\n",
       "      <td>63.9</td>\n",
       "      <td>16.6</td>\n",
       "      <td>0.793789</td>\n",
       "      <td>0.206211</td>\n",
       "      <td>128571</td>\n",
       "      <td>5</td>\n",
       "      <td>2010</td>\n",
       "    </tr>\n",
       "    <tr>\n",
       "      <th>3</th>\n",
       "      <td>원주동부</td>\n",
       "      <td>75.2</td>\n",
       "      <td>55.6</td>\n",
       "      <td>19.6</td>\n",
       "      <td>0.739362</td>\n",
       "      <td>0.260638</td>\n",
       "      <td>100899</td>\n",
       "      <td>1</td>\n",
       "      <td>2011</td>\n",
       "    </tr>\n",
       "    <tr>\n",
       "      <th>4</th>\n",
       "      <td>부산KT</td>\n",
       "      <td>74.1</td>\n",
       "      <td>53.8</td>\n",
       "      <td>20.3</td>\n",
       "      <td>0.726046</td>\n",
       "      <td>0.273954</td>\n",
       "      <td>189284</td>\n",
       "      <td>3</td>\n",
       "      <td>2011</td>\n",
       "    </tr>\n",
       "  </tbody>\n",
       "</table>\n",
       "</div>"
      ],
      "text/plain": [
       "          팀  평균득점  국내선수 득점  용병선수 득점  국내선수 득점 비중  용병선수 득점 비중      관객  순위    시즌\n",
       "0  여수 코리아텐더  84.2     84.2      0.0    1.000000    0.000000   75117   4  2002\n",
       "1  여수 코리아텐더  89.1     89.1      0.0    1.000000    0.000000   69351   7  2001\n",
       "2      창원LG  80.5     63.9     16.6    0.793789    0.206211  128571   5  2010\n",
       "3      원주동부  75.2     55.6     19.6    0.739362    0.260638  100899   1  2011\n",
       "4      부산KT  74.1     53.8     20.3    0.726046    0.273954  189284   3  2011"
      ]
     },
     "execution_count": 46,
     "metadata": {},
     "output_type": "execute_result"
    }
   ],
   "source": [
    "kbl_merc_ratio.head()"
   ]
  },
  {
   "cell_type": "code",
   "execution_count": 122,
   "metadata": {},
   "outputs": [
    {
     "data": {
      "image/png": "[encoded data removed]",
      "text/plain": [
       "<matplotlib.figure.Figure at 0xbcf0290>"
      ]
     },
     "metadata": {},
     "output_type": "display_data"
    }
   ],
   "source": [
    "x = kbl_merc_ratio['순위']\n",
    "y = kbl_merc_ratio['관객']\n",
    "plt.ylim(0,200000)\n",
    "plt.xlabel('순위')\n",
    "plt.ylabel('관객')\n",
    "plt.scatter(x, y, alpha=1)\n",
    "plt.show()"
   ]
  },
  {
   "cell_type": "code",
   "execution_count": 123,
   "metadata": {},
   "outputs": [
    {
     "data": {
      "image/png": "[encoded data removed]",
      "text/plain": [
       "<matplotlib.figure.Figure at 0xbcf0270>"
      ]
     },
     "metadata": {},
     "output_type": "display_data"
    }
   ],
   "source": [
    "x = kbl_merc_ratio['국내선수 득점 비중']\n",
    "y = kbl_merc_ratio['관객']\n",
    "plt.ylim(0,200000)\n",
    "plt.xlabel('국내선수 득점 비중')\n",
    "plt.ylabel('관객')\n",
    "plt.scatter(x, y, alpha=1)\n",
    "plt.show()"
   ]
  },
  {
   "cell_type": "markdown",
   "metadata": {},
   "source": [
    "##### 회귀분석을 시도한다"
   ]
  },
  {
   "cell_type": "code",
   "execution_count": 124,
   "metadata": {},
   "outputs": [
    {
     "name": "stdout",
     "output_type": "stream",
     "text": [
      "                    Results: Ordinary least squares\n",
      "=======================================================================\n",
      "Model:                OLS               Adj. R-squared:      -0.003    \n",
      "Dependent Variable:   관객                AIC:                 3787.3854 \n",
      "Date:                 2018-06-13 00:01  BIC:                 3793.5358 \n",
      "No. Observations:     160               Log-Likelihood:      -1891.7   \n",
      "Df Model:             1                 F-statistic:         0.5227    \n",
      "Df Residuals:         158               Prob (F-statistic):  0.471     \n",
      "R-squared:            0.003             Scale:               1.1025e+09\n",
      "-----------------------------------------------------------------------\n",
      "              Coef.     Std.Err.    t    P>|t|     [0.025      0.975]  \n",
      "-----------------------------------------------------------------------\n",
      "const      101801.3230 14979.1568 6.7962 0.0000  72216.1091 131386.5369\n",
      "국내선수 득점 비중  18880.5756 26114.5409 0.7230 0.4708 -32698.0471  70459.1983\n",
      "-----------------------------------------------------------------------\n",
      "Omnibus:                 10.485         Durbin-Watson:            1.866\n",
      "Prob(Omnibus):           0.005          Jarque-Bera (JB):         4.732\n",
      "Skew:                    0.154          Prob(JB):                 0.094\n",
      "Kurtosis:                2.216          Condition No.:            13   \n",
      "=======================================================================\n",
      "\n"
     ]
    }
   ],
   "source": [
    "# 데이터 준비\n",
    "dfX0 = kbl_merc_ratio['국내선수 득점 비중'] # 독립변수\n",
    "dfX = sm.add_constant(dfX0)\n",
    "dfy = kbl_merc_ratio['관객'] # 종속변수\n",
    "# model_boston2라는 이름으로 OLS 모델 구조화\n",
    "model_kbl_merc = sm.OLS(dfy, dfX) # (종속변수, 독립변수)\n",
    "\n",
    "# OLS 회귀모형 피팅\n",
    "result_kbl_merc = model_kbl_merc.fit()\n",
    "\n",
    "# 회귀분석 결과 요약\n",
    "print(result_kbl_merc.summary2())"
   ]
  },
  {
   "cell_type": "code",
   "execution_count": 125,
   "metadata": {},
   "outputs": [
    {
     "data": {
      "image/png": "[encoded data removed]",
      "text/plain": [
       "<matplotlib.figure.Figure at 0x2eefcd0>"
      ]
     },
     "metadata": {},
     "output_type": "display_data"
    }
   ],
   "source": [
    "x = kbl_merc_ratio['국내선수 득점 비중']\n",
    "y = kbl_merc_ratio['관객']\n",
    "y2 = x*result_kbl_merc.params[1] + result_kbl_merc.params[0]\n",
    "plt.scatter(x, y, alpha=1)\n",
    "plt.plot(x ,y2,'r')\n",
    "plt.ylim(0,200000)\n",
    "plt.xlabel('국내선수 득점 비중')\n",
    "plt.ylabel('관객')\n",
    "plt.show()"
   ]
  },
  {
   "cell_type": "markdown",
   "metadata": {},
   "source": [
    "### 5. 시사점\n",
    "\n",
    "분석을 통한 결과, 경기에 기록이 되는 경기 데이터들은 굉장히 많은 요인들이 있지만, 이 많은 요인들은 큰 상관관계를 갖지 못했다. 득점이 곧 관중 수에 영향을 끼칠 것이라고 했던 총재의 말은 큰 영향이 없는 요인들이었다. 최근 11년 동안의 평균 득점과 관중 수를 봤을 때, 오히려 득점이 적었던 시즌에 관중 수가 대체로 많았다. 그리고 총재가 내걸었던 용병출전 방식에 따라서 관중 수가 다른 것을 알 수 있고, 두 명 출전 했던 시즌보단 한 명이 출전했던 시즌에 관중 수가 더 많았다. \n",
    "\n",
    "   전체 관중 수를 분석한 결과 위와 같이 나왔고, 세부적으로 각 팀마다 10년 동안의 기록들을 분석해서 관중 수에 영향을 미쳤는지 분석을 했다. 그 결과, 역시 큰 상관관계가 나타나지 않았다. 하지만 두 요인이 영향을 끼쳤는데 바로 각 팀의 시즌 순위와 국내 선수의 득점 비중이 영향을 끼쳤다. 기본적으로 순위가 상위권일수록 많은 관중 수를 차지했다. 뚜렷한 우하향을 보여주는 그래프가 나타난다. 그리고 국내 선수들의 득점 비중이 많을수록 많은 관중 수를 차지했다. 어느 정도 우상향을 보여주는 그래프가 나타난다. 하지만 순위가 높을수록 많은 관중 수를 모을 수 있지만, 최근 프로농구 전체 관중 수가 많이 줄어들어서 상위권과 하위권의 관중 수 차이가 많이 나지 않고 있다. 이 이유를 국내 선수들의 득점 비중이라고 결론을 지었다. 용병 두 명 출전이 이어지면서 관중 수가 줄어들었고, 국내 선수들의 비중이 동시에 줄어들었다. 용병 한 명 출전일 때, 약 120만 명의 관중을 모았지만, 두 명 출전을 하면서 100만 명, 90만 명, 70만 명으로 하락했다. 국내 선수들의 활약이 두드러지면서 높은 성적을 얻는 팀이 많은 관중을 모을 수 있다는 결론을 냈다.\n",
    "\n",
    "   결국은 국내 선수들의 득점 비중이 많아져야 많은 관중을 모을 수 있다. 단기적으로는 용병 두 명 출전보다는 한 명 출전을 통해서 국내 선수들의 비중을 늘리는 방안이 더 나을 수 있다. 장기적으로는 국내 농구 선수 유망주들을 발굴하면서 더욱 전폭적인 지원이 이루어져야 한다고 본다. 앞으로 프로농구를 이끌어 갈 미래 인재들이기에 유망주들의 실력이 늘어야 나중에 많은 관중을 모을 수 있을것으로 본다."
   ]
  },
  {
   "cell_type": "code",
   "execution_count": null,
   "metadata": {},
   "outputs": [],
   "source": []
  }
 ],
 "metadata": {
  "kernelspec": {
   "display_name": "Python 3",
   "language": "python",
   "name": "python3"
  },
  "language_info": {
   "codemirror_mode": {
    "name": "ipython",
    "version": 3
   },
   "file_extension": ".py",
   "mimetype": "text/x-python",
   "name": "python",
   "nbconvert_exporter": "python",
   "pygments_lexer": "ipython3",
   "version": "3.6.1"
  }
 },
 "nbformat": 4,
 "nbformat_minor": 2
}
